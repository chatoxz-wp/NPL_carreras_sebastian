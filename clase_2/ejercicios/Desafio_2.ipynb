{
 "cells": [
  {
   "cell_type": "markdown",
   "metadata": {},
   "source": [
    "## Ejercicio\n",
    "\n",
    "- Tomar un ejemplo de los bots utilizados (uno de los dos) y construir el propio.\n",
    "- Sacar conclusiones de los resultados.\n",
    "\n",
    "__IMPORTANTE__: Recuerde para la entrega del ejercicio debe quedar registrado en el colab las preguntas y las respuestas del BOT para que podamos evaluar el desempeño final.\n"
   ]
  },
  {
   "cell_type": "markdown",
   "metadata": {},
   "source": [
    "# Desarrollo"
   ]
  },
  {
   "cell_type": "markdown",
   "metadata": {},
   "source": [
    "## Librerias"
   ]
  },
  {
   "cell_type": "code",
   "execution_count": 1,
   "metadata": {},
   "outputs": [],
   "source": [
    "import pandas as pd\n",
    "import matplotlib.pyplot as plt\n",
    "import seaborn as sns\n",
    "import os\n",
    "import unicodedata\n",
    "\n",
    "import multiprocessing\n",
    "from gensim.models import Word2Vec"
   ]
  },
  {
   "cell_type": "code",
   "execution_count": 2,
   "metadata": {},
   "outputs": [
    {
     "data": {
      "text/plain": [
       "['Alejandro Dumas - El Conde de Montecristo.pdf',\n",
       " 'El_Conde_de_Montecristo.txt',\n",
       " 'Sun_Tzu_El_Arte_de_la_Guerra.txt',\n",
       " 'Alejandro Dumas - Los Tres Mosqueteros.pdf',\n",
       " 'Sun Tzu - El Arte de la Guerra.pdf',\n",
       " 'Los_Tres_Mosqueteros.txt',\n",
       " 'Julio Verne - La Vuelta al Mundo en 80 dias.pdf',\n",
       " 'Julio_Verne_La_Vuelta_al_Mundo_en_80_dias.txt']"
      ]
     },
     "execution_count": 2,
     "metadata": {},
     "output_type": "execute_result"
    }
   ],
   "source": [
    "# Posibles bandas\n",
    "os.listdir(\"./libro_dataset\")"
   ]
  },
  {
   "cell_type": "code",
   "execution_count": 3,
   "metadata": {},
   "outputs": [
    {
     "name": "stderr",
     "output_type": "stream",
     "text": [
      "/var/folders/sp/hjjl899x4js87jvp7rfdpj2w0000gn/T/ipykernel_26458/1763536272.py:3: ParserWarning: Falling back to the 'python' engine because the 'c' engine does not support regex separators (separators > 1 char and different from '\\s+' are interpreted as regex); you can avoid this warning by specifying engine='python'.\n",
      "  df = pd.read_csv('libro_dataset/Los_Tres_Mosqueteros.txt', sep='/n', header=None, names=['texto'])\n"
     ]
    },
    {
     "data": {
      "application/vnd.microsoft.datawrangler.viewer.v0+json": {
       "columns": [
        {
         "name": "index",
         "rawType": "int64",
         "type": "integer"
        },
        {
         "name": "texto",
         "rawType": "object",
         "type": "string"
        }
       ],
       "conversionMethod": "pd.DataFrame",
       "ref": "9391fb39-5960-49e9-80aa-d01345cad7e5",
       "rows": [
        [
         "0",
         "Los Tres Mosqueteros"
        ],
        [
         "1",
         "Alejandro Dumas"
        ],
        [
         "2",
         "textos.info"
        ],
        [
         "3",
         "Biblioteca digital abierta"
        ],
        [
         "4",
         "1"
        ]
       ],
       "shape": {
        "columns": 1,
        "rows": 5
       }
      },
      "text/html": [
       "<div>\n",
       "<style scoped>\n",
       "    .dataframe tbody tr th:only-of-type {\n",
       "        vertical-align: middle;\n",
       "    }\n",
       "\n",
       "    .dataframe tbody tr th {\n",
       "        vertical-align: top;\n",
       "    }\n",
       "\n",
       "    .dataframe thead th {\n",
       "        text-align: right;\n",
       "    }\n",
       "</style>\n",
       "<table border=\"1\" class=\"dataframe\">\n",
       "  <thead>\n",
       "    <tr style=\"text-align: right;\">\n",
       "      <th></th>\n",
       "      <th>texto</th>\n",
       "    </tr>\n",
       "  </thead>\n",
       "  <tbody>\n",
       "    <tr>\n",
       "      <th>0</th>\n",
       "      <td>Los Tres Mosqueteros</td>\n",
       "    </tr>\n",
       "    <tr>\n",
       "      <th>1</th>\n",
       "      <td>Alejandro Dumas</td>\n",
       "    </tr>\n",
       "    <tr>\n",
       "      <th>2</th>\n",
       "      <td>textos.info</td>\n",
       "    </tr>\n",
       "    <tr>\n",
       "      <th>3</th>\n",
       "      <td>Biblioteca digital abierta</td>\n",
       "    </tr>\n",
       "    <tr>\n",
       "      <th>4</th>\n",
       "      <td>1</td>\n",
       "    </tr>\n",
       "  </tbody>\n",
       "</table>\n",
       "</div>"
      ],
      "text/plain": [
       "                        texto\n",
       "0        Los Tres Mosqueteros\n",
       "1             Alejandro Dumas\n",
       "2                 textos.info\n",
       "3  Biblioteca digital abierta\n",
       "4                           1"
      ]
     },
     "execution_count": 3,
     "metadata": {},
     "output_type": "execute_result"
    }
   ],
   "source": [
    "# Armar el dataset utilizando salto de línea para separar las oraciones/docs\n",
    "#df = pd.read_csv('libro_dataset/Julio_Verne_La_Vuelta_al_Mundo_en_80_dias.txt', sep='/n', header=None, names=['texto'])\n",
    "df = pd.read_csv('libro_dataset/Los_Tres_Mosqueteros.txt', sep='/n', header=None, names=['texto'])\n",
    "df.head()"
   ]
  },
  {
   "cell_type": "code",
   "execution_count": 4,
   "metadata": {},
   "outputs": [
    {
     "name": "stdout",
     "output_type": "stream",
     "text": [
      "Cantidad de documentos: 22743\n"
     ]
    }
   ],
   "source": [
    "print(\"Cantidad de documentos:\", df.shape[0])"
   ]
  },
  {
   "cell_type": "markdown",
   "metadata": {},
   "source": [
    "#  Preprocesamiento"
   ]
  },
  {
   "cell_type": "code",
   "execution_count": 5,
   "metadata": {},
   "outputs": [],
   "source": [
    "# Pasar todo a minúsculas\n",
    "df['texto'] = df['texto'].str.lower()\n",
    "# Eliminar puntuación\n",
    "df['texto'] = df['texto'].str.replace(r'[^\\w\\s]', '', regex=True)\n",
    "# Sacar numeros? Me parece que ayuda sacar los numeros ya estan los numeros de las \n",
    "# paginas incluidos lo cual agrega ruido\n",
    "#df['texto'] = df['texto'].str.replace(r'\\d+', '', regex=True)"
   ]
  },
  {
   "cell_type": "code",
   "execution_count": 6,
   "metadata": {},
   "outputs": [],
   "source": [
    "# Función para quitar acentos de una cadena\n",
    "def quitar_acentos(texto):\n",
    "    if isinstance(texto, str):\n",
    "        texto = unicodedata.normalize('NFKD', texto)\n",
    "        texto = texto.encode('ASCII', 'ignore').decode('utf-8')\n",
    "    return texto\n",
    "\n",
    "# Aplicar la función a la columna de texto\n",
    "df['texto'] = df['texto'].apply(quitar_acentos)"
   ]
  },
  {
   "cell_type": "code",
   "execution_count": 7,
   "metadata": {},
   "outputs": [
    {
     "name": "stderr",
     "output_type": "stream",
     "text": [
      "[nltk_data] Downloading package stopwords to\n",
      "[nltk_data]     /Users/sebastiancarreras/nltk_data...\n",
      "[nltk_data]   Package stopwords is already up-to-date!\n"
     ]
    }
   ],
   "source": [
    "# Importar librerías\n",
    "import nltk\n",
    "import re\n",
    "nltk.download('stopwords')\n",
    "from nltk.corpus import stopwords\n",
    "\n",
    "# Stopwords en español\n",
    "#stopwords_es = set(stopwords.words('spanish'))\n",
    "stopwords_es = set([\n",
    "    'el', 'la', 'los', 'las', 'un', 'una', 'unos', 'unas',\n",
    "    'de', 'del', 'al', 'a', 'ante', 'bajo', 'cabe', 'con', 'contra', 'desde', 'en', 'entre', 'hacia', 'hasta', 'para', 'por', 'según', 'sin', 'sobre', 'tras',\n",
    "    'y', 'e', 'ni', 'o', 'u', 'pero', 'sino', 'aunque', 'mientras', 'como', 'cuando', 'donde', 'si', 'porque', 'pues', 'que'\n",
    "])\n",
    "\n"
   ]
  },
  {
   "cell_type": "code",
   "execution_count": 8,
   "metadata": {},
   "outputs": [
    {
     "name": "stdout",
     "output_type": "stream",
     "text": [
      "Cantidad de documentos: 22743\n"
     ]
    }
   ],
   "source": [
    "print(\"Cantidad de documentos:\", df.shape[0])"
   ]
  },
  {
   "cell_type": "code",
   "execution_count": 9,
   "metadata": {},
   "outputs": [
    {
     "name": "stderr",
     "output_type": "stream",
     "text": [
      "/var/folders/sp/hjjl899x4js87jvp7rfdpj2w0000gn/T/ipykernel_26458/2536677296.py:8: FutureWarning: Series.__getitem__ treating keys as positions is deprecated. In a future version, integer keys will always be treated as labels (consistent with DataFrame behavior). To access a value by position, use `ser.iloc[pos]`\n",
      "  tokens = text_to_word_sequence(row[0])\n"
     ]
    }
   ],
   "source": [
    "#!pip install --upgrade tensorflow\n",
    "#from keras.preprocessing.text import text_to_word_sequence\n",
    "from tensorflow.keras.preprocessing.text import text_to_word_sequence\n",
    "\n",
    "sentence_tokens = []\n",
    "# Recorrer todas las filas y transformar las oraciones\n",
    "for _, row in df[:None].iterrows():\n",
    "    tokens = text_to_word_sequence(row[0])\n",
    "    tokens_filtrados = [t for t in tokens if t not in stopwords_es] #Eliminar stopwords \n",
    "    sentence_tokens.append(tokens)"
   ]
  },
  {
   "cell_type": "code",
   "execution_count": 10,
   "metadata": {},
   "outputs": [
    {
     "data": {
      "text/plain": [
       "[['los', 'tres', 'mosqueteros'],\n",
       " ['alejandro', 'dumas'],\n",
       " ['textosinfo'],\n",
       " ['biblioteca', 'digital', 'abierta'],\n",
       " ['1'],\n",
       " ['texto', 'num', '172'],\n",
       " ['titulo', 'los', 'tres', 'mosqueteros'],\n",
       " ['autor', 'alejandro', 'dumas'],\n",
       " ['etiquetas', 'novela'],\n",
       " ['editor', 'edu', 'robsy'],\n",
       " ['fecha', 'de', 'creacion', '16', 'de', 'mayo', 'de', '2016'],\n",
       " ['fecha', 'de', 'modificacion', '16', 'de', 'mayo', 'de', '2016'],\n",
       " ['edita', 'textosinfo'],\n",
       " ['maison', 'carree'],\n",
       " ['c', 'ramal', '48'],\n",
       " ['07730', 'alayor', 'menorca'],\n",
       " ['islas', 'baleares'],\n",
       " ['espana'],\n",
       " ['mas', 'textos', 'disponibles', 'en', 'httpwwwtextosinfo'],\n",
       " ['2'],\n",
       " ['prefacio'],\n",
       " ['en',\n",
       "  'el',\n",
       "  'que',\n",
       "  'se',\n",
       "  'race',\n",
       "  'constar',\n",
       "  'que',\n",
       "  'pese',\n",
       "  'a',\n",
       "  'sus',\n",
       "  'nombres',\n",
       "  'en'],\n",
       " ['os',\n",
       "  'y',\n",
       "  'en',\n",
       "  'is',\n",
       "  'los',\n",
       "  'heroes',\n",
       "  'de',\n",
       "  'la',\n",
       "  'historia',\n",
       "  'que',\n",
       "  'vamos',\n",
       "  'a'],\n",
       " ['tener',\n",
       "  'el',\n",
       "  'honor',\n",
       "  'de',\n",
       "  'contar',\n",
       "  'a',\n",
       "  'nuestros',\n",
       "  'lectores',\n",
       "  'no',\n",
       "  'tienen'],\n",
       " ['nada', 'de', 'mitologico']]"
      ]
     },
     "execution_count": 10,
     "metadata": {},
     "output_type": "execute_result"
    }
   ],
   "source": [
    "# Damos un vistazo al libro\n",
    "sentence_tokens[:25]"
   ]
  },
  {
   "cell_type": "markdown",
   "metadata": {},
   "source": [
    "## Callback to track loss"
   ]
  },
  {
   "cell_type": "code",
   "execution_count": 11,
   "metadata": {},
   "outputs": [],
   "source": [
    "from gensim.models.callbacks import CallbackAny2Vec\n",
    "# Durante el entrenamiento gensim por defecto no informa el \"loss\" en cada época\n",
    "# Sobrecargamos el callback para poder tener esta información\n",
    "class callback(CallbackAny2Vec):\n",
    "    \"\"\"\n",
    "    Callback to print loss after each epoch\n",
    "    \"\"\"\n",
    "    def __init__(self):\n",
    "        self.epoch = 0\n",
    "\n",
    "    def on_epoch_end(self, model):\n",
    "        loss = model.get_latest_training_loss()\n",
    "        if self.epoch == 0:\n",
    "            print('Loss after epoch {}: {}'.format(self.epoch, loss))\n",
    "        else:\n",
    "            print('Loss after epoch {}: {}'.format(self.epoch, loss- self.loss_previous_step))\n",
    "        self.epoch += 1\n",
    "        self.loss_previous_step = loss"
   ]
  },
  {
   "cell_type": "code",
   "execution_count": 12,
   "metadata": {},
   "outputs": [
    {
     "data": {
      "text/plain": [
       "12"
      ]
     },
     "execution_count": 12,
     "metadata": {},
     "output_type": "execute_result"
    }
   ],
   "source": [
    "multiprocessing.cpu_count()"
   ]
  },
  {
   "cell_type": "markdown",
   "metadata": {},
   "source": [
    "## Modelo y parametros"
   ]
  },
  {
   "cell_type": "code",
   "execution_count": 13,
   "metadata": {},
   "outputs": [],
   "source": [
    "# Creamos el modelo generador de vectores\n",
    "# En este caso utilizaremos la estructura modelo Skipgram\n",
    "w2v_model = Word2Vec(\n",
    "                min_count=10,       # numero de veces que aparece la palabra\n",
    "                window=3,          # más contexto puede ayudar\n",
    "                vector_size=100,   # uso un valor chico para un corpus chico/Aumentar para embeddings más ricos\n",
    "                workers=multiprocessing.cpu_count(), # usar todos los cores\n",
    "                negative=18,       # suficiente para un corpus narrativo\n",
    "                sg=1               # skipgram capta mejor significados en corpus pequeños\n",
    "                ) "
   ]
  },
  {
   "cell_type": "code",
   "execution_count": 14,
   "metadata": {},
   "outputs": [
    {
     "data": {
      "text/plain": [
       "' w2v_model = Word2Vec(\\n                min_count=10,       # numero de veces que aparece la palabra\\n                window=3,          # más contexto puede ayudar\\n                vector_size=100,   # uso un valor chico para un corpus chico/Aumentar para embeddings más ricos\\n                workers=multiprocessing.cpu_count(), # usar todos los cores\\n                negative=20,       # suficiente para un corpus narrativo\\n                sg=1               # skipgram capta mejor significados en corpus pequeños\\n                ) '"
      ]
     },
     "execution_count": 14,
     "metadata": {},
     "output_type": "execute_result"
    }
   ],
   "source": [
    "# Creamos el modelo generador de vectores\n",
    "# En este caso utilizaremos la estructura modelo Skipgram\n",
    "# base porque anda dentrod e todo bien\n",
    "\"\"\" w2v_model = Word2Vec(\n",
    "                min_count=10,       # numero de veces que aparece la palabra\n",
    "                window=3,          # más contexto puede ayudar\n",
    "                vector_size=100,   # uso un valor chico para un corpus chico/Aumentar para embeddings más ricos\n",
    "                workers=multiprocessing.cpu_count(), # usar todos los cores\n",
    "                negative=20,       # suficiente para un corpus narrativo\n",
    "                sg=1               # skipgram capta mejor significados en corpus pequeños\n",
    "                ) \"\"\" "
   ]
  },
  {
   "cell_type": "code",
   "execution_count": 15,
   "metadata": {},
   "outputs": [],
   "source": [
    "# Obtener el vocabulario con los tokens\n",
    "w2v_model.build_vocab(sentence_tokens)"
   ]
  },
  {
   "cell_type": "code",
   "execution_count": 16,
   "metadata": {},
   "outputs": [
    {
     "name": "stdout",
     "output_type": "stream",
     "text": [
      "Cantidad de docs en el corpus: 22743\n"
     ]
    }
   ],
   "source": [
    "# Cantidad de filas/docs encontradas en el corpus\n",
    "print(\"Cantidad de docs en el corpus:\", w2v_model.corpus_count)"
   ]
  },
  {
   "cell_type": "code",
   "execution_count": 17,
   "metadata": {},
   "outputs": [
    {
     "name": "stdout",
     "output_type": "stream",
     "text": [
      "Cantidad de palabras distintas en el corpus: 1942\n"
     ]
    }
   ],
   "source": [
    "# Cantidad de words encontradas en el corpus\n",
    "print(\"Cantidad de palabras distintas en el corpus:\", len(w2v_model.wv.index_to_key))"
   ]
  },
  {
   "cell_type": "markdown",
   "metadata": {},
   "source": [
    "# Entrenar embeddings"
   ]
  },
  {
   "cell_type": "code",
   "execution_count": 18,
   "metadata": {},
   "outputs": [
    {
     "name": "stdout",
     "output_type": "stream",
     "text": [
      "Loss after epoch 0: 132668.578125\n",
      "Loss after epoch 1: 123445.8125\n",
      "Loss after epoch 2: 123257.234375\n",
      "Loss after epoch 3: 119391.3125\n",
      "Loss after epoch 4: 119207.1875\n",
      "Loss after epoch 5: 117081.625\n",
      "Loss after epoch 6: 114008.0\n",
      "Loss after epoch 7: 115035.5625\n",
      "Loss after epoch 8: 111928.1875\n",
      "Loss after epoch 9: 106064.125\n",
      "Loss after epoch 10: 104832.125\n",
      "Loss after epoch 11: 104167.0\n",
      "Loss after epoch 12: 100524.125\n",
      "Loss after epoch 13: 103461.375\n",
      "Loss after epoch 14: 99081.0\n",
      "Loss after epoch 15: 103359.125\n",
      "Loss after epoch 16: 101833.875\n",
      "Loss after epoch 17: 99081.75\n",
      "Loss after epoch 18: 100671.25\n",
      "Loss after epoch 19: 91527.75\n",
      "Loss after epoch 20: 88632.0\n",
      "Loss after epoch 21: 90092.0\n",
      "Loss after epoch 22: 92132.25\n",
      "Loss after epoch 23: 91876.25\n",
      "Loss after epoch 24: 88689.5\n",
      "Loss after epoch 25: 89971.75\n",
      "Loss after epoch 26: 82292.75\n",
      "Loss after epoch 27: 91731.0\n",
      "Loss after epoch 28: 89375.75\n",
      "Loss after epoch 29: 90365.5\n"
     ]
    },
    {
     "data": {
      "text/plain": [
       "(3684366, 6561000)"
      ]
     },
     "execution_count": 18,
     "metadata": {},
     "output_type": "execute_result"
    }
   ],
   "source": [
    "# Entrenamos el modelo generador de vectores\n",
    "# Utilizamos nuestro callback\n",
    "w2v_model.train(sentence_tokens,\n",
    "                 total_examples=w2v_model.corpus_count,\n",
    "                 epochs=30,\n",
    "                 compute_loss = True,\n",
    "                 callbacks=[callback()]\n",
    "                 )"
   ]
  },
  {
   "cell_type": "code",
   "execution_count": 19,
   "metadata": {},
   "outputs": [
    {
     "name": "stdout",
     "output_type": "stream",
     "text": [
      "Palabras más similares:\n",
      "rey: luis, xiii, escudero, arrestar, cardenal\n",
      "cardenal: rey, escudero, suizo, comisario, dartagnan\n",
      "mosqueteros: soldados, companeros, ayuntamiento, cirujano, ingleses\n",
      "milady: prisionera, felton, burgues, baron, dartagnan\n",
      "reina: novicia, madre, fiesta, baile, corte\n"
     ]
    }
   ],
   "source": [
    "## Análisis de Similitudes\n",
    "# Palabras de interés\n",
    "palabras_clave = ['rey', 'cardenal', 'mosqueteros', 'milady', 'reina']\n",
    "\n",
    "# Calculamos similitudes\n",
    "similitudes = {}\n",
    "for palabra in palabras_clave:\n",
    "    try:\n",
    "        similitudes[palabra] = [item[0] for item in w2v_model.wv.most_similar(palabra, topn=5)]\n",
    "    except KeyError:\n",
    "        continue\n",
    "\n",
    "print(\"Palabras más similares:\")\n",
    "for palabra, similares in similitudes.items():\n",
    "    print(f\"{palabra}: {', '.join(similares)}\")\n"
   ]
  },
  {
   "cell_type": "code",
   "execution_count": 20,
   "metadata": {},
   "outputs": [
    {
     "name": "stdout",
     "output_type": "stream",
     "text": [
      "Test de analagías:\n",
      "dartagnan - mosquetero + porthos = zafiro\n",
      "reina - ana + rey = luis\n",
      "mosqueteros - amistad + milady = muchacha\n",
      "francia - paris + inglaterra = partir\n",
      "buckingham - inglaterra + richelieu = xiii\n",
      "milady - serpiente + athos = caja\n",
      "mosqueteros - espada + guardia = esperanza\n",
      "dartagnan - amor + constance = decidme\n",
      "milady - venganza + winter = lord\n",
      "cardenal - poder + rey = podian\n",
      "milady - traicion + constance = callaos\n",
      "mosqueteros - uno + todos = pobres\n"
     ]
    }
   ],
   "source": [
    "## Tests de Analogías\n",
    "analogias = [\n",
    "    ('dartagnan', 'mosquetero', 'porthos'),       # Relación de pertenencia\n",
    "    ('reina', 'ana', 'rey'),                      # Reina Ana, Rey Luis XIII\n",
    "    ('mosqueteros', 'amistad', 'milady'),         # Contraste: mosqueteros/amistad vs. Milady/traición\n",
    "    ('francia', 'paris', 'inglaterra'),           # País y capital\n",
    "    ('buckingham', 'inglaterra', 'richelieu'),    # Buckingham:Inglaterra :: Richelieu:Francia\n",
    "    ('milady', 'serpiente', 'athos'),             # Milady comparada con serpiente, Athos con león\n",
    "    ('mosqueteros', 'espada', 'guardia'),         # Mosqueteros usan espada, Guardia usa lanza\n",
    "    ('dartagnan', 'amor', 'constance'),           # d'Artagnan y su interés amoroso\n",
    "    ('milady', 'venganza', 'winter'),             # Milady busca venganza, Lord de Winter es su objetivo\n",
    "    ('cardenal', 'poder', 'rey'),                 # Cardenal Richelieu y el poder, Rey y la corona\n",
    "    ('milady', 'traicion', 'constance'),          # Milady traiciona, Constanza es leal\n",
    "    ('mosqueteros', 'uno', 'todos'),              # Uno para todos, todos para uno\n",
    "]\n",
    "\n",
    "print(\"Test de analagías:\")\n",
    "for a, b, c in analogias:\n",
    "    try:\n",
    "        resultado = w2v_model.wv.most_similar(positive=[b, c], negative=[a], topn=1)[0][0]\n",
    "        print(f\"{a} - {b} + {c} = {resultado}\")\n",
    "    except KeyError as e:\n",
    "        print(f\"Palabra no encontrada: {e}\")"
   ]
  },
  {
   "cell_type": "markdown",
   "metadata": {},
   "source": [
    "# Visualización"
   ]
  },
  {
   "cell_type": "code",
   "execution_count": 21,
   "metadata": {},
   "outputs": [],
   "source": [
    "from sklearn.decomposition import IncrementalPCA    \n",
    "from sklearn.manifold import TSNE                   \n",
    "import numpy as np                                  \n",
    "\n",
    "def reduce_dimensions(model, num_dimensions = 2 ):\n",
    "     \n",
    "    vectors = np.asarray(model.wv.vectors)\n",
    "    labels = np.asarray(model.wv.index_to_key)  \n",
    "\n",
    "    tsne = TSNE(n_components=num_dimensions, random_state=0)\n",
    "    vectors = tsne.fit_transform(vectors)\n",
    "\n",
    "    return vectors, labels"
   ]
  },
  {
   "cell_type": "code",
   "execution_count": 22,
   "metadata": {},
   "outputs": [
    {
     "data": {
      "application/vnd.plotly.v1+json": {
       "config": {
        "plotlyServerURL": "https://plot.ly"
       },
       "data": [
        {
         "hovertemplate": "x=%{x}<br>y=%{y}<br>text=%{text}<extra></extra>",
         "legendgroup": "",
         "marker": {
          "color": "#636efa",
          "symbol": "circle"
         },
         "mode": "markers+text",
         "name": "",
         "orientation": "v",
         "showlegend": false,
         "text": [
          "de",
          "que",
          "la",
          "a",
          "el",
          "y",
          "en",
          "no",
          "se",
          "su",
          "por",
          "un",
          "los",
          "una",
          "con",
          "dartagnan",
          "dijo",
          "al",
          "lo",
          "del",
          "habia",
          "como",
          "las",
          "es",
          "si",
          "senor",
          "me",
          "pero",
          "para",
          "mi",
          "mas",
          "os",
          "athos",
          "le",
          "sus",
          "esta",
          "yo",
          "era",
          "milady",
          "sin",
          "ha",
          "todo",
          "porthos",
          "sobre",
          "vos",
          "cardenal",
          "dos",
          "aramis",
          "estaba",
          "bien",
          "senora",
          "ella",
          "cuando",
          "he",
          "o",
          "vuestra",
          "ese",
          "mujer",
          "quien",
          "joven",
          "pues",
          "hombre",
          "vez",
          "eso",
          "porque",
          "entonces",
          "rey",
          "tan",
          "este",
          "aquella",
          "ya",
          "bonacieux",
          "hacia",
          "exclamo",
          "solo",
          "esa",
          "treville",
          "aquel",
          "puerta",
          "mismo",
          "nada",
          "felton",
          "hecho",
          "muy",
          "tres",
          "habeis",
          "tenia",
          "mano",
          "uno",
          "reina",
          "momento",
          "tiempo",
          "respondio",
          "cuatro",
          "hasta",
          "luego",
          "donde",
          "vuestro",
          "hacer",
          "todos",
          "dios",
          "casa",
          "ser",
          "noche",
          "amigos",
          "oh",
          "pregunto",
          "carta",
          "dicho",
          "decir",
          "aqui",
          "tanto",
          "planchet",
          "voz",
          "querido",
          "ojos",
          "ah",
          "fue",
          "mio",
          "nos",
          "hizo",
          "mosqueteros",
          "sois",
          "sido",
          "embargo",
          "ahora",
          "gran",
          "hay",
          "cuanto",
          "habian",
          "caballo",
          "otro",
          "senores",
          "dia",
          "tengo",
          "cabeza",
          "amigo",
          "menos",
          "desde",
          "duque",
          "ni",
          "otra",
          "buckingham",
          "ver",
          "hombres",
          "winter",
          "contra",
          "mis",
          "entre",
          "ante",
          "nombre",
          "ademas",
          "palabra",
          "parte",
          "manana",
          "habitacion",
          "todas",
          "eminencia",
          "hubiera",
          "instante",
          "aun",
          "visto",
          "toda",
          "cual",
          "mucho",
          "asi",
          "majestad",
          "paso",
          "soy",
          "teneis",
          "continuo",
          "despues",
          "tras",
          "lord",
          "dias",
          "volvio",
          "cosa",
          "algo",
          "siempre",
          "dado",
          "espada",
          "manos",
          "estoy",
          "haber",
          "fin",
          "esto",
          "corazon",
          "lugar",
          "prosiguio",
          "mientras",
          "podia",
          "tambien",
          "guardias",
          "hora",
          "cada",
          "vino",
          "duda",
          "punto",
          "camino",
          "tiene"
         ],
         "type": "scatter",
         "x": [
          -0.9833860993385315,
          3.3810858726501465,
          -2.6286799907684326,
          -1.3160666227340698,
          -2.7848093509674072,
          -2.1454882621765137,
          -1.3991903066635132,
          2.4377317428588867,
          -1.875251293182373,
          -2.3986728191375732,
          -1.2063554525375366,
          -3.2006795406341553,
          -4.42172384262085,
          -2.6782660484313965,
          -1.8589426279067993,
          -4.847000598907471,
          -3.1603007316589355,
          -2.6759729385375977,
          9.583498001098633,
          -2.8760008811950684,
          12.360319137573242,
          1.682572364807129,
          -3.1801702976226807,
          9.061922073364258,
          2.3042306900024414,
          -2.5454323291778564,
          7.679992198944092,
          0.5179649591445923,
          -1.4373496770858765,
          -0.17854082584381104,
          0.33286890387535095,
          7.468297481536865,
          -5.174262523651123,
          17.483516693115234,
          -4.691336154937744,
          -0.45062127709388733,
          8.389989852905273,
          9.162160873413086,
          -4.311519145965576,
          -10.043468475341797,
          12.419885635375977,
          3.0592329502105713,
          -5.194067001342773,
          -3.3697547912597656,
          5.185865879058838,
          -4.949326038360596,
          -7.753069877624512,
          -5.947798252105713,
          -9.310691833496094,
          1.9729493856430054,
          -4.543152809143066,
          -1.7306185960769653,
          18.709775924682617,
          10.314703941345215,
          -8.98678207397461,
          -2.706174612045288,
          -3.1965584754943848,
          12.390729904174805,
          10.73163890838623,
          -4.625723361968994,
          -4.496303558349609,
          10.900911331176758,
          -1.9470951557159424,
          12.047309875488281,
          9.960183143615723,
          15.745443344116211,
          -6.542816162109375,
          4.579165458679199,
          -2.679778575897217,
          -3.1158199310302734,
          3.3253417015075684,
          -4.653726577758789,
          -16.710500717163086,
          -3.142864227294922,
          1.850329041481018,
          -3.578623056411743,
          1.7995470762252808,
          -3.7303998470306396,
          -11.14728832244873,
          -1.3558788299560547,
          2.112809419631958,
          -4.26312255859375,
          13.911510467529297,
          7.951215744018555,
          -6.8036394119262695,
          10.750694274902344,
          -0.1718580573797226,
          -15.91490650177002,
          0.3604515492916107,
          7.078042507171631,
          0.12450379878282547,
          3.466304063796997,
          -3.349008560180664,
          -6.313347339630127,
          -3.780555248260498,
          -2.505096912384033,
          11.73410415649414,
          10.500471115112305,
          5.71645450592041,
          -2.761368989944458,
          5.635708808898926,
          -1.3240504264831543,
          4.280694961547852,
          -6.55452299118042,
          -5.861670970916748,
          -2.8265388011932373,
          -3.7097887992858887,
          8.009414672851562,
          15.911145210266113,
          10.466353416442871,
          1.1495091915130615,
          -9.739991188049316,
          -5.506137371063232,
          3.1856350898742676,
          1.9712458848953247,
          -8.548550605773926,
          -1.635629415512085,
          0.43373963236808777,
          -1.1645640134811401,
          5.40257453918457,
          -14.882375717163086,
          -0.5106448531150818,
          -2.080368757247925,
          13.556318283081055,
          -10.057694435119629,
          -0.4522993266582489,
          -11.872498512268066,
          8.398906707763672,
          12.472147941589355,
          12.797578811645508,
          3.1022140979766846,
          11.022137641906738,
          1.184730887413025,
          -17.098379135131836,
          7.16839599609375,
          -11.608833312988281,
          -3.283785343170166,
          9.303145408630371,
          15.295149803161621,
          1.5019556283950806,
          15.02517032623291,
          1.6650335788726807,
          0.17974328994750977,
          5.409454822540283,
          -3.20570969581604,
          13.704785346984863,
          -0.6008537411689758,
          -4.62013578414917,
          -7.823647975921631,
          -9.657400131225586,
          5.012314796447754,
          0.012153133749961853,
          -1.9527136087417603,
          -11.977934837341309,
          -2.6152706146240234,
          -9.87832260131836,
          -3.1398634910583496,
          16.047231674194336,
          13.966015815734863,
          -11.719895362854004,
          9.987343788146973,
          17.752504348754883,
          -1.0079649686813354,
          19.513879776000977,
          2.4168708324432373,
          -0.15007665753364563,
          16.044858932495117,
          -11.267053604125977,
          8.41472339630127,
          5.134646415710449,
          -2.8555116653442383,
          -0.488472044467926,
          -1.2540210485458374,
          13.702444076538086,
          -8.852152824401855,
          -14.032238960266113,
          7.174531936645508,
          12.240204811096191,
          10.379600524902344,
          12.801529884338379,
          -20.113746643066406,
          -6.956363677978516,
          3.316206693649292,
          -9.500490188598633,
          7.6250433921813965,
          7.635118007659912,
          6.967920303344727,
          1.565043330192566,
          -2.9503095149993896,
          -6.551271915435791,
          11.35125732421875,
          2.8200278282165527,
          -5.410039901733398,
          -2.2448503971099854,
          -6.285468101501465,
          0.7254959344863892,
          0.9129193425178528,
          0.08186550438404083,
          -17.835847854614258,
          5.581890106201172
         ],
         "xaxis": "x",
         "y": [
          0.023116661235690117,
          -3.112131118774414,
          0.3418751657009125,
          -0.6149986982345581,
          -1.6489795446395874,
          -0.6277619004249573,
          0.426164448261261,
          -5.706954479217529,
          -0.6758520603179932,
          -0.27011555433273315,
          -1.1693528890609741,
          -1.918457269668579,
          11.040417671203613,
          0.6868598461151123,
          -0.7773777842521667,
          -6.882562160491943,
          -15.137388229370117,
          -1.6137921810150146,
          -13.458436012268066,
          -1.58161199092865,
          -12.697369575500488,
          -2.661722183227539,
          18.229700088500977,
          -3.450573444366455,
          -7.83392333984375,
          -6.354846954345703,
          -13.130985260009766,
          -4.590723991394043,
          -0.8833454251289368,
          -3.867140531539917,
          -19.808639526367188,
          -13.110039710998535,
          -7.197535991668701,
          -4.263706207275391,
          10.563497543334961,
          -2.473085880279541,
          -11.764925956726074,
          -3.4300076961517334,
          -6.248486518859863,
          -14.792925834655762,
          -12.269367218017578,
          -3.3527417182922363,
          -7.200957775115967,
          1.5393092632293701,
          -7.7781572341918945,
          -6.6225104331970215,
          11.1696138381958,
          -7.455728054046631,
          1.3219720125198364,
          -11.963953018188477,
          -10.32984447479248,
          -1.6754575967788696,
          5.877408504486084,
          -12.128829002380371,
          -13.213860511779785,
          0.4637845456600189,
          -2.3521225452423096,
          5.766463756561279,
          -0.3680451214313507,
          -6.861520767211914,
          -11.563701629638672,
          3.8421852588653564,
          2.0768566131591797,
          -4.75538444519043,
          -15.062844276428223,
          -13.747710227966309,
          -4.700625419616699,
          -1.1495016813278198,
          -2.5993430614471436,
          0.6530782580375671,
          -19.4036922454834,
          -10.200477600097656,
          -2.263302803039551,
          -14.813773155212402,
          -20.14299201965332,
          0.5921756625175476,
          10.91230297088623,
          -2.162146806716919,
          4.707602024078369,
          -4.346012592315674,
          -5.828554630279541,
          -6.223523139953613,
          1.6307241916656494,
          -6.812326431274414,
          10.972131729125977,
          -11.977921485900879,
          -1.6700193881988525,
          5.578251838684082,
          10.447607040405273,
          5.937644004821777,
          5.8506317138671875,
          5.007320880889893,
          -15.372781753540039,
          10.498409271240234,
          -0.867564857006073,
          -0.9047706127166748,
          -8.790240287780762,
          6.24691104888916,
          -5.969559192657471,
          10.811091423034668,
          -14.24437427520752,
          6.697815418243408,
          -3.679814338684082,
          4.368706703186035,
          11.829144477844238,
          -13.339235305786133,
          -14.80907917022705,
          12.462427139282227,
          0.05990556627511978,
          -17.50861167907715,
          -12.415038108825684,
          -11.10366439819336,
          -7.19220495223999,
          18.997745513916016,
          -12.897623062133789,
          13.116600036621094,
          -15.236001014709473,
          -3.0721118450164795,
          -8.598892211914062,
          -19.062524795532227,
          -0.9726800322532654,
          13.372937202453613,
          -13.309926986694336,
          0.0065247672609984875,
          -14.823901176452637,
          -11.541210174560547,
          15.247349739074707,
          -2.1469788551330566,
          -5.706602573394775,
          -13.031145095825195,
          7.403040409088135,
          -1.2996560335159302,
          -13.043807029724121,
          -6.690877437591553,
          -9.338334083557129,
          4.366244316101074,
          -8.151036262512207,
          -6.254565715789795,
          5.91471529006958,
          7.792177677154541,
          -9.798912048339844,
          13.522658348083496,
          -6.920985698699951,
          -6.1206159591674805,
          12.315829277038574,
          11.494269371032715,
          1.6020764112472534,
          10.292381286621094,
          -3.431518793106079,
          -6.5061259269714355,
          5.164610862731934,
          -17.943145751953125,
          -4.262604713439941,
          -13.438888549804688,
          -7.475987434387207,
          5.551361560821533,
          18.31656265258789,
          9.279093742370605,
          -14.227365493774414,
          -0.0473298653960228,
          -13.859760284423828,
          2.875983715057373,
          0.8302515149116516,
          -3.207261562347412,
          -5.520726203918457,
          -4.702383995056152,
          9.274659156799316,
          -1.1766053438186646,
          -12.108250617980957,
          -10.076425552368164,
          -15.802332878112793,
          5.70680570602417,
          -1.2609028816223145,
          11.490776062011719,
          20.217063903808594,
          2.6393558979034424,
          -2.410327196121216,
          -3.891842842102051,
          -2.450369358062744,
          2.7296555042266846,
          5.171324253082275,
          16.276342391967773,
          -15.750204086303711,
          1.5315054655075073,
          -4.470169544219971,
          -17.496732711791992,
          4.16682243347168,
          4.8084259033203125,
          -15.4423189163208,
          8.390316009521484,
          -14.765759468078613,
          -6.79350471496582,
          12.514598846435547,
          6.470363140106201,
          9.320528984069824,
          5.271993637084961,
          -3.6366195678710938,
          6.178121089935303,
          13.217602729797363,
          -9.622634887695312
         ],
         "yaxis": "y"
        }
       ],
       "layout": {
        "legend": {
         "tracegroupgap": 0
        },
        "margin": {
         "t": 60
        },
        "template": {
         "data": {
          "bar": [
           {
            "error_x": {
             "color": "#2a3f5f"
            },
            "error_y": {
             "color": "#2a3f5f"
            },
            "marker": {
             "line": {
              "color": "#E5ECF6",
              "width": 0.5
             },
             "pattern": {
              "fillmode": "overlay",
              "size": 10,
              "solidity": 0.2
             }
            },
            "type": "bar"
           }
          ],
          "barpolar": [
           {
            "marker": {
             "line": {
              "color": "#E5ECF6",
              "width": 0.5
             },
             "pattern": {
              "fillmode": "overlay",
              "size": 10,
              "solidity": 0.2
             }
            },
            "type": "barpolar"
           }
          ],
          "carpet": [
           {
            "aaxis": {
             "endlinecolor": "#2a3f5f",
             "gridcolor": "white",
             "linecolor": "white",
             "minorgridcolor": "white",
             "startlinecolor": "#2a3f5f"
            },
            "baxis": {
             "endlinecolor": "#2a3f5f",
             "gridcolor": "white",
             "linecolor": "white",
             "minorgridcolor": "white",
             "startlinecolor": "#2a3f5f"
            },
            "type": "carpet"
           }
          ],
          "choropleth": [
           {
            "colorbar": {
             "outlinewidth": 0,
             "ticks": ""
            },
            "type": "choropleth"
           }
          ],
          "contour": [
           {
            "colorbar": {
             "outlinewidth": 0,
             "ticks": ""
            },
            "colorscale": [
             [
              0,
              "#0d0887"
             ],
             [
              0.1111111111111111,
              "#46039f"
             ],
             [
              0.2222222222222222,
              "#7201a8"
             ],
             [
              0.3333333333333333,
              "#9c179e"
             ],
             [
              0.4444444444444444,
              "#bd3786"
             ],
             [
              0.5555555555555556,
              "#d8576b"
             ],
             [
              0.6666666666666666,
              "#ed7953"
             ],
             [
              0.7777777777777778,
              "#fb9f3a"
             ],
             [
              0.8888888888888888,
              "#fdca26"
             ],
             [
              1,
              "#f0f921"
             ]
            ],
            "type": "contour"
           }
          ],
          "contourcarpet": [
           {
            "colorbar": {
             "outlinewidth": 0,
             "ticks": ""
            },
            "type": "contourcarpet"
           }
          ],
          "heatmap": [
           {
            "colorbar": {
             "outlinewidth": 0,
             "ticks": ""
            },
            "colorscale": [
             [
              0,
              "#0d0887"
             ],
             [
              0.1111111111111111,
              "#46039f"
             ],
             [
              0.2222222222222222,
              "#7201a8"
             ],
             [
              0.3333333333333333,
              "#9c179e"
             ],
             [
              0.4444444444444444,
              "#bd3786"
             ],
             [
              0.5555555555555556,
              "#d8576b"
             ],
             [
              0.6666666666666666,
              "#ed7953"
             ],
             [
              0.7777777777777778,
              "#fb9f3a"
             ],
             [
              0.8888888888888888,
              "#fdca26"
             ],
             [
              1,
              "#f0f921"
             ]
            ],
            "type": "heatmap"
           }
          ],
          "heatmapgl": [
           {
            "colorbar": {
             "outlinewidth": 0,
             "ticks": ""
            },
            "colorscale": [
             [
              0,
              "#0d0887"
             ],
             [
              0.1111111111111111,
              "#46039f"
             ],
             [
              0.2222222222222222,
              "#7201a8"
             ],
             [
              0.3333333333333333,
              "#9c179e"
             ],
             [
              0.4444444444444444,
              "#bd3786"
             ],
             [
              0.5555555555555556,
              "#d8576b"
             ],
             [
              0.6666666666666666,
              "#ed7953"
             ],
             [
              0.7777777777777778,
              "#fb9f3a"
             ],
             [
              0.8888888888888888,
              "#fdca26"
             ],
             [
              1,
              "#f0f921"
             ]
            ],
            "type": "heatmapgl"
           }
          ],
          "histogram": [
           {
            "marker": {
             "pattern": {
              "fillmode": "overlay",
              "size": 10,
              "solidity": 0.2
             }
            },
            "type": "histogram"
           }
          ],
          "histogram2d": [
           {
            "colorbar": {
             "outlinewidth": 0,
             "ticks": ""
            },
            "colorscale": [
             [
              0,
              "#0d0887"
             ],
             [
              0.1111111111111111,
              "#46039f"
             ],
             [
              0.2222222222222222,
              "#7201a8"
             ],
             [
              0.3333333333333333,
              "#9c179e"
             ],
             [
              0.4444444444444444,
              "#bd3786"
             ],
             [
              0.5555555555555556,
              "#d8576b"
             ],
             [
              0.6666666666666666,
              "#ed7953"
             ],
             [
              0.7777777777777778,
              "#fb9f3a"
             ],
             [
              0.8888888888888888,
              "#fdca26"
             ],
             [
              1,
              "#f0f921"
             ]
            ],
            "type": "histogram2d"
           }
          ],
          "histogram2dcontour": [
           {
            "colorbar": {
             "outlinewidth": 0,
             "ticks": ""
            },
            "colorscale": [
             [
              0,
              "#0d0887"
             ],
             [
              0.1111111111111111,
              "#46039f"
             ],
             [
              0.2222222222222222,
              "#7201a8"
             ],
             [
              0.3333333333333333,
              "#9c179e"
             ],
             [
              0.4444444444444444,
              "#bd3786"
             ],
             [
              0.5555555555555556,
              "#d8576b"
             ],
             [
              0.6666666666666666,
              "#ed7953"
             ],
             [
              0.7777777777777778,
              "#fb9f3a"
             ],
             [
              0.8888888888888888,
              "#fdca26"
             ],
             [
              1,
              "#f0f921"
             ]
            ],
            "type": "histogram2dcontour"
           }
          ],
          "mesh3d": [
           {
            "colorbar": {
             "outlinewidth": 0,
             "ticks": ""
            },
            "type": "mesh3d"
           }
          ],
          "parcoords": [
           {
            "line": {
             "colorbar": {
              "outlinewidth": 0,
              "ticks": ""
             }
            },
            "type": "parcoords"
           }
          ],
          "pie": [
           {
            "automargin": true,
            "type": "pie"
           }
          ],
          "scatter": [
           {
            "fillpattern": {
             "fillmode": "overlay",
             "size": 10,
             "solidity": 0.2
            },
            "type": "scatter"
           }
          ],
          "scatter3d": [
           {
            "line": {
             "colorbar": {
              "outlinewidth": 0,
              "ticks": ""
             }
            },
            "marker": {
             "colorbar": {
              "outlinewidth": 0,
              "ticks": ""
             }
            },
            "type": "scatter3d"
           }
          ],
          "scattercarpet": [
           {
            "marker": {
             "colorbar": {
              "outlinewidth": 0,
              "ticks": ""
             }
            },
            "type": "scattercarpet"
           }
          ],
          "scattergeo": [
           {
            "marker": {
             "colorbar": {
              "outlinewidth": 0,
              "ticks": ""
             }
            },
            "type": "scattergeo"
           }
          ],
          "scattergl": [
           {
            "marker": {
             "colorbar": {
              "outlinewidth": 0,
              "ticks": ""
             }
            },
            "type": "scattergl"
           }
          ],
          "scattermapbox": [
           {
            "marker": {
             "colorbar": {
              "outlinewidth": 0,
              "ticks": ""
             }
            },
            "type": "scattermapbox"
           }
          ],
          "scatterpolar": [
           {
            "marker": {
             "colorbar": {
              "outlinewidth": 0,
              "ticks": ""
             }
            },
            "type": "scatterpolar"
           }
          ],
          "scatterpolargl": [
           {
            "marker": {
             "colorbar": {
              "outlinewidth": 0,
              "ticks": ""
             }
            },
            "type": "scatterpolargl"
           }
          ],
          "scatterternary": [
           {
            "marker": {
             "colorbar": {
              "outlinewidth": 0,
              "ticks": ""
             }
            },
            "type": "scatterternary"
           }
          ],
          "surface": [
           {
            "colorbar": {
             "outlinewidth": 0,
             "ticks": ""
            },
            "colorscale": [
             [
              0,
              "#0d0887"
             ],
             [
              0.1111111111111111,
              "#46039f"
             ],
             [
              0.2222222222222222,
              "#7201a8"
             ],
             [
              0.3333333333333333,
              "#9c179e"
             ],
             [
              0.4444444444444444,
              "#bd3786"
             ],
             [
              0.5555555555555556,
              "#d8576b"
             ],
             [
              0.6666666666666666,
              "#ed7953"
             ],
             [
              0.7777777777777778,
              "#fb9f3a"
             ],
             [
              0.8888888888888888,
              "#fdca26"
             ],
             [
              1,
              "#f0f921"
             ]
            ],
            "type": "surface"
           }
          ],
          "table": [
           {
            "cells": {
             "fill": {
              "color": "#EBF0F8"
             },
             "line": {
              "color": "white"
             }
            },
            "header": {
             "fill": {
              "color": "#C8D4E3"
             },
             "line": {
              "color": "white"
             }
            },
            "type": "table"
           }
          ]
         },
         "layout": {
          "annotationdefaults": {
           "arrowcolor": "#2a3f5f",
           "arrowhead": 0,
           "arrowwidth": 1
          },
          "autotypenumbers": "strict",
          "coloraxis": {
           "colorbar": {
            "outlinewidth": 0,
            "ticks": ""
           }
          },
          "colorscale": {
           "diverging": [
            [
             0,
             "#8e0152"
            ],
            [
             0.1,
             "#c51b7d"
            ],
            [
             0.2,
             "#de77ae"
            ],
            [
             0.3,
             "#f1b6da"
            ],
            [
             0.4,
             "#fde0ef"
            ],
            [
             0.5,
             "#f7f7f7"
            ],
            [
             0.6,
             "#e6f5d0"
            ],
            [
             0.7,
             "#b8e186"
            ],
            [
             0.8,
             "#7fbc41"
            ],
            [
             0.9,
             "#4d9221"
            ],
            [
             1,
             "#276419"
            ]
           ],
           "sequential": [
            [
             0,
             "#0d0887"
            ],
            [
             0.1111111111111111,
             "#46039f"
            ],
            [
             0.2222222222222222,
             "#7201a8"
            ],
            [
             0.3333333333333333,
             "#9c179e"
            ],
            [
             0.4444444444444444,
             "#bd3786"
            ],
            [
             0.5555555555555556,
             "#d8576b"
            ],
            [
             0.6666666666666666,
             "#ed7953"
            ],
            [
             0.7777777777777778,
             "#fb9f3a"
            ],
            [
             0.8888888888888888,
             "#fdca26"
            ],
            [
             1,
             "#f0f921"
            ]
           ],
           "sequentialminus": [
            [
             0,
             "#0d0887"
            ],
            [
             0.1111111111111111,
             "#46039f"
            ],
            [
             0.2222222222222222,
             "#7201a8"
            ],
            [
             0.3333333333333333,
             "#9c179e"
            ],
            [
             0.4444444444444444,
             "#bd3786"
            ],
            [
             0.5555555555555556,
             "#d8576b"
            ],
            [
             0.6666666666666666,
             "#ed7953"
            ],
            [
             0.7777777777777778,
             "#fb9f3a"
            ],
            [
             0.8888888888888888,
             "#fdca26"
            ],
            [
             1,
             "#f0f921"
            ]
           ]
          },
          "colorway": [
           "#636efa",
           "#EF553B",
           "#00cc96",
           "#ab63fa",
           "#FFA15A",
           "#19d3f3",
           "#FF6692",
           "#B6E880",
           "#FF97FF",
           "#FECB52"
          ],
          "font": {
           "color": "#2a3f5f"
          },
          "geo": {
           "bgcolor": "white",
           "lakecolor": "white",
           "landcolor": "#E5ECF6",
           "showlakes": true,
           "showland": true,
           "subunitcolor": "white"
          },
          "hoverlabel": {
           "align": "left"
          },
          "hovermode": "closest",
          "mapbox": {
           "style": "light"
          },
          "paper_bgcolor": "white",
          "plot_bgcolor": "#E5ECF6",
          "polar": {
           "angularaxis": {
            "gridcolor": "white",
            "linecolor": "white",
            "ticks": ""
           },
           "bgcolor": "#E5ECF6",
           "radialaxis": {
            "gridcolor": "white",
            "linecolor": "white",
            "ticks": ""
           }
          },
          "scene": {
           "xaxis": {
            "backgroundcolor": "#E5ECF6",
            "gridcolor": "white",
            "gridwidth": 2,
            "linecolor": "white",
            "showbackground": true,
            "ticks": "",
            "zerolinecolor": "white"
           },
           "yaxis": {
            "backgroundcolor": "#E5ECF6",
            "gridcolor": "white",
            "gridwidth": 2,
            "linecolor": "white",
            "showbackground": true,
            "ticks": "",
            "zerolinecolor": "white"
           },
           "zaxis": {
            "backgroundcolor": "#E5ECF6",
            "gridcolor": "white",
            "gridwidth": 2,
            "linecolor": "white",
            "showbackground": true,
            "ticks": "",
            "zerolinecolor": "white"
           }
          },
          "shapedefaults": {
           "line": {
            "color": "#2a3f5f"
           }
          },
          "ternary": {
           "aaxis": {
            "gridcolor": "white",
            "linecolor": "white",
            "ticks": ""
           },
           "baxis": {
            "gridcolor": "white",
            "linecolor": "white",
            "ticks": ""
           },
           "bgcolor": "#E5ECF6",
           "caxis": {
            "gridcolor": "white",
            "linecolor": "white",
            "ticks": ""
           }
          },
          "title": {
           "x": 0.05
          },
          "xaxis": {
           "automargin": true,
           "gridcolor": "white",
           "linecolor": "white",
           "ticks": "",
           "title": {
            "standoff": 15
           },
           "zerolinecolor": "white",
           "zerolinewidth": 2
          },
          "yaxis": {
           "automargin": true,
           "gridcolor": "white",
           "linecolor": "white",
           "ticks": "",
           "title": {
            "standoff": 15
           },
           "zerolinecolor": "white",
           "zerolinewidth": 2
          }
         }
        },
        "xaxis": {
         "anchor": "y",
         "domain": [
          0,
          1
         ],
         "title": {
          "text": "x"
         }
        },
        "yaxis": {
         "anchor": "x",
         "domain": [
          0,
          1
         ],
         "title": {
          "text": "y"
         }
        }
       }
      }
     },
     "metadata": {},
     "output_type": "display_data"
    }
   ],
   "source": [
    "# Graficar los embedddings en 2D\n",
    "import plotly.graph_objects as go\n",
    "import plotly.express as px\n",
    "\n",
    "vecs, labels = reduce_dimensions(w2v_model)\n",
    "\n",
    "MAX_WORDS=200\n",
    "fig = px.scatter(x=vecs[:MAX_WORDS,0], y=vecs[:MAX_WORDS,1], text=labels[:MAX_WORDS])\n",
    "fig.show() # esto para plotly en colab"
   ]
  },
  {
   "cell_type": "code",
   "execution_count": 23,
   "metadata": {},
   "outputs": [
    {
     "data": {
      "application/vnd.plotly.v1+json": {
       "config": {
        "plotlyServerURL": "https://plot.ly"
       },
       "data": [
        {
         "hovertemplate": "x=%{x}<br>y=%{y}<br>z=%{z}<br>text=%{text}<extra></extra>",
         "legendgroup": "",
         "marker": {
          "color": "#636efa",
          "size": 2,
          "symbol": "circle"
         },
         "mode": "markers+text",
         "name": "",
         "scene": "scene",
         "showlegend": false,
         "text": [
          "de",
          "que",
          "la",
          "a",
          "el",
          "y",
          "en",
          "no",
          "se",
          "su",
          "por",
          "un",
          "los",
          "una",
          "con",
          "dartagnan",
          "dijo",
          "al",
          "lo",
          "del",
          "habia",
          "como",
          "las",
          "es",
          "si",
          "senor",
          "me",
          "pero",
          "para",
          "mi",
          "mas",
          "os",
          "athos",
          "le",
          "sus",
          "esta",
          "yo",
          "era",
          "milady",
          "sin",
          "ha",
          "todo",
          "porthos",
          "sobre",
          "vos",
          "cardenal",
          "dos",
          "aramis",
          "estaba",
          "bien",
          "senora",
          "ella",
          "cuando",
          "he",
          "o",
          "vuestra",
          "ese",
          "mujer",
          "quien",
          "joven",
          "pues",
          "hombre",
          "vez",
          "eso",
          "porque",
          "entonces",
          "rey",
          "tan",
          "este",
          "aquella",
          "ya",
          "bonacieux",
          "hacia",
          "exclamo",
          "solo",
          "esa",
          "treville",
          "aquel",
          "puerta",
          "mismo",
          "nada",
          "felton",
          "hecho",
          "muy",
          "tres",
          "habeis",
          "tenia",
          "mano",
          "uno",
          "reina",
          "momento",
          "tiempo",
          "respondio",
          "cuatro",
          "hasta",
          "luego",
          "donde",
          "vuestro",
          "hacer",
          "todos",
          "dios",
          "casa",
          "ser",
          "noche",
          "amigos",
          "oh",
          "pregunto",
          "carta",
          "dicho",
          "decir",
          "aqui",
          "tanto",
          "planchet",
          "voz",
          "querido",
          "ojos",
          "ah",
          "fue",
          "mio",
          "nos",
          "hizo",
          "mosqueteros",
          "sois",
          "sido",
          "embargo",
          "ahora",
          "gran",
          "hay",
          "cuanto",
          "habian",
          "caballo",
          "otro",
          "senores",
          "dia",
          "tengo",
          "cabeza",
          "amigo",
          "menos",
          "desde",
          "duque",
          "ni",
          "otra",
          "buckingham",
          "ver",
          "hombres",
          "winter",
          "contra",
          "mis",
          "entre",
          "ante",
          "nombre",
          "ademas",
          "palabra",
          "parte",
          "manana",
          "habitacion",
          "todas",
          "eminencia",
          "hubiera",
          "instante",
          "aun",
          "visto",
          "toda",
          "cual",
          "mucho",
          "asi",
          "majestad",
          "paso",
          "soy",
          "teneis",
          "continuo",
          "despues",
          "tras",
          "lord",
          "dias",
          "volvio",
          "cosa",
          "algo",
          "siempre",
          "dado",
          "espada",
          "manos",
          "estoy",
          "haber",
          "fin",
          "esto",
          "corazon",
          "lugar",
          "prosiguio",
          "mientras",
          "podia",
          "tambien",
          "guardias",
          "hora",
          "cada",
          "vino",
          "duda",
          "punto",
          "camino",
          "tiene"
         ],
         "type": "scatter3d",
         "x": [
          2.596195936203003,
          -3.2076666355133057,
          -8.024920463562012,
          5.732186317443848,
          3.927440643310547,
          -210.78846740722656,
          3.699895143508911,
          -0.5102465748786926,
          -0.9419942498207092,
          -4.635900974273682,
          -0.6747092008590698,
          4.538058757781982,
          27.73501968383789,
          -7.222999572753906,
          -21.978496551513672,
          -12.959362030029297,
          -4.706863880157471,
          4.205646991729736,
          29.924348831176758,
          6.1937055587768555,
          -43.624481201171875,
          4.204318046569824,
          38.65930938720703,
          4.323631763458252,
          -2.964397430419922,
          -0.07383618503808975,
          -14.306660652160645,
          0.009899661876261234,
          2.3834917545318604,
          -28.644214630126953,
          35.927330017089844,
          -13.152981758117676,
          -16.017953872680664,
          -53.875606536865234,
          28.335901260375977,
          -39.63355255126953,
          -28.71892738342285,
          7.4155683517456055,
          -15.916098594665527,
          -26.613861083984375,
          -43.69082260131836,
          31.21551513671875,
          -23.91914939880371,
          13.736963272094727,
          4.6503520011901855,
          -7.692920684814453,
          37.00801086425781,
          -22.09377098083496,
          -2.0766191482543945,
          4.481949329376221,
          -12.767521858215332,
          11.368095397949219,
          43.231849670410156,
          -36.48036575317383,
          30.795120239257812,
          28.380338668823242,
          2.407764434814453,
          -14.471795082092285,
          28.254179000854492,
          -9.986133575439453,
          4.897800445556641,
          4.441051483154297,
          -46.11173629760742,
          25.747520446777344,
          35.844913482666016,
          -58.000850677490234,
          -3.5794613361358643,
          20.307371139526367,
          3.085529088973999,
          -11.776268005371094,
          25.607786178588867,
          -10.120661735534668,
          -22.36461639404297,
          -6.300814151763916,
          25.71686553955078,
          -17.089496612548828,
          2.4332101345062256,
          7.668883323669434,
          -17.418222427368164,
          40.0708122253418,
          -4.53535270690918,
          35.90095901489258,
          -50.349124908447266,
          -25.103303909301758,
          33.298160552978516,
          -38.83021926879883,
          4.048668384552002,
          -11.877851486206055,
          10.11750602722168,
          22.406702041625977,
          21.892305374145508,
          19.168237686157227,
          -4.086554050445557,
          28.82362174987793,
          1.6176669597625732,
          34.4266471862793,
          -48.56310272216797,
          -24.39019203186035,
          -9.35027027130127,
          21.66944694519043,
          10.193120002746582,
          25.25978660583496,
          -11.467769622802734,
          -35.25274658203125,
          30.290699005126953,
          -9.41718864440918,
          -12.780075073242188,
          -38.20289611816406,
          23.24754524230957,
          -42.15035629272461,
          -1.6601473093032837,
          5.982569694519043,
          -16.471853256225586,
          46.533912658691406,
          -6.450045108795166,
          19.623512268066406,
          1.1900726556777954,
          -18.719219207763672,
          -24.204404830932617,
          17.26195526123047,
          0.9565719366073608,
          28.281999588012695,
          -14.264105796813965,
          31.975610733032227,
          -30.02130889892578,
          7.6030802726745605,
          26.000913619995117,
          0.15820477902889252,
          11.052003860473633,
          9.443137168884277,
          17.0731258392334,
          16.732938766479492,
          5.470192909240723,
          32.32971954345703,
          -18.71013069152832,
          -20.948217391967773,
          -50.05891036987305,
          45.45492172241211,
          37.42647933959961,
          11.151793479919434,
          22.55848503112793,
          -0.2528415024280548,
          0.08058131486177444,
          28.82366180419922,
          15.88473892211914,
          -46.829322814941406,
          22.548206329345703,
          3.0405287742614746,
          20.266170501708984,
          18.719627380371094,
          1.1974642276763916,
          24.050832748413086,
          -47.01137161254883,
          -19.360109329223633,
          -9.801691055297852,
          -12.542407989501953,
          35.86372375488281,
          -35.451595306396484,
          -55.33586120605469,
          -3.2875633239746094,
          32.26703643798828,
          24.248409271240234,
          -24.149967193603516,
          -55.37544250488281,
          0.8888192772865295,
          -36.06713104248047,
          -32.85472106933594,
          -24.70258140563965,
          -29.43539047241211,
          -22.67787742614746,
          2.5035321712493896,
          -18.790481567382812,
          -20.240081787109375,
          -44.69063949584961,
          36.84185791015625,
          -1.5480610132217407,
          -1.043206810951233,
          28.000410079956055,
          9.52294635772705,
          34.92384338378906,
          -4.890688896179199,
          16.820480346679688,
          -0.5800858736038208,
          -1.0657474994659424,
          33.65013885498047,
          10.960342407226562,
          -10.828917503356934,
          0.37321481108665466,
          -3.738057851791382,
          35.22380065917969,
          -3.279824733734131,
          4.541025161743164,
          37.47437286376953,
          40.81821060180664,
          25.461923599243164,
          23.12410545349121,
          -22.659772872924805,
          27.942840576171875,
          14.959282875061035,
          -27.35025405883789
         ],
         "y": [
          -0.9686056971549988,
          -2.5947399139404297,
          -12.921513557434082,
          -6.502142906188965,
          12.753225326538086,
          -113.33023834228516,
          -0.44758865237236023,
          5.710729122161865,
          2.8188974857330322,
          15.302387237548828,
          -5.17720365524292,
          17.239458084106445,
          -28.30086326599121,
          -8.775212287902832,
          7.784808158874512,
          40.594566345214844,
          28.224266052246094,
          7.986416816711426,
          6.990096092224121,
          13.338749885559082,
          -2.462996006011963,
          7.98045539855957,
          -1.9772692918777466,
          -31.71525001525879,
          7.467521667480469,
          43.9091682434082,
          3.4134364128112793,
          -4.7764892578125,
          -5.9661149978637695,
          32.210933685302734,
          -32.022117614746094,
          2.3044607639312744,
          39.04222106933594,
          6.312310218811035,
          -29.692045211791992,
          -40.23163604736328,
          3.4381306171417236,
          -29.587125778198242,
          36.19623565673828,
          -41.89368438720703,
          -3.7667489051818848,
          -16.304231643676758,
          -50.99122619628906,
          -14.494681358337402,
          -22.920055389404297,
          40.49742889404297,
          -18.91539764404297,
          -51.616355895996094,
          13.996063232421875,
          -15.845091819763184,
          45.387271881103516,
          54.71511459350586,
          29.97251319885254,
          5.3241071701049805,
          -40.475833892822266,
          -33.485633850097656,
          19.272127151489258,
          35.65337371826172,
          25.178003311157227,
          36.94707107543945,
          -22.76184844970703,
          34.25006103515625,
          20.331762313842773,
          14.736674308776855,
          -1.4310312271118164,
          7.691161632537842,
          48.87242889404297,
          36.268638610839844,
          18.293935775756836,
          -12.948712348937988,
          -0.7465642094612122,
          44.33740997314453,
          33.17055892944336,
          25.648767471313477,
          41.44541931152344,
          -15.726547241210938,
          49.296241760253906,
          21.858062744140625,
          -18.915544509887695,
          33.528167724609375,
          9.22131061553955,
          46.29261016845703,
          -16.20851707458496,
          11.283574104309082,
          -22.670772552490234,
          2.0072383880615234,
          0.3960118293762207,
          11.752857208251953,
          -36.19524002075195,
          51.57939910888672,
          16.49762535095215,
          7.493803024291992,
          32.645179748535156,
          -25.391155242919922,
          45.41999816894531,
          31.616727828979492,
          -28.225576400756836,
          35.24272537231445,
          -21.854028701782227,
          -41.06158447265625,
          22.4849796295166,
          0.9772053360939026,
          -6.568545818328857,
          -6.035837173461914,
          -31.282682418823242,
          23.347026824951172,
          33.59804153442383,
          -25.738018035888672,
          3.993708372116089,
          38.89905548095703,
          -2.9661436080932617,
          -6.171669960021973,
          43.04909133911133,
          29.352602005004883,
          0.9833531379699707,
          -26.802112579345703,
          20.285812377929688,
          -5.508036136627197,
          33.187381744384766,
          23.424091339111328,
          0.8587230443954468,
          -30.068662643432617,
          22.907772064208984,
          -7.006398677825928,
          -43.786102294921875,
          15.242842674255371,
          35.77197265625,
          -28.810152053833008,
          -40.848289489746094,
          -55.16599655151367,
          28.330337524414062,
          -2.555138349533081,
          -18.93108367919922,
          21.279611587524414,
          -10.936781883239746,
          -15.853861808776855,
          22.45842170715332,
          7.691985607147217,
          21.14937973022461,
          10.480817794799805,
          -14.2107515335083,
          -35.06438064575195,
          54.86292266845703,
          43.56840515136719,
          -31.817718505859375,
          35.67769241333008,
          -11.910646438598633,
          -55.58501052856445,
          -52.755916595458984,
          48.8820686340332,
          32.62518310546875,
          -24.265300750732422,
          -3.6129276752471924,
          -17.72287368774414,
          56.58964538574219,
          -28.194944381713867,
          -2.322493553161621,
          -38.100746154785156,
          -9.70479965209961,
          15.174676895141602,
          11.006803512573242,
          48.01013946533203,
          -42.6342658996582,
          -8.218362808227539,
          6.804061412811279,
          -27.02290153503418,
          -37.368526458740234,
          19.460420608520508,
          7.322155952453613,
          -26.63604736328125,
          29.333223342895508,
          -38.38911056518555,
          -47.2509880065918,
          37.650665283203125,
          5.317521095275879,
          -12.935821533203125,
          -35.49338150024414,
          -19.176342010498047,
          51.25040054321289,
          7.1510467529296875,
          28.78818130493164,
          -11.340838432312012,
          26.700817108154297,
          40.312686920166016,
          8.989701271057129,
          32.36001205444336,
          24.956321716308594,
          -48.75301742553711,
          28.206335067749023,
          -39.70125961303711,
          36.1565055847168,
          -20.089859008789062,
          -29.517484664916992,
          13.75773811340332,
          -34.90690994262695,
          2.6395010948181152,
          -20.04388999938965,
          20.673402786254883,
          18.40671730041504,
          -21.463045120239258
         ],
         "z": [
          -7.501325607299805,
          15.098600387573242,
          -17.636276245117188,
          -7.0554609298706055,
          -9.3851318359375,
          285.9697265625,
          -12.212345123291016,
          23.865673065185547,
          -15.149288177490234,
          -16.41412353515625,
          -8.019335746765137,
          -6.810807228088379,
          -7.915185928344727,
          -16.780120849609375,
          -5.489220142364502,
          -1.947580099105835,
          45.417842864990234,
          -10.890203475952148,
          43.048954010009766,
          -12.715532302856445,
          24.3015079498291,
          6.8250861167907715,
          -10.220759391784668,
          24.399349212646484,
          28.014856338500977,
          8.63603687286377,
          31.860641479492188,
          24.05487632751465,
          -1.9120228290557861,
          32.03693771362305,
          23.017141342163086,
          36.04606246948242,
          -2.9665932655334473,
          -6.157383918762207,
          -12.735069274902344,
          0.6647801995277405,
          24.2425537109375,
          27.123048782348633,
          -9.242018699645996,
          5.905331134796143,
          28.53656578063965,
          35.45692443847656,
          11.64481258392334,
          -4.359288215637207,
          32.33201217651367,
          -0.9240081310272217,
          -33.434688568115234,
          5.789921283721924,
          -24.28460693359375,
          39.383155822753906,
          15.98087215423584,
          2.4201934337615967,
          -9.61896800994873,
          28.646684646606445,
          20.881879806518555,
          30.329193115234375,
          -2.3499720096588135,
          14.029869079589844,
          42.531959533691406,
          -5.276490688323975,
          56.38473892211914,
          15.546875953674316,
          -24.38606071472168,
          41.75178909301758,
          44.28877639770508,
          9.490518569946289,
          -3.9585044384002686,
          18.416942596435547,
          -13.1080322265625,
          -15.332989692687988,
          46.028839111328125,
          12.436060905456543,
          -41.55979537963867,
          41.734519958496094,
          28.118385314941406,
          -18.608562469482422,
          8.48417854309082,
          -9.935782432556152,
          -36.45420837402344,
          27.384096145629883,
          21.983882904052734,
          5.465867042541504,
          19.44887924194336,
          20.20502281188965,
          -28.611133575439453,
          32.70838165283203,
          0.6795433163642883,
          -53.40351104736328,
          -5.669289588928223,
          1.2874963283538818,
          -11.38661003112793,
          11.59028148651123,
          46.637001037597656,
          -33.947696685791016,
          -30.28779411315918,
          -29.29108428955078,
          11.69872760772705,
          32.903812408447266,
          23.803913116455078,
          1.4581327438354492,
          45.116233825683594,
          -16.9766788482666,
          9.459659576416016,
          -37.45441436767578,
          -20.38718032836914,
          37.30630874633789,
          46.52078628540039,
          -5.992901802062988,
          23.133996963500977,
          -7.320966720581055,
          46.35398483276367,
          12.610260009765625,
          -6.032434463500977,
          7.50499153137207,
          40.95266342163086,
          -14.981694221496582,
          49.67971420288086,
          -3.7559454441070557,
          23.299957275390625,
          38.29297637939453,
          -39.480464935302734,
          15.70064926147461,
          43.849281311035156,
          32.141700744628906,
          3.9453961849212646,
          38.34439468383789,
          -36.717926025390625,
          14.450145721435547,
          37.574119567871094,
          -12.523259162902832,
          -20.12054443359375,
          5.902701377868652,
          45.52165603637695,
          -19.509275436401367,
          30.0302734375,
          -44.568572998046875,
          18.205425262451172,
          31.72852325439453,
          5.858100891113281,
          -16.3138370513916,
          32.68009948730469,
          -14.588342666625977,
          -16.36279296875,
          -0.762427568435669,
          -2.9696881771087646,
          8.019548416137695,
          12.566954612731934,
          -20.837778091430664,
          -8.583598136901855,
          -20.087141036987305,
          -14.74177360534668,
          37.864166259765625,
          -1.8610860109329224,
          5.748528957366943,
          12.479842185974121,
          -39.71214294433594,
          -14.236374855041504,
          10.679183959960938,
          3.2494900226593018,
          -35.93928909301758,
          47.67754364013672,
          13.244900703430176,
          -6.031503200531006,
          -12.634379386901855,
          19.341529846191406,
          36.43370056152344,
          12.607948303222656,
          -41.45292663574219,
          30.53143310546875,
          44.179344177246094,
          49.95955276489258,
          -16.743003845214844,
          -21.3717098236084,
          8.943460464477539,
          -15.000160217285156,
          -37.903717041015625,
          20.726770401000977,
          44.819053649902344,
          22.397968292236328,
          16.534347534179688,
          -50.96583938598633,
          -10.032944679260254,
          34.16361618041992,
          -38.46940994262695,
          -22.660539627075195,
          43.31626510620117,
          0.7507355809211731,
          -15.059011459350586,
          51.2362174987793,
          -19.634220123291016,
          10.98984146118164,
          22.074918746948242,
          -24.67902183532715,
          -23.414308547973633,
          -35.33949661254883,
          -5.282055377960205,
          -17.708209991455078,
          -8.161520957946777,
          -24.383760452270508,
          39.23176574707031
         ]
        }
       ],
       "layout": {
        "legend": {
         "tracegroupgap": 0
        },
        "margin": {
         "t": 60
        },
        "scene": {
         "domain": {
          "x": [
           0,
           1
          ],
          "y": [
           0,
           1
          ]
         },
         "xaxis": {
          "title": {
           "text": "x"
          }
         },
         "yaxis": {
          "title": {
           "text": "y"
          }
         },
         "zaxis": {
          "title": {
           "text": "z"
          }
         }
        },
        "template": {
         "data": {
          "bar": [
           {
            "error_x": {
             "color": "#2a3f5f"
            },
            "error_y": {
             "color": "#2a3f5f"
            },
            "marker": {
             "line": {
              "color": "#E5ECF6",
              "width": 0.5
             },
             "pattern": {
              "fillmode": "overlay",
              "size": 10,
              "solidity": 0.2
             }
            },
            "type": "bar"
           }
          ],
          "barpolar": [
           {
            "marker": {
             "line": {
              "color": "#E5ECF6",
              "width": 0.5
             },
             "pattern": {
              "fillmode": "overlay",
              "size": 10,
              "solidity": 0.2
             }
            },
            "type": "barpolar"
           }
          ],
          "carpet": [
           {
            "aaxis": {
             "endlinecolor": "#2a3f5f",
             "gridcolor": "white",
             "linecolor": "white",
             "minorgridcolor": "white",
             "startlinecolor": "#2a3f5f"
            },
            "baxis": {
             "endlinecolor": "#2a3f5f",
             "gridcolor": "white",
             "linecolor": "white",
             "minorgridcolor": "white",
             "startlinecolor": "#2a3f5f"
            },
            "type": "carpet"
           }
          ],
          "choropleth": [
           {
            "colorbar": {
             "outlinewidth": 0,
             "ticks": ""
            },
            "type": "choropleth"
           }
          ],
          "contour": [
           {
            "colorbar": {
             "outlinewidth": 0,
             "ticks": ""
            },
            "colorscale": [
             [
              0,
              "#0d0887"
             ],
             [
              0.1111111111111111,
              "#46039f"
             ],
             [
              0.2222222222222222,
              "#7201a8"
             ],
             [
              0.3333333333333333,
              "#9c179e"
             ],
             [
              0.4444444444444444,
              "#bd3786"
             ],
             [
              0.5555555555555556,
              "#d8576b"
             ],
             [
              0.6666666666666666,
              "#ed7953"
             ],
             [
              0.7777777777777778,
              "#fb9f3a"
             ],
             [
              0.8888888888888888,
              "#fdca26"
             ],
             [
              1,
              "#f0f921"
             ]
            ],
            "type": "contour"
           }
          ],
          "contourcarpet": [
           {
            "colorbar": {
             "outlinewidth": 0,
             "ticks": ""
            },
            "type": "contourcarpet"
           }
          ],
          "heatmap": [
           {
            "colorbar": {
             "outlinewidth": 0,
             "ticks": ""
            },
            "colorscale": [
             [
              0,
              "#0d0887"
             ],
             [
              0.1111111111111111,
              "#46039f"
             ],
             [
              0.2222222222222222,
              "#7201a8"
             ],
             [
              0.3333333333333333,
              "#9c179e"
             ],
             [
              0.4444444444444444,
              "#bd3786"
             ],
             [
              0.5555555555555556,
              "#d8576b"
             ],
             [
              0.6666666666666666,
              "#ed7953"
             ],
             [
              0.7777777777777778,
              "#fb9f3a"
             ],
             [
              0.8888888888888888,
              "#fdca26"
             ],
             [
              1,
              "#f0f921"
             ]
            ],
            "type": "heatmap"
           }
          ],
          "heatmapgl": [
           {
            "colorbar": {
             "outlinewidth": 0,
             "ticks": ""
            },
            "colorscale": [
             [
              0,
              "#0d0887"
             ],
             [
              0.1111111111111111,
              "#46039f"
             ],
             [
              0.2222222222222222,
              "#7201a8"
             ],
             [
              0.3333333333333333,
              "#9c179e"
             ],
             [
              0.4444444444444444,
              "#bd3786"
             ],
             [
              0.5555555555555556,
              "#d8576b"
             ],
             [
              0.6666666666666666,
              "#ed7953"
             ],
             [
              0.7777777777777778,
              "#fb9f3a"
             ],
             [
              0.8888888888888888,
              "#fdca26"
             ],
             [
              1,
              "#f0f921"
             ]
            ],
            "type": "heatmapgl"
           }
          ],
          "histogram": [
           {
            "marker": {
             "pattern": {
              "fillmode": "overlay",
              "size": 10,
              "solidity": 0.2
             }
            },
            "type": "histogram"
           }
          ],
          "histogram2d": [
           {
            "colorbar": {
             "outlinewidth": 0,
             "ticks": ""
            },
            "colorscale": [
             [
              0,
              "#0d0887"
             ],
             [
              0.1111111111111111,
              "#46039f"
             ],
             [
              0.2222222222222222,
              "#7201a8"
             ],
             [
              0.3333333333333333,
              "#9c179e"
             ],
             [
              0.4444444444444444,
              "#bd3786"
             ],
             [
              0.5555555555555556,
              "#d8576b"
             ],
             [
              0.6666666666666666,
              "#ed7953"
             ],
             [
              0.7777777777777778,
              "#fb9f3a"
             ],
             [
              0.8888888888888888,
              "#fdca26"
             ],
             [
              1,
              "#f0f921"
             ]
            ],
            "type": "histogram2d"
           }
          ],
          "histogram2dcontour": [
           {
            "colorbar": {
             "outlinewidth": 0,
             "ticks": ""
            },
            "colorscale": [
             [
              0,
              "#0d0887"
             ],
             [
              0.1111111111111111,
              "#46039f"
             ],
             [
              0.2222222222222222,
              "#7201a8"
             ],
             [
              0.3333333333333333,
              "#9c179e"
             ],
             [
              0.4444444444444444,
              "#bd3786"
             ],
             [
              0.5555555555555556,
              "#d8576b"
             ],
             [
              0.6666666666666666,
              "#ed7953"
             ],
             [
              0.7777777777777778,
              "#fb9f3a"
             ],
             [
              0.8888888888888888,
              "#fdca26"
             ],
             [
              1,
              "#f0f921"
             ]
            ],
            "type": "histogram2dcontour"
           }
          ],
          "mesh3d": [
           {
            "colorbar": {
             "outlinewidth": 0,
             "ticks": ""
            },
            "type": "mesh3d"
           }
          ],
          "parcoords": [
           {
            "line": {
             "colorbar": {
              "outlinewidth": 0,
              "ticks": ""
             }
            },
            "type": "parcoords"
           }
          ],
          "pie": [
           {
            "automargin": true,
            "type": "pie"
           }
          ],
          "scatter": [
           {
            "fillpattern": {
             "fillmode": "overlay",
             "size": 10,
             "solidity": 0.2
            },
            "type": "scatter"
           }
          ],
          "scatter3d": [
           {
            "line": {
             "colorbar": {
              "outlinewidth": 0,
              "ticks": ""
             }
            },
            "marker": {
             "colorbar": {
              "outlinewidth": 0,
              "ticks": ""
             }
            },
            "type": "scatter3d"
           }
          ],
          "scattercarpet": [
           {
            "marker": {
             "colorbar": {
              "outlinewidth": 0,
              "ticks": ""
             }
            },
            "type": "scattercarpet"
           }
          ],
          "scattergeo": [
           {
            "marker": {
             "colorbar": {
              "outlinewidth": 0,
              "ticks": ""
             }
            },
            "type": "scattergeo"
           }
          ],
          "scattergl": [
           {
            "marker": {
             "colorbar": {
              "outlinewidth": 0,
              "ticks": ""
             }
            },
            "type": "scattergl"
           }
          ],
          "scattermapbox": [
           {
            "marker": {
             "colorbar": {
              "outlinewidth": 0,
              "ticks": ""
             }
            },
            "type": "scattermapbox"
           }
          ],
          "scatterpolar": [
           {
            "marker": {
             "colorbar": {
              "outlinewidth": 0,
              "ticks": ""
             }
            },
            "type": "scatterpolar"
           }
          ],
          "scatterpolargl": [
           {
            "marker": {
             "colorbar": {
              "outlinewidth": 0,
              "ticks": ""
             }
            },
            "type": "scatterpolargl"
           }
          ],
          "scatterternary": [
           {
            "marker": {
             "colorbar": {
              "outlinewidth": 0,
              "ticks": ""
             }
            },
            "type": "scatterternary"
           }
          ],
          "surface": [
           {
            "colorbar": {
             "outlinewidth": 0,
             "ticks": ""
            },
            "colorscale": [
             [
              0,
              "#0d0887"
             ],
             [
              0.1111111111111111,
              "#46039f"
             ],
             [
              0.2222222222222222,
              "#7201a8"
             ],
             [
              0.3333333333333333,
              "#9c179e"
             ],
             [
              0.4444444444444444,
              "#bd3786"
             ],
             [
              0.5555555555555556,
              "#d8576b"
             ],
             [
              0.6666666666666666,
              "#ed7953"
             ],
             [
              0.7777777777777778,
              "#fb9f3a"
             ],
             [
              0.8888888888888888,
              "#fdca26"
             ],
             [
              1,
              "#f0f921"
             ]
            ],
            "type": "surface"
           }
          ],
          "table": [
           {
            "cells": {
             "fill": {
              "color": "#EBF0F8"
             },
             "line": {
              "color": "white"
             }
            },
            "header": {
             "fill": {
              "color": "#C8D4E3"
             },
             "line": {
              "color": "white"
             }
            },
            "type": "table"
           }
          ]
         },
         "layout": {
          "annotationdefaults": {
           "arrowcolor": "#2a3f5f",
           "arrowhead": 0,
           "arrowwidth": 1
          },
          "autotypenumbers": "strict",
          "coloraxis": {
           "colorbar": {
            "outlinewidth": 0,
            "ticks": ""
           }
          },
          "colorscale": {
           "diverging": [
            [
             0,
             "#8e0152"
            ],
            [
             0.1,
             "#c51b7d"
            ],
            [
             0.2,
             "#de77ae"
            ],
            [
             0.3,
             "#f1b6da"
            ],
            [
             0.4,
             "#fde0ef"
            ],
            [
             0.5,
             "#f7f7f7"
            ],
            [
             0.6,
             "#e6f5d0"
            ],
            [
             0.7,
             "#b8e186"
            ],
            [
             0.8,
             "#7fbc41"
            ],
            [
             0.9,
             "#4d9221"
            ],
            [
             1,
             "#276419"
            ]
           ],
           "sequential": [
            [
             0,
             "#0d0887"
            ],
            [
             0.1111111111111111,
             "#46039f"
            ],
            [
             0.2222222222222222,
             "#7201a8"
            ],
            [
             0.3333333333333333,
             "#9c179e"
            ],
            [
             0.4444444444444444,
             "#bd3786"
            ],
            [
             0.5555555555555556,
             "#d8576b"
            ],
            [
             0.6666666666666666,
             "#ed7953"
            ],
            [
             0.7777777777777778,
             "#fb9f3a"
            ],
            [
             0.8888888888888888,
             "#fdca26"
            ],
            [
             1,
             "#f0f921"
            ]
           ],
           "sequentialminus": [
            [
             0,
             "#0d0887"
            ],
            [
             0.1111111111111111,
             "#46039f"
            ],
            [
             0.2222222222222222,
             "#7201a8"
            ],
            [
             0.3333333333333333,
             "#9c179e"
            ],
            [
             0.4444444444444444,
             "#bd3786"
            ],
            [
             0.5555555555555556,
             "#d8576b"
            ],
            [
             0.6666666666666666,
             "#ed7953"
            ],
            [
             0.7777777777777778,
             "#fb9f3a"
            ],
            [
             0.8888888888888888,
             "#fdca26"
            ],
            [
             1,
             "#f0f921"
            ]
           ]
          },
          "colorway": [
           "#636efa",
           "#EF553B",
           "#00cc96",
           "#ab63fa",
           "#FFA15A",
           "#19d3f3",
           "#FF6692",
           "#B6E880",
           "#FF97FF",
           "#FECB52"
          ],
          "font": {
           "color": "#2a3f5f"
          },
          "geo": {
           "bgcolor": "white",
           "lakecolor": "white",
           "landcolor": "#E5ECF6",
           "showlakes": true,
           "showland": true,
           "subunitcolor": "white"
          },
          "hoverlabel": {
           "align": "left"
          },
          "hovermode": "closest",
          "mapbox": {
           "style": "light"
          },
          "paper_bgcolor": "white",
          "plot_bgcolor": "#E5ECF6",
          "polar": {
           "angularaxis": {
            "gridcolor": "white",
            "linecolor": "white",
            "ticks": ""
           },
           "bgcolor": "#E5ECF6",
           "radialaxis": {
            "gridcolor": "white",
            "linecolor": "white",
            "ticks": ""
           }
          },
          "scene": {
           "xaxis": {
            "backgroundcolor": "#E5ECF6",
            "gridcolor": "white",
            "gridwidth": 2,
            "linecolor": "white",
            "showbackground": true,
            "ticks": "",
            "zerolinecolor": "white"
           },
           "yaxis": {
            "backgroundcolor": "#E5ECF6",
            "gridcolor": "white",
            "gridwidth": 2,
            "linecolor": "white",
            "showbackground": true,
            "ticks": "",
            "zerolinecolor": "white"
           },
           "zaxis": {
            "backgroundcolor": "#E5ECF6",
            "gridcolor": "white",
            "gridwidth": 2,
            "linecolor": "white",
            "showbackground": true,
            "ticks": "",
            "zerolinecolor": "white"
           }
          },
          "shapedefaults": {
           "line": {
            "color": "#2a3f5f"
           }
          },
          "ternary": {
           "aaxis": {
            "gridcolor": "white",
            "linecolor": "white",
            "ticks": ""
           },
           "baxis": {
            "gridcolor": "white",
            "linecolor": "white",
            "ticks": ""
           },
           "bgcolor": "#E5ECF6",
           "caxis": {
            "gridcolor": "white",
            "linecolor": "white",
            "ticks": ""
           }
          },
          "title": {
           "x": 0.05
          },
          "xaxis": {
           "automargin": true,
           "gridcolor": "white",
           "linecolor": "white",
           "ticks": "",
           "title": {
            "standoff": 15
           },
           "zerolinecolor": "white",
           "zerolinewidth": 2
          },
          "yaxis": {
           "automargin": true,
           "gridcolor": "white",
           "linecolor": "white",
           "ticks": "",
           "title": {
            "standoff": 15
           },
           "zerolinecolor": "white",
           "zerolinewidth": 2
          }
         }
        }
       }
      }
     },
     "metadata": {},
     "output_type": "display_data"
    }
   ],
   "source": [
    "# Graficar los embedddings en 3D\n",
    "vecs, labels = reduce_dimensions(w2v_model,3)\n",
    "\n",
    "fig = px.scatter_3d(x=vecs[:MAX_WORDS,0], y=vecs[:MAX_WORDS,1], z=vecs[:MAX_WORDS,2],text=labels[:MAX_WORDS])\n",
    "fig.update_traces(marker_size = 2)\n",
    "fig.show() # esto para plotly en colab"
   ]
  }
 ],
 "metadata": {
  "kernelspec": {
   "display_name": "ia_ceia_18co",
   "language": "python",
   "name": "python3"
  },
  "language_info": {
   "codemirror_mode": {
    "name": "ipython",
    "version": 3
   },
   "file_extension": ".py",
   "mimetype": "text/x-python",
   "name": "python",
   "nbconvert_exporter": "python",
   "pygments_lexer": "ipython3",
   "version": "3.10.13"
  }
 },
 "nbformat": 4,
 "nbformat_minor": 4
}
