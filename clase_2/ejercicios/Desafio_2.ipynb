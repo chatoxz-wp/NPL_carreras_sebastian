{
 "cells": [
  {
   "cell_type": "markdown",
   "metadata": {},
   "source": [
    "## Ejercicio\n",
    "\n",
    "- Tomar un ejemplo de los bots utilizados (uno de los dos) y construir el propio.\n",
    "- Sacar conclusiones de los resultados.\n",
    "\n",
    "__IMPORTANTE__: Recuerde para la entrega del ejercicio debe quedar registrado en el colab las preguntas y las respuestas del BOT para que podamos evaluar el desempeño final.\n"
   ]
  },
  {
   "cell_type": "markdown",
   "metadata": {},
   "source": [
    "# Desarrollo"
   ]
  },
  {
   "cell_type": "markdown",
   "metadata": {},
   "source": [
    "## Librerias"
   ]
  },
  {
   "cell_type": "code",
   "execution_count": 24,
   "metadata": {},
   "outputs": [],
   "source": [
    "import pandas as pd\n",
    "import matplotlib.pyplot as plt\n",
    "import seaborn as sns\n",
    "import os\n",
    "import unicodedata\n",
    "\n",
    "import multiprocessing\n",
    "from gensim.models import Word2Vec"
   ]
  },
  {
   "cell_type": "code",
   "execution_count": null,
   "metadata": {},
   "outputs": [
    {
     "data": {
      "text/plain": [
       "['Alejandro Dumas - El Conde de Montecristo.pdf',\n",
       " 'El_Conde_de_Montecristo.txt',\n",
       " 'Sun_Tzu_El_Arte_de_la_Guerra.txt',\n",
       " 'Alejandro Dumas - Los Tres Mosqueteros.pdf',\n",
       " 'Sun Tzu - El Arte de la Guerra.pdf',\n",
       " 'Los_Tres_Mosqueteros.txt',\n",
       " 'Julio Verne - La Vuelta al Mundo en 80 dias.pdf',\n",
       " 'Julio_Verne_La_Vuelta_al_Mundo_en_80_dias.txt']"
      ]
     },
     "execution_count": 25,
     "metadata": {},
     "output_type": "execute_result"
    }
   ],
   "source": [
    "# Posibles corpus\n",
    "os.listdir(\"./libro_dataset\")"
   ]
  },
  {
   "cell_type": "code",
   "execution_count": 26,
   "metadata": {},
   "outputs": [
    {
     "name": "stderr",
     "output_type": "stream",
     "text": [
      "/var/folders/sp/hjjl899x4js87jvp7rfdpj2w0000gn/T/ipykernel_11375/1763536272.py:3: ParserWarning:\n",
      "\n",
      "Falling back to the 'python' engine because the 'c' engine does not support regex separators (separators > 1 char and different from '\\s+' are interpreted as regex); you can avoid this warning by specifying engine='python'.\n",
      "\n"
     ]
    },
    {
     "data": {
      "application/vnd.microsoft.datawrangler.viewer.v0+json": {
       "columns": [
        {
         "name": "index",
         "rawType": "int64",
         "type": "integer"
        },
        {
         "name": "texto",
         "rawType": "object",
         "type": "string"
        }
       ],
       "ref": "66ded1fe-e5f4-4056-9b14-02eafc518a26",
       "rows": [
        [
         "0",
         "Los Tres Mosqueteros"
        ],
        [
         "1",
         "Alejandro Dumas"
        ],
        [
         "2",
         "textos.info"
        ],
        [
         "3",
         "Biblioteca digital abierta"
        ],
        [
         "4",
         "1"
        ]
       ],
       "shape": {
        "columns": 1,
        "rows": 5
       }
      },
      "text/html": [
       "<div>\n",
       "<style scoped>\n",
       "    .dataframe tbody tr th:only-of-type {\n",
       "        vertical-align: middle;\n",
       "    }\n",
       "\n",
       "    .dataframe tbody tr th {\n",
       "        vertical-align: top;\n",
       "    }\n",
       "\n",
       "    .dataframe thead th {\n",
       "        text-align: right;\n",
       "    }\n",
       "</style>\n",
       "<table border=\"1\" class=\"dataframe\">\n",
       "  <thead>\n",
       "    <tr style=\"text-align: right;\">\n",
       "      <th></th>\n",
       "      <th>texto</th>\n",
       "    </tr>\n",
       "  </thead>\n",
       "  <tbody>\n",
       "    <tr>\n",
       "      <th>0</th>\n",
       "      <td>Los Tres Mosqueteros</td>\n",
       "    </tr>\n",
       "    <tr>\n",
       "      <th>1</th>\n",
       "      <td>Alejandro Dumas</td>\n",
       "    </tr>\n",
       "    <tr>\n",
       "      <th>2</th>\n",
       "      <td>textos.info</td>\n",
       "    </tr>\n",
       "    <tr>\n",
       "      <th>3</th>\n",
       "      <td>Biblioteca digital abierta</td>\n",
       "    </tr>\n",
       "    <tr>\n",
       "      <th>4</th>\n",
       "      <td>1</td>\n",
       "    </tr>\n",
       "  </tbody>\n",
       "</table>\n",
       "</div>"
      ],
      "text/plain": [
       "                        texto\n",
       "0        Los Tres Mosqueteros\n",
       "1             Alejandro Dumas\n",
       "2                 textos.info\n",
       "3  Biblioteca digital abierta\n",
       "4                           1"
      ]
     },
     "execution_count": 26,
     "metadata": {},
     "output_type": "execute_result"
    }
   ],
   "source": [
    "# Armar el dataset utilizando salto de línea para separar las oraciones/docs\n",
    "#df = pd.read_csv('libro_dataset/Julio_Verne_La_Vuelta_al_Mundo_en_80_dias.txt', sep='/n', header=None, names=['texto'])\n",
    "df = pd.read_csv('libro_dataset/Los_Tres_Mosqueteros.txt', sep='/n', header=None, names=['texto'])\n",
    "df.head()"
   ]
  },
  {
   "cell_type": "code",
   "execution_count": 27,
   "metadata": {},
   "outputs": [
    {
     "name": "stdout",
     "output_type": "stream",
     "text": [
      "Cantidad de documentos: 22743\n"
     ]
    }
   ],
   "source": [
    "print(\"Cantidad de documentos:\", df.shape[0])"
   ]
  },
  {
   "cell_type": "markdown",
   "metadata": {},
   "source": [
    "#  Preprocesamiento"
   ]
  },
  {
   "cell_type": "code",
   "execution_count": null,
   "metadata": {},
   "outputs": [],
   "source": [
    "# Pasar todo a minúsculas\n",
    "df['texto'] = df['texto'].str.lower()\n",
    "# Eliminar puntuación\n",
    "df['texto'] = df['texto'].str.replace(r'[^\\w\\s]', '', regex=True)\n",
    "# Sacar numeros? Me parece que ayuda sacar los numeros ya estan los numeros de las \n",
    "# paginas incluidos lo cual agrega ruido\n",
    "df['texto'] = df['texto'].str.replace(r'\\d+', '', regex=True)"
   ]
  },
  {
   "cell_type": "code",
   "execution_count": 29,
   "metadata": {},
   "outputs": [],
   "source": [
    "# Función para quitar acentos de una cadena\n",
    "def quitar_acentos(texto):\n",
    "    if isinstance(texto, str):\n",
    "        texto = unicodedata.normalize('NFKD', texto)\n",
    "        texto = texto.encode('ASCII', 'ignore').decode('utf-8')\n",
    "    return texto\n",
    "\n",
    "# Aplicar la función a la columna de texto\n",
    "df['texto'] = df['texto'].apply(quitar_acentos)"
   ]
  },
  {
   "cell_type": "code",
   "execution_count": 30,
   "metadata": {},
   "outputs": [
    {
     "name": "stderr",
     "output_type": "stream",
     "text": [
      "[nltk_data] Downloading package stopwords to\n",
      "[nltk_data]     /Users/sebastiancarreras/nltk_data...\n",
      "[nltk_data]   Package stopwords is already up-to-date!\n"
     ]
    }
   ],
   "source": [
    "# Importar librerías\n",
    "import nltk\n",
    "import re\n",
    "nltk.download('stopwords')\n",
    "from nltk.corpus import stopwords\n",
    "\n",
    "# Stopwords en español\n",
    "#stopwords_es = set(stopwords.words('spanish'))\n",
    "stopwords_es = set([\n",
    "    'el', 'la', 'los', 'las', 'un', 'una', 'unos', 'unas',\n",
    "    'de', 'del', 'al', 'a', 'ante', 'bajo', 'cabe', 'con', 'contra', 'desde', 'en', 'entre', 'hacia', 'hasta', 'para', 'por', 'según', 'sin', 'sobre', 'tras',\n",
    "    'y', 'e', 'ni', 'o', 'u', 'pero', 'sino', 'aunque', 'mientras', 'como', 'cuando', 'donde', 'si', 'porque', 'pues', 'que'\n",
    "])\n",
    "\n"
   ]
  },
  {
   "cell_type": "code",
   "execution_count": 31,
   "metadata": {},
   "outputs": [
    {
     "name": "stdout",
     "output_type": "stream",
     "text": [
      "Cantidad de documentos: 22743\n"
     ]
    }
   ],
   "source": [
    "print(\"Cantidad de documentos:\", df.shape[0])"
   ]
  },
  {
   "cell_type": "code",
   "execution_count": 32,
   "metadata": {},
   "outputs": [
    {
     "name": "stderr",
     "output_type": "stream",
     "text": [
      "/var/folders/sp/hjjl899x4js87jvp7rfdpj2w0000gn/T/ipykernel_11375/2536677296.py:8: FutureWarning:\n",
      "\n",
      "Series.__getitem__ treating keys as positions is deprecated. In a future version, integer keys will always be treated as labels (consistent with DataFrame behavior). To access a value by position, use `ser.iloc[pos]`\n",
      "\n"
     ]
    }
   ],
   "source": [
    "#!pip install --upgrade tensorflow\n",
    "#from keras.preprocessing.text import text_to_word_sequence\n",
    "from tensorflow.keras.preprocessing.text import text_to_word_sequence\n",
    "\n",
    "sentence_tokens = []\n",
    "# Recorrer todas las filas y transformar las oraciones\n",
    "for _, row in df[:None].iterrows():\n",
    "    tokens = text_to_word_sequence(row[0])\n",
    "    tokens_filtrados = [t for t in tokens if t not in stopwords_es] #Eliminar stopwords \n",
    "    sentence_tokens.append(tokens)"
   ]
  },
  {
   "cell_type": "code",
   "execution_count": 33,
   "metadata": {},
   "outputs": [
    {
     "data": {
      "text/plain": [
       "[['los', 'tres', 'mosqueteros'],\n",
       " ['alejandro', 'dumas'],\n",
       " ['textosinfo'],\n",
       " ['biblioteca', 'digital', 'abierta'],\n",
       " ['1'],\n",
       " ['texto', 'num', '172'],\n",
       " ['titulo', 'los', 'tres', 'mosqueteros'],\n",
       " ['autor', 'alejandro', 'dumas'],\n",
       " ['etiquetas', 'novela'],\n",
       " ['editor', 'edu', 'robsy'],\n",
       " ['fecha', 'de', 'creacion', '16', 'de', 'mayo', 'de', '2016'],\n",
       " ['fecha', 'de', 'modificacion', '16', 'de', 'mayo', 'de', '2016'],\n",
       " ['edita', 'textosinfo'],\n",
       " ['maison', 'carree'],\n",
       " ['c', 'ramal', '48']]"
      ]
     },
     "execution_count": 33,
     "metadata": {},
     "output_type": "execute_result"
    }
   ],
   "source": [
    "# Damos un vistazo al libro\n",
    "sentence_tokens[:15]"
   ]
  },
  {
   "cell_type": "markdown",
   "metadata": {},
   "source": [
    "## Callback to track loss"
   ]
  },
  {
   "cell_type": "code",
   "execution_count": 34,
   "metadata": {},
   "outputs": [],
   "source": [
    "from gensim.models.callbacks import CallbackAny2Vec\n",
    "# Durante el entrenamiento gensim por defecto no informa el \"loss\" en cada época\n",
    "# Sobrecargamos el callback para poder tener esta información\n",
    "class callback(CallbackAny2Vec):\n",
    "    \"\"\"\n",
    "    Callback to print loss after each epoch\n",
    "    \"\"\"\n",
    "    def __init__(self):\n",
    "        self.epoch = 0\n",
    "\n",
    "    def on_epoch_end(self, model):\n",
    "        loss = model.get_latest_training_loss()\n",
    "        if self.epoch == 0:\n",
    "            print('Loss after epoch {}: {}'.format(self.epoch, loss))\n",
    "        else:\n",
    "            print('Loss after epoch {}: {}'.format(self.epoch, loss- self.loss_previous_step))\n",
    "        self.epoch += 1\n",
    "        self.loss_previous_step = loss"
   ]
  },
  {
   "cell_type": "code",
   "execution_count": 35,
   "metadata": {},
   "outputs": [
    {
     "data": {
      "text/plain": [
       "12"
      ]
     },
     "execution_count": 35,
     "metadata": {},
     "output_type": "execute_result"
    }
   ],
   "source": [
    "multiprocessing.cpu_count()"
   ]
  },
  {
   "cell_type": "markdown",
   "metadata": {},
   "source": [
    "## Modelo y parametros"
   ]
  },
  {
   "cell_type": "code",
   "execution_count": 36,
   "metadata": {},
   "outputs": [],
   "source": [
    "# Creamos el modelo generador de vectores\n",
    "# En este caso utilizaremos la estructura modelo Skipgram\n",
    "w2v_model = Word2Vec(\n",
    "                min_count=10,       # numero de veces que aparece la palabra\n",
    "                window=3,          # más contexto puede ayudar\n",
    "                vector_size=100,   # uso un valor chico para un corpus chico/Aumentar para embeddings más ricos\n",
    "                workers=multiprocessing.cpu_count(), # usar todos los cores\n",
    "                negative=20,       # suficiente para un corpus narrativo\n",
    "                sg=1               # skipgram capta mejor significados en corpus pequeños\n",
    "                ) "
   ]
  },
  {
   "cell_type": "code",
   "execution_count": null,
   "metadata": {},
   "outputs": [
    {
     "data": {
      "text/plain": [
       "' w2v_model = Word2Vec(\\n                min_count=10,       # numero de veces que aparece la palabra\\n                window=3,          # más contexto puede ayudar\\n                vector_size=100,   # uso un valor chico para un corpus chico/Aumentar para embeddings más ricos\\n                workers=multiprocessing.cpu_count(), # usar todos los cores\\n                negative=19,       # suficiente para un corpus narrativo\\n                sg=1               # skipgram capta mejor significados en corpus pequeños\\n                ) '"
      ]
     },
     "execution_count": 37,
     "metadata": {},
     "output_type": "execute_result"
    }
   ],
   "source": [
    "# Creamos el modelo generador de vectores\n",
    "# En este caso utilizaremos la estructura modelo Skipgram\n",
    "# base porque anda dentro de todo bien\n",
    "\"\"\" w2v_model = Word2Vec(\n",
    "                min_count=10,       # numero de veces que aparece la palabra\n",
    "                window=3,          # más contexto puede ayudar\n",
    "                vector_size=100,   # uso un valor chico para un corpus chico/Aumentar para embeddings más ricos\n",
    "                workers=multiprocessing.cpu_count(), # usar todos los cores\n",
    "                negative=20,       # suficiente para un corpus narrativo\n",
    "                sg=1               # skipgram capta mejor significados en corpus pequeños\n",
    "                ) \"\"\" "
   ]
  },
  {
   "cell_type": "code",
   "execution_count": 38,
   "metadata": {},
   "outputs": [],
   "source": [
    "# Obtener el vocabulario con los tokens\n",
    "w2v_model.build_vocab(sentence_tokens)"
   ]
  },
  {
   "cell_type": "code",
   "execution_count": 39,
   "metadata": {},
   "outputs": [
    {
     "name": "stdout",
     "output_type": "stream",
     "text": [
      "Cantidad de docs en el corpus: 22743\n"
     ]
    }
   ],
   "source": [
    "# Cantidad de filas/docs encontradas en el corpus\n",
    "print(\"Cantidad de docs en el corpus:\", w2v_model.corpus_count)"
   ]
  },
  {
   "cell_type": "code",
   "execution_count": 40,
   "metadata": {},
   "outputs": [
    {
     "name": "stdout",
     "output_type": "stream",
     "text": [
      "Cantidad de palabras distintas en el corpus: 1942\n"
     ]
    }
   ],
   "source": [
    "# Cantidad de words encontradas en el corpus\n",
    "print(\"Cantidad de palabras distintas en el corpus:\", len(w2v_model.wv.index_to_key))"
   ]
  },
  {
   "cell_type": "markdown",
   "metadata": {},
   "source": [
    "# Entrenar embeddings"
   ]
  },
  {
   "cell_type": "code",
   "execution_count": 41,
   "metadata": {},
   "outputs": [
    {
     "name": "stdout",
     "output_type": "stream",
     "text": [
      "Loss after epoch 0: 140053.390625\n",
      "Loss after epoch 1: 128239.734375\n",
      "Loss after epoch 2: 124998.75\n",
      "Loss after epoch 3: 124742.96875\n",
      "Loss after epoch 4: 121323.78125\n",
      "Loss after epoch 5: 119047.8125\n",
      "Loss after epoch 6: 119566.6875\n",
      "Loss after epoch 7: 116066.0\n",
      "Loss after epoch 8: 111911.875\n",
      "Loss after epoch 9: 104204.375\n",
      "Loss after epoch 10: 104498.125\n",
      "Loss after epoch 11: 102611.75\n",
      "Loss after epoch 12: 103863.625\n",
      "Loss after epoch 13: 92079.0\n",
      "Loss after epoch 14: 100788.875\n",
      "Loss after epoch 15: 99883.5\n",
      "Loss after epoch 16: 103275.875\n",
      "Loss after epoch 17: 104374.75\n",
      "Loss after epoch 18: 95153.875\n",
      "Loss after epoch 19: 90590.0\n",
      "Loss after epoch 20: 94356.75\n",
      "Loss after epoch 21: 94642.0\n",
      "Loss after epoch 22: 93948.75\n",
      "Loss after epoch 23: 92112.0\n",
      "Loss after epoch 24: 92756.25\n",
      "Loss after epoch 25: 92585.5\n",
      "Loss after epoch 26: 92334.0\n",
      "Loss after epoch 27: 89299.0\n",
      "Loss after epoch 28: 92414.0\n",
      "Loss after epoch 29: 91624.75\n"
     ]
    },
    {
     "data": {
      "text/plain": [
       "(3684868, 6561000)"
      ]
     },
     "execution_count": 41,
     "metadata": {},
     "output_type": "execute_result"
    }
   ],
   "source": [
    "# Entrenamos el modelo generador de vectores\n",
    "# Utilizamos nuestro callback\n",
    "w2v_model.train(sentence_tokens,\n",
    "                 total_examples=w2v_model.corpus_count,\n",
    "                 epochs=30,\n",
    "                 compute_loss = True,\n",
    "                 callbacks=[callback()]\n",
    "                 )"
   ]
  },
  {
   "cell_type": "markdown",
   "metadata": {},
   "source": [
    "## Análisis de Similitudes"
   ]
  },
  {
   "cell_type": "code",
   "execution_count": 42,
   "metadata": {},
   "outputs": [
    {
     "name": "stdout",
     "output_type": "stream",
     "text": [
      "Palabras más similares:\n",
      "rey: luis, escudero, xiii, richelieu, bassompierre\n",
      "cardenal: suizo, escudero, cojin, duque, abate\n",
      "mosqueteros: soldados, companeros, ayuntamiento, valientes, gascuna\n",
      "milady: burgues, infame, dartagnan, prisionera, felton\n",
      "reina: fere, novicia, chevreuse, fiesta, escritura\n"
     ]
    }
   ],
   "source": [
    "# Palabras de interés\n",
    "palabras_clave = ['rey', 'cardenal', 'mosqueteros', 'milady', 'reina']\n",
    "\n",
    "# Calculamos similitudes\n",
    "similitudes = {}\n",
    "for palabra in palabras_clave:\n",
    "    try:\n",
    "        similitudes[palabra] = [item[0] for item in w2v_model.wv.most_similar(palabra, topn=5)]\n",
    "    except KeyError:\n",
    "        continue\n",
    "\n",
    "print(\"Palabras más similares:\")\n",
    "for palabra, similares in similitudes.items():\n",
    "    print(f\"{palabra}: {', '.join(similares)}\")\n"
   ]
  },
  {
   "cell_type": "markdown",
   "metadata": {},
   "source": [
    "### Conclusiones del análisis de similitud\n",
    "\n",
    "El modelo logró captar asociaciones semánticas coherentes entre palabras clave del universo literario de Los Tres Mosqueteros. \n",
    "Por ejemplo:\n",
    "-\t**Rey**: se asocia con términos como luis, xiii y cardenal, lo que refleja correctamente el contexto histórico del rey Luis XIII y su vínculo con el cardenal Richelieu.\n",
    "-\t**Cardenal**: está vinculado con rey, escudero, suizo, comisario y dartagnan, lo que evidencia su posición de poder y sus interacciones con figuras de autoridad y conflicto.\n",
    "-\t**Mosqueteros**: se relaciona con soldados, compañeros e ingleses, evidenciando la naturaleza militar y de camaradería del grupo.\n",
    "-\t**Milady**: un personaje complejo y traicionero, se conecta con prisionera, felton y barón, todos elementos clave de su arco narrativo.\n",
    "-\t**Reina**: aparece cerca de novicia, madre y corte, resaltando el entorno cortesano y religioso en el que se mueve.\n",
    "\n",
    "Esto indica que el modelo logró representar con éxito las relaciones semánticas y contextuales a partir del texto fuente."
   ]
  },
  {
   "cell_type": "markdown",
   "metadata": {},
   "source": [
    "## Tests de Analogías"
   ]
  },
  {
   "cell_type": "code",
   "execution_count": 43,
   "metadata": {},
   "outputs": [
    {
     "name": "stdout",
     "output_type": "stream",
     "text": [
      "Test de analagías:\n",
      "dartagnan - mosquetero + porthos = uniforme\n",
      "reina - ana + rey = austria\n",
      "mosqueteros - amistad + milady = adivinar\n",
      "francia - paris + inglaterra = londres\n",
      "buckingham - inglaterra + richelieu = reino\n",
      "milady - serpiente + athos = dados\n",
      "mosqueteros - espada + guardia = sentido\n",
      "dartagnan - amor + constance = decidme\n",
      "milady - venganza + winter = lord\n",
      "cardenal - poder + rey = esperando\n",
      "milady - traicion + constance = callaos\n",
      "mosqueteros - uno + todos = pobres\n"
     ]
    }
   ],
   "source": [
    "analogias = [\n",
    "    ('dartagnan', 'mosquetero', 'porthos'),       # Relación de pertenencia\n",
    "    ('reina', 'ana', 'rey'),                      # Reina Ana, Rey Luis XIII\n",
    "    ('mosqueteros', 'amistad', 'milady'),         # Contraste: mosqueteros/amistad vs. Milady/traición\n",
    "    ('francia', 'paris', 'inglaterra'),           # País y capital\n",
    "    ('buckingham', 'inglaterra', 'richelieu'),    # Buckingham:Inglaterra :: Richelieu:Francia\n",
    "    ('milady', 'serpiente', 'athos'),             # Milady comparada con serpiente, Athos con león\n",
    "    ('mosqueteros', 'espada', 'guardia'),         # Mosqueteros usan espada, Guardia usa lanza\n",
    "    ('dartagnan', 'amor', 'constance'),           # d'Artagnan y su interés amoroso\n",
    "    ('milady', 'venganza', 'winter'),             # Milady busca venganza, Lord de Winter es su objetivo\n",
    "    ('cardenal', 'poder', 'rey'),                 # Cardenal Richelieu y el poder, Rey y la corona\n",
    "    ('milady', 'traicion', 'constance'),          # Milady traiciona, Constanza es leal\n",
    "    ('mosqueteros', 'uno', 'todos'),              # Uno para todos, todos para uno\n",
    "]\n",
    "\n",
    "print(\"Test de analagías:\")\n",
    "for a, b, c in analogias:\n",
    "    try:\n",
    "        resultado = w2v_model.wv.most_similar(positive=[b, c], negative=[a], topn=1)[0][0]\n",
    "        print(f\"{a} - {b} + {c} = {resultado}\")\n",
    "    except KeyError as e:\n",
    "        print(f\"Palabra no encontrada: {e}\")"
   ]
  },
  {
   "cell_type": "markdown",
   "metadata": {},
   "source": [
    "### Conclusiones del test de analogías\n",
    "\n",
    "El test de analogías evidenció que el modelo también fue capaz de capturar relaciones más complejas entre conceptos:\n",
    "-\tAnalogías como “reina” - “ana” + “rey” = “luis” y “buckingham” - “inglaterra” + “richelieu” = “xiii” muestran un entendimiento de equivalencias históricas o jerárquicas.\n",
    "-\tRelaciones narrativas como “milady” - “venganza” + “winter” = “lord” reflejan conexiones relevantes dentro de la trama.\n",
    "-\tAlgunas analogías, aunque gramaticalmente válidas, generaron resultados menos intuitivos o abstractos (“mosqueteros” - “uno” + “todos” = “pobres”), lo que sugiere limitaciones cuando las relaciones dependen más de simbolismo que de coocurrencia textual directa.\n",
    "\n",
    "En general, el desempeño del modelo en analogías confirma su capacidad para aprender no solo asociaciones simples, sino también patrones de razonamiento relacional basados en el corpus entrenado."
   ]
  },
  {
   "cell_type": "markdown",
   "metadata": {},
   "source": [
    "# Visualización"
   ]
  },
  {
   "cell_type": "code",
   "execution_count": 44,
   "metadata": {},
   "outputs": [],
   "source": [
    "from sklearn.decomposition import IncrementalPCA    \n",
    "from sklearn.manifold import TSNE                   \n",
    "import numpy as np                                  \n",
    "\n",
    "def reduce_dimensions(model, num_dimensions = 2 ):\n",
    "     \n",
    "    vectors = np.asarray(model.wv.vectors)\n",
    "    labels = np.asarray(model.wv.index_to_key)  \n",
    "\n",
    "    tsne = TSNE(n_components=num_dimensions, random_state=0)\n",
    "    vectors = tsne.fit_transform(vectors)\n",
    "\n",
    "    return vectors, labels"
   ]
  },
  {
   "cell_type": "code",
   "execution_count": 45,
   "metadata": {},
   "outputs": [
    {
     "data": {
      "application/vnd.plotly.v1+json": {
       "config": {
        "plotlyServerURL": "https://plot.ly"
       },
       "data": [
        {
         "hovertemplate": "x=%{x}<br>y=%{y}<br>text=%{text}<extra></extra>",
         "legendgroup": "",
         "marker": {
          "color": "#636efa",
          "symbol": "circle"
         },
         "mode": "markers+text",
         "name": "",
         "orientation": "v",
         "showlegend": false,
         "text": [
          "de",
          "que",
          "la",
          "a",
          "el",
          "y",
          "en",
          "no",
          "se",
          "su",
          "por",
          "un",
          "los",
          "una",
          "con",
          "dartagnan",
          "dijo",
          "al",
          "lo",
          "del",
          "habia",
          "como",
          "las",
          "es",
          "si",
          "senor",
          "me",
          "pero",
          "para",
          "mi",
          "mas",
          "os",
          "athos",
          "le",
          "sus",
          "esta",
          "yo",
          "era",
          "milady",
          "sin",
          "ha",
          "todo",
          "porthos",
          "sobre",
          "vos",
          "cardenal",
          "dos",
          "aramis",
          "estaba",
          "bien",
          "senora",
          "ella",
          "cuando",
          "he",
          "o",
          "vuestra",
          "ese",
          "mujer",
          "quien",
          "joven",
          "pues",
          "hombre",
          "vez",
          "eso",
          "porque",
          "entonces",
          "rey",
          "tan",
          "este",
          "aquella",
          "ya",
          "bonacieux",
          "hacia",
          "exclamo",
          "solo",
          "esa",
          "treville",
          "aquel",
          "puerta",
          "mismo",
          "nada",
          "felton",
          "hecho",
          "muy",
          "tres",
          "habeis",
          "tenia",
          "mano",
          "uno",
          "reina",
          "momento",
          "tiempo",
          "respondio",
          "cuatro",
          "hasta",
          "luego",
          "donde",
          "vuestro",
          "hacer",
          "todos",
          "dios",
          "casa",
          "ser",
          "noche",
          "amigos",
          "oh",
          "pregunto",
          "carta",
          "dicho",
          "decir",
          "aqui",
          "tanto",
          "planchet",
          "voz",
          "querido",
          "ojos",
          "ah",
          "fue",
          "mio",
          "nos",
          "hizo",
          "mosqueteros",
          "sois",
          "sido",
          "embargo",
          "ahora",
          "gran",
          "hay",
          "cuanto",
          "habian",
          "caballo",
          "otro",
          "senores",
          "dia",
          "tengo",
          "cabeza",
          "amigo",
          "menos",
          "desde",
          "duque",
          "ni",
          "otra",
          "buckingham",
          "ver",
          "hombres",
          "winter",
          "contra",
          "mis",
          "entre",
          "ante",
          "nombre",
          "ademas",
          "palabra",
          "parte",
          "manana",
          "habitacion",
          "todas",
          "eminencia",
          "hubiera",
          "instante",
          "aun",
          "visto",
          "toda",
          "cual",
          "mucho",
          "asi",
          "majestad",
          "paso",
          "soy",
          "teneis",
          "continuo",
          "despues",
          "tras",
          "lord",
          "dias",
          "volvio",
          "cosa",
          "algo",
          "siempre",
          "dado",
          "espada",
          "manos",
          "estoy",
          "haber",
          "fin",
          "esto",
          "corazon",
          "lugar",
          "prosiguio",
          "mientras",
          "podia",
          "tambien",
          "guardias",
          "hora",
          "cada",
          "vino",
          "duda",
          "punto",
          "camino",
          "tiene"
         ],
         "type": "scatter",
         "x": [
          1.4953376054763794,
          -3.7527971267700195,
          3.578289031982422,
          1.6397721767425537,
          3.8812015056610107,
          2.34740948677063,
          2.2624292373657227,
          -4.629313945770264,
          2.304464101791382,
          3.523106575012207,
          1.3246359825134277,
          3.728739023208618,
          -3.495293140411377,
          4.018341064453125,
          2.0381646156311035,
          8.18150806427002,
          3.724496841430664,
          3.843764305114746,
          -4.297006607055664,
          3.934467077255249,
          -9.934492111206055,
          -3.527385950088501,
          -7.78995418548584,
          -1.7876273393630981,
          -3.471832036972046,
          8.8292818069458,
          -5.299617290496826,
          -3.231703042984009,
          -3.760317087173462,
          2.605201482772827,
          -5.252041816711426,
          -4.692975044250488,
          8.220175743103027,
          -17.163612365722656,
          -4.492010116577148,
          3.616722345352173,
          -4.758396625518799,
          -1.8879185914993286,
          9.454581260681152,
          -18.437604904174805,
          -9.80177116394043,
          -3.5656533241271973,
          8.095002174377441,
          13.502013206481934,
          -1.6188457012176514,
          7.787627696990967,
          -1.9168908596038818,
          7.79410457611084,
          7.342706203460693,
          0.13592597842216492,
          12.844352722167969,
          2.3588013648986816,
          -16.31130599975586,
          -8.217235565185547,
          -8.199394226074219,
          1.9404606819152832,
          3.6455657482147217,
          13.812992095947266,
          -9.000115394592285,
          8.179591178894043,
          -19.338394165039062,
          6.445240497589111,
          11.224139213562012,
          -3.0731663703918457,
          -3.094727039337158,
          -19.512468338012695,
          7.566168308258057,
          -14.380839347839355,
          4.210779190063477,
          3.9767661094665527,
          -4.619564533233643,
          12.812117576599121,
          1.5933732986450195,
          3.934117317199707,
          -11.874368667602539,
          4.045437812805176,
          9.075963973999023,
          0.9415228962898254,
          8.186025619506836,
          16.277938842773438,
          -5.0219879150390625,
          9.735584259033203,
          -12.571489334106445,
          5.442427635192871,
          -2.338103771209717,
          -8.566117286682129,
          -12.964885711669922,
          12.79737663269043,
          -0.28801560401916504,
          -0.4027579724788666,
          3.7275993824005127,
          2.4459564685821533,
          3.7437262535095215,
          -1.9642785787582397,
          8.489707946777344,
          -14.784732818603516,
          -17.593645095825195,
          2.832935333251953,
          -7.8254475593566895,
          -3.6678359508514404,
          2.258265733718872,
          16.453872680664062,
          -5.885337829589844,
          3.942884683609009,
          -2.447410821914673,
          5.789359092712402,
          3.8652310371398926,
          -7.55759859085083,
          -14.305998802185059,
          -3.3319528102874756,
          0.5187944173812866,
          -8.71039867401123,
          8.421928405761719,
          16.113527297973633,
          0.7313513159751892,
          0.43409526348114014,
          2.7241759300231934,
          8.297901153564453,
          6.70671272277832,
          -2.807697296142578,
          13.543543815612793,
          -4.932690620422363,
          1.9629027843475342,
          -11.671749114990234,
          -18.464160919189453,
          0.9207407832145691,
          -1.235740303993225,
          -1.1812928915023804,
          -3.728771448135376,
          -10.330473899841309,
          4.237649440765381,
          -7.512281894683838,
          0.14046795666217804,
          -16.6729736328125,
          -4.294689655303955,
          10.291869163513184,
          8.216075897216797,
          -4.2103142738342285,
          -15.527260780334473,
          5.288003444671631,
          -8.744199752807617,
          7.172122955322266,
          5.053869724273682,
          -8.070690155029297,
          -2.972316026687622,
          13.042440414428711,
          11.071664810180664,
          -4.5604143142700195,
          19.17001724243164,
          5.963814735412598,
          6.226003170013428,
          -2.9869303703308105,
          -6.582652568817139,
          -8.63037109375,
          4.263114929199219,
          4.7734761238098145,
          -8.730472564697266,
          -0.865534782409668,
          -10.90711784362793,
          4.128382682800293,
          -4.777773857116699,
          -15.558538436889648,
          5.421512126922607,
          -15.662901878356934,
          -4.783477783203125,
          -12.077342987060547,
          -0.9323808550834656,
          9.587803840637207,
          -4.621331214904785,
          -3.1609551906585693,
          2.9748501777648926,
          -2.5076115131378174,
          18.531145095825195,
          13.036849021911621,
          -8.45516300201416,
          9.435270309448242,
          -2.072699546813965,
          -15.604669570922852,
          -11.739974021911621,
          -8.675374031066895,
          -1.2910642623901367,
          -4.34782075881958,
          0.1808023899793625,
          6.915928363800049,
          -2.585824489593506,
          -4.286441326141357,
          0.9995517730712891,
          4.808115005493164,
          3.263521671295166,
          -2.5372469425201416,
          -6.915146827697754,
          -8.832639694213867,
          -1.249068021774292,
          2.9281508922576904,
          0.5782734751701355,
          3.353882074356079,
          -8.823034286499023,
          1.863842248916626,
          4.297799110412598,
          -2.370516300201416
         ],
         "xaxis": "x",
         "y": [
          1.1305030584335327,
          -3.4165732860565186,
          3.039055824279785,
          1.579971432685852,
          0.12331034243106842,
          1.5347750186920166,
          2.3043131828308105,
          -5.147852420806885,
          1.4418991804122925,
          1.7452903985977173,
          1.0909206867218018,
          -0.7985109090805054,
          14.447988510131836,
          2.889615774154663,
          1.33616304397583,
          -3.4602484703063965,
          -17.986757278442383,
          0.3338928520679474,
          -4.724396705627441,
          0.2524181008338928,
          -13.10519790649414,
          -4.3629469871521,
          11.84345817565918,
          -7.090620994567871,
          -7.084560394287109,
          -7.1221489906311035,
          -12.563488006591797,
          -5.178188323974609,
          -6.360534191131592,
          -8.275285720825195,
          -4.892918109893799,
          -12.930543899536133,
          -3.5385916233062744,
          4.087360382080078,
          17.613380432128906,
          2.826878786087036,
          -11.389512062072754,
          -7.084824085235596,
          -4.416463851928711,
          -6.682244300842285,
          -12.696495056152344,
          -2.835221767425537,
          -3.5987095832824707,
          3.3830995559692383,
          -10.43108081817627,
          -2.5963332653045654,
          17.128145217895508,
          -3.4820194244384766,
          6.436556339263916,
          -11.759408950805664,
          -10.157381057739258,
          0.8301325440406799,
          0.5075975656509399,
          -11.5368070602417,
          17.641159057617188,
          -9.025052070617676,
          -0.6698339581489563,
          -5.2871994972229,
          -7.445239543914795,
          -3.462982416152954,
          -2.6773226261138916,
          -7.390016555786133,
          0.3278496265411377,
          -5.955472469329834,
          -5.304854869842529,
          -4.731466293334961,
          -2.0134942531585693,
          -1.54175865650177,
          0.07227587699890137,
          3.0440263748168945,
          -5.646520614624023,
          -10.06600570678711,
          2.351466655731201,
          -17.931121826171875,
          -10.764516830444336,
          3.7506470680236816,
          -7.104996681213379,
          3.3670244216918945,
          12.34192943572998,
          -8.898355484008789,
          -5.004275321960449,
          -4.845559597015381,
          -8.013538360595703,
          -10.428308486938477,
          17.332117080688477,
          -12.129715919494629,
          11.075342178344727,
          8.765969276428223,
          9.317584991455078,
          2.4947547912597656,
          8.859949111938477,
          -4.976531028747559,
          -18.106454849243164,
          17.14000129699707,
          -12.518402099609375,
          8.444793701171875,
          -4.261144638061523,
          -8.104408264160156,
          -1.741236925125122,
          14.0875825881958,
          -10.7298002243042,
          1.8897435665130615,
          -2.3035359382629395,
          5.4345316886901855,
          15.157808303833008,
          -17.03013038635254,
          -18.194896697998047,
          4.666778564453125,
          -6.090299606323242,
          -2.0019173622131348,
          -10.848965644836426,
          -5.623122215270996,
          -3.624434232711792,
          -6.113400459289551,
          -14.841987609863281,
          13.170096397399902,
          -17.1790828704834,
          14.481572151184082,
          -8.869986534118652,
          -7.70614767074585,
          13.04201602935791,
          12.698661804199219,
          -15.414340019226074,
          -5.35116720199585,
          -6.6865129470825195,
          -18.518342971801758,
          10.176752090454102,
          -6.609978675842285,
          -4.054165363311768,
          -13.3872652053833,
          -4.763333320617676,
          -5.171185493469238,
          -11.989726066589355,
          12.445756912231445,
          -9.85512638092041,
          10.253948211669922,
          -8.41126823425293,
          -8.783111572265625,
          -3.6033124923706055,
          -1.1068840026855469,
          -10.34796142578125,
          18.336759567260742,
          1.4126853942871094,
          -2.340407609939575,
          13.479637145996094,
          -14.591143608093262,
          -9.933448791503906,
          17.8089656829834,
          -1.3194836378097534,
          2.851860284805298,
          -5.585932731628418,
          -5.571775436401367,
          3.323021173477173,
          4.443249702453613,
          4.762256145477295,
          12.229330062866211,
          10.797953605651855,
          0.008309952914714813,
          -13.93336009979248,
          16.329484939575195,
          -4.41692590713501,
          -6.845212459564209,
          2.9704458713531494,
          -9.415432929992676,
          -5.099325656890869,
          -0.5725786089897156,
          0.11632464826107025,
          7.173446178436279,
          -11.665306091308594,
          -13.983040809631348,
          -18.392154693603516,
          3.636152744293213,
          8.044445037841797,
          -14.585748672485352,
          17.2778263092041,
          13.818010330200195,
          -5.886528968811035,
          -10.845415115356445,
          5.710207939147949,
          -7.246587753295898,
          3.0850274562835693,
          9.432103157043457,
          -13.24689769744873,
          6.383137226104736,
          7.2562255859375,
          -4.153379917144775,
          -2.783323049545288,
          10.544166564941406,
          -18.083951950073242,
          15.979299545288086,
          5.819438934326172,
          1.491780400276184,
          14.376233100891113,
          7.600168228149414,
          17.227832794189453,
          -2.9580843448638916,
          -4.351204872131348,
          11.604927062988281,
          9.925981521606445,
          -9.769519805908203
         ],
         "yaxis": "y"
        }
       ],
       "layout": {
        "legend": {
         "tracegroupgap": 0
        },
        "margin": {
         "t": 60
        },
        "template": {
         "data": {
          "bar": [
           {
            "error_x": {
             "color": "#2a3f5f"
            },
            "error_y": {
             "color": "#2a3f5f"
            },
            "marker": {
             "line": {
              "color": "#E5ECF6",
              "width": 0.5
             },
             "pattern": {
              "fillmode": "overlay",
              "size": 10,
              "solidity": 0.2
             }
            },
            "type": "bar"
           }
          ],
          "barpolar": [
           {
            "marker": {
             "line": {
              "color": "#E5ECF6",
              "width": 0.5
             },
             "pattern": {
              "fillmode": "overlay",
              "size": 10,
              "solidity": 0.2
             }
            },
            "type": "barpolar"
           }
          ],
          "carpet": [
           {
            "aaxis": {
             "endlinecolor": "#2a3f5f",
             "gridcolor": "white",
             "linecolor": "white",
             "minorgridcolor": "white",
             "startlinecolor": "#2a3f5f"
            },
            "baxis": {
             "endlinecolor": "#2a3f5f",
             "gridcolor": "white",
             "linecolor": "white",
             "minorgridcolor": "white",
             "startlinecolor": "#2a3f5f"
            },
            "type": "carpet"
           }
          ],
          "choropleth": [
           {
            "colorbar": {
             "outlinewidth": 0,
             "ticks": ""
            },
            "type": "choropleth"
           }
          ],
          "contour": [
           {
            "colorbar": {
             "outlinewidth": 0,
             "ticks": ""
            },
            "colorscale": [
             [
              0,
              "#0d0887"
             ],
             [
              0.1111111111111111,
              "#46039f"
             ],
             [
              0.2222222222222222,
              "#7201a8"
             ],
             [
              0.3333333333333333,
              "#9c179e"
             ],
             [
              0.4444444444444444,
              "#bd3786"
             ],
             [
              0.5555555555555556,
              "#d8576b"
             ],
             [
              0.6666666666666666,
              "#ed7953"
             ],
             [
              0.7777777777777778,
              "#fb9f3a"
             ],
             [
              0.8888888888888888,
              "#fdca26"
             ],
             [
              1,
              "#f0f921"
             ]
            ],
            "type": "contour"
           }
          ],
          "contourcarpet": [
           {
            "colorbar": {
             "outlinewidth": 0,
             "ticks": ""
            },
            "type": "contourcarpet"
           }
          ],
          "heatmap": [
           {
            "colorbar": {
             "outlinewidth": 0,
             "ticks": ""
            },
            "colorscale": [
             [
              0,
              "#0d0887"
             ],
             [
              0.1111111111111111,
              "#46039f"
             ],
             [
              0.2222222222222222,
              "#7201a8"
             ],
             [
              0.3333333333333333,
              "#9c179e"
             ],
             [
              0.4444444444444444,
              "#bd3786"
             ],
             [
              0.5555555555555556,
              "#d8576b"
             ],
             [
              0.6666666666666666,
              "#ed7953"
             ],
             [
              0.7777777777777778,
              "#fb9f3a"
             ],
             [
              0.8888888888888888,
              "#fdca26"
             ],
             [
              1,
              "#f0f921"
             ]
            ],
            "type": "heatmap"
           }
          ],
          "heatmapgl": [
           {
            "colorbar": {
             "outlinewidth": 0,
             "ticks": ""
            },
            "colorscale": [
             [
              0,
              "#0d0887"
             ],
             [
              0.1111111111111111,
              "#46039f"
             ],
             [
              0.2222222222222222,
              "#7201a8"
             ],
             [
              0.3333333333333333,
              "#9c179e"
             ],
             [
              0.4444444444444444,
              "#bd3786"
             ],
             [
              0.5555555555555556,
              "#d8576b"
             ],
             [
              0.6666666666666666,
              "#ed7953"
             ],
             [
              0.7777777777777778,
              "#fb9f3a"
             ],
             [
              0.8888888888888888,
              "#fdca26"
             ],
             [
              1,
              "#f0f921"
             ]
            ],
            "type": "heatmapgl"
           }
          ],
          "histogram": [
           {
            "marker": {
             "pattern": {
              "fillmode": "overlay",
              "size": 10,
              "solidity": 0.2
             }
            },
            "type": "histogram"
           }
          ],
          "histogram2d": [
           {
            "colorbar": {
             "outlinewidth": 0,
             "ticks": ""
            },
            "colorscale": [
             [
              0,
              "#0d0887"
             ],
             [
              0.1111111111111111,
              "#46039f"
             ],
             [
              0.2222222222222222,
              "#7201a8"
             ],
             [
              0.3333333333333333,
              "#9c179e"
             ],
             [
              0.4444444444444444,
              "#bd3786"
             ],
             [
              0.5555555555555556,
              "#d8576b"
             ],
             [
              0.6666666666666666,
              "#ed7953"
             ],
             [
              0.7777777777777778,
              "#fb9f3a"
             ],
             [
              0.8888888888888888,
              "#fdca26"
             ],
             [
              1,
              "#f0f921"
             ]
            ],
            "type": "histogram2d"
           }
          ],
          "histogram2dcontour": [
           {
            "colorbar": {
             "outlinewidth": 0,
             "ticks": ""
            },
            "colorscale": [
             [
              0,
              "#0d0887"
             ],
             [
              0.1111111111111111,
              "#46039f"
             ],
             [
              0.2222222222222222,
              "#7201a8"
             ],
             [
              0.3333333333333333,
              "#9c179e"
             ],
             [
              0.4444444444444444,
              "#bd3786"
             ],
             [
              0.5555555555555556,
              "#d8576b"
             ],
             [
              0.6666666666666666,
              "#ed7953"
             ],
             [
              0.7777777777777778,
              "#fb9f3a"
             ],
             [
              0.8888888888888888,
              "#fdca26"
             ],
             [
              1,
              "#f0f921"
             ]
            ],
            "type": "histogram2dcontour"
           }
          ],
          "mesh3d": [
           {
            "colorbar": {
             "outlinewidth": 0,
             "ticks": ""
            },
            "type": "mesh3d"
           }
          ],
          "parcoords": [
           {
            "line": {
             "colorbar": {
              "outlinewidth": 0,
              "ticks": ""
             }
            },
            "type": "parcoords"
           }
          ],
          "pie": [
           {
            "automargin": true,
            "type": "pie"
           }
          ],
          "scatter": [
           {
            "fillpattern": {
             "fillmode": "overlay",
             "size": 10,
             "solidity": 0.2
            },
            "type": "scatter"
           }
          ],
          "scatter3d": [
           {
            "line": {
             "colorbar": {
              "outlinewidth": 0,
              "ticks": ""
             }
            },
            "marker": {
             "colorbar": {
              "outlinewidth": 0,
              "ticks": ""
             }
            },
            "type": "scatter3d"
           }
          ],
          "scattercarpet": [
           {
            "marker": {
             "colorbar": {
              "outlinewidth": 0,
              "ticks": ""
             }
            },
            "type": "scattercarpet"
           }
          ],
          "scattergeo": [
           {
            "marker": {
             "colorbar": {
              "outlinewidth": 0,
              "ticks": ""
             }
            },
            "type": "scattergeo"
           }
          ],
          "scattergl": [
           {
            "marker": {
             "colorbar": {
              "outlinewidth": 0,
              "ticks": ""
             }
            },
            "type": "scattergl"
           }
          ],
          "scattermapbox": [
           {
            "marker": {
             "colorbar": {
              "outlinewidth": 0,
              "ticks": ""
             }
            },
            "type": "scattermapbox"
           }
          ],
          "scatterpolar": [
           {
            "marker": {
             "colorbar": {
              "outlinewidth": 0,
              "ticks": ""
             }
            },
            "type": "scatterpolar"
           }
          ],
          "scatterpolargl": [
           {
            "marker": {
             "colorbar": {
              "outlinewidth": 0,
              "ticks": ""
             }
            },
            "type": "scatterpolargl"
           }
          ],
          "scatterternary": [
           {
            "marker": {
             "colorbar": {
              "outlinewidth": 0,
              "ticks": ""
             }
            },
            "type": "scatterternary"
           }
          ],
          "surface": [
           {
            "colorbar": {
             "outlinewidth": 0,
             "ticks": ""
            },
            "colorscale": [
             [
              0,
              "#0d0887"
             ],
             [
              0.1111111111111111,
              "#46039f"
             ],
             [
              0.2222222222222222,
              "#7201a8"
             ],
             [
              0.3333333333333333,
              "#9c179e"
             ],
             [
              0.4444444444444444,
              "#bd3786"
             ],
             [
              0.5555555555555556,
              "#d8576b"
             ],
             [
              0.6666666666666666,
              "#ed7953"
             ],
             [
              0.7777777777777778,
              "#fb9f3a"
             ],
             [
              0.8888888888888888,
              "#fdca26"
             ],
             [
              1,
              "#f0f921"
             ]
            ],
            "type": "surface"
           }
          ],
          "table": [
           {
            "cells": {
             "fill": {
              "color": "#EBF0F8"
             },
             "line": {
              "color": "white"
             }
            },
            "header": {
             "fill": {
              "color": "#C8D4E3"
             },
             "line": {
              "color": "white"
             }
            },
            "type": "table"
           }
          ]
         },
         "layout": {
          "annotationdefaults": {
           "arrowcolor": "#2a3f5f",
           "arrowhead": 0,
           "arrowwidth": 1
          },
          "autotypenumbers": "strict",
          "coloraxis": {
           "colorbar": {
            "outlinewidth": 0,
            "ticks": ""
           }
          },
          "colorscale": {
           "diverging": [
            [
             0,
             "#8e0152"
            ],
            [
             0.1,
             "#c51b7d"
            ],
            [
             0.2,
             "#de77ae"
            ],
            [
             0.3,
             "#f1b6da"
            ],
            [
             0.4,
             "#fde0ef"
            ],
            [
             0.5,
             "#f7f7f7"
            ],
            [
             0.6,
             "#e6f5d0"
            ],
            [
             0.7,
             "#b8e186"
            ],
            [
             0.8,
             "#7fbc41"
            ],
            [
             0.9,
             "#4d9221"
            ],
            [
             1,
             "#276419"
            ]
           ],
           "sequential": [
            [
             0,
             "#0d0887"
            ],
            [
             0.1111111111111111,
             "#46039f"
            ],
            [
             0.2222222222222222,
             "#7201a8"
            ],
            [
             0.3333333333333333,
             "#9c179e"
            ],
            [
             0.4444444444444444,
             "#bd3786"
            ],
            [
             0.5555555555555556,
             "#d8576b"
            ],
            [
             0.6666666666666666,
             "#ed7953"
            ],
            [
             0.7777777777777778,
             "#fb9f3a"
            ],
            [
             0.8888888888888888,
             "#fdca26"
            ],
            [
             1,
             "#f0f921"
            ]
           ],
           "sequentialminus": [
            [
             0,
             "#0d0887"
            ],
            [
             0.1111111111111111,
             "#46039f"
            ],
            [
             0.2222222222222222,
             "#7201a8"
            ],
            [
             0.3333333333333333,
             "#9c179e"
            ],
            [
             0.4444444444444444,
             "#bd3786"
            ],
            [
             0.5555555555555556,
             "#d8576b"
            ],
            [
             0.6666666666666666,
             "#ed7953"
            ],
            [
             0.7777777777777778,
             "#fb9f3a"
            ],
            [
             0.8888888888888888,
             "#fdca26"
            ],
            [
             1,
             "#f0f921"
            ]
           ]
          },
          "colorway": [
           "#636efa",
           "#EF553B",
           "#00cc96",
           "#ab63fa",
           "#FFA15A",
           "#19d3f3",
           "#FF6692",
           "#B6E880",
           "#FF97FF",
           "#FECB52"
          ],
          "font": {
           "color": "#2a3f5f"
          },
          "geo": {
           "bgcolor": "white",
           "lakecolor": "white",
           "landcolor": "#E5ECF6",
           "showlakes": true,
           "showland": true,
           "subunitcolor": "white"
          },
          "hoverlabel": {
           "align": "left"
          },
          "hovermode": "closest",
          "mapbox": {
           "style": "light"
          },
          "paper_bgcolor": "white",
          "plot_bgcolor": "#E5ECF6",
          "polar": {
           "angularaxis": {
            "gridcolor": "white",
            "linecolor": "white",
            "ticks": ""
           },
           "bgcolor": "#E5ECF6",
           "radialaxis": {
            "gridcolor": "white",
            "linecolor": "white",
            "ticks": ""
           }
          },
          "scene": {
           "xaxis": {
            "backgroundcolor": "#E5ECF6",
            "gridcolor": "white",
            "gridwidth": 2,
            "linecolor": "white",
            "showbackground": true,
            "ticks": "",
            "zerolinecolor": "white"
           },
           "yaxis": {
            "backgroundcolor": "#E5ECF6",
            "gridcolor": "white",
            "gridwidth": 2,
            "linecolor": "white",
            "showbackground": true,
            "ticks": "",
            "zerolinecolor": "white"
           },
           "zaxis": {
            "backgroundcolor": "#E5ECF6",
            "gridcolor": "white",
            "gridwidth": 2,
            "linecolor": "white",
            "showbackground": true,
            "ticks": "",
            "zerolinecolor": "white"
           }
          },
          "shapedefaults": {
           "line": {
            "color": "#2a3f5f"
           }
          },
          "ternary": {
           "aaxis": {
            "gridcolor": "white",
            "linecolor": "white",
            "ticks": ""
           },
           "baxis": {
            "gridcolor": "white",
            "linecolor": "white",
            "ticks": ""
           },
           "bgcolor": "#E5ECF6",
           "caxis": {
            "gridcolor": "white",
            "linecolor": "white",
            "ticks": ""
           }
          },
          "title": {
           "x": 0.05
          },
          "xaxis": {
           "automargin": true,
           "gridcolor": "white",
           "linecolor": "white",
           "ticks": "",
           "title": {
            "standoff": 15
           },
           "zerolinecolor": "white",
           "zerolinewidth": 2
          },
          "yaxis": {
           "automargin": true,
           "gridcolor": "white",
           "linecolor": "white",
           "ticks": "",
           "title": {
            "standoff": 15
           },
           "zerolinecolor": "white",
           "zerolinewidth": 2
          }
         }
        },
        "xaxis": {
         "anchor": "y",
         "domain": [
          0,
          1
         ],
         "title": {
          "text": "x"
         }
        },
        "yaxis": {
         "anchor": "x",
         "domain": [
          0,
          1
         ],
         "title": {
          "text": "y"
         }
        }
       }
      }
     },
     "metadata": {},
     "output_type": "display_data"
    }
   ],
   "source": [
    "# Graficar los embedddings en 2D\n",
    "import plotly.graph_objects as go\n",
    "import plotly.express as px\n",
    "\n",
    "vecs, labels = reduce_dimensions(w2v_model)\n",
    "\n",
    "MAX_WORDS=200\n",
    "fig = px.scatter(x=vecs[:MAX_WORDS,0], y=vecs[:MAX_WORDS,1], text=labels[:MAX_WORDS])\n",
    "fig.show() # esto para plotly en colab"
   ]
  },
  {
   "cell_type": "code",
   "execution_count": 46,
   "metadata": {},
   "outputs": [
    {
     "data": {
      "application/vnd.plotly.v1+json": {
       "config": {
        "plotlyServerURL": "https://plot.ly"
       },
       "data": [
        {
         "hovertemplate": "x=%{x}<br>y=%{y}<br>z=%{z}<br>text=%{text}<extra></extra>",
         "legendgroup": "",
         "marker": {
          "color": "#636efa",
          "size": 2,
          "symbol": "circle"
         },
         "mode": "markers+text",
         "name": "",
         "scene": "scene",
         "showlegend": false,
         "text": [
          "de",
          "que",
          "la",
          "a",
          "el",
          "y",
          "en",
          "no",
          "se",
          "su",
          "por",
          "un",
          "los",
          "una",
          "con",
          "dartagnan",
          "dijo",
          "al",
          "lo",
          "del",
          "habia",
          "como",
          "las",
          "es",
          "si",
          "senor",
          "me",
          "pero",
          "para",
          "mi",
          "mas",
          "os",
          "athos",
          "le",
          "sus",
          "esta",
          "yo",
          "era",
          "milady",
          "sin",
          "ha",
          "todo",
          "porthos",
          "sobre",
          "vos",
          "cardenal",
          "dos",
          "aramis",
          "estaba",
          "bien",
          "senora",
          "ella",
          "cuando",
          "he",
          "o",
          "vuestra",
          "ese",
          "mujer",
          "quien",
          "joven",
          "pues",
          "hombre",
          "vez",
          "eso",
          "porque",
          "entonces",
          "rey",
          "tan",
          "este",
          "aquella",
          "ya",
          "bonacieux",
          "hacia",
          "exclamo",
          "solo",
          "esa",
          "treville",
          "aquel",
          "puerta",
          "mismo",
          "nada",
          "felton",
          "hecho",
          "muy",
          "tres",
          "habeis",
          "tenia",
          "mano",
          "uno",
          "reina",
          "momento",
          "tiempo",
          "respondio",
          "cuatro",
          "hasta",
          "luego",
          "donde",
          "vuestro",
          "hacer",
          "todos",
          "dios",
          "casa",
          "ser",
          "noche",
          "amigos",
          "oh",
          "pregunto",
          "carta",
          "dicho",
          "decir",
          "aqui",
          "tanto",
          "planchet",
          "voz",
          "querido",
          "ojos",
          "ah",
          "fue",
          "mio",
          "nos",
          "hizo",
          "mosqueteros",
          "sois",
          "sido",
          "embargo",
          "ahora",
          "gran",
          "hay",
          "cuanto",
          "habian",
          "caballo",
          "otro",
          "senores",
          "dia",
          "tengo",
          "cabeza",
          "amigo",
          "menos",
          "desde",
          "duque",
          "ni",
          "otra",
          "buckingham",
          "ver",
          "hombres",
          "winter",
          "contra",
          "mis",
          "entre",
          "ante",
          "nombre",
          "ademas",
          "palabra",
          "parte",
          "manana",
          "habitacion",
          "todas",
          "eminencia",
          "hubiera",
          "instante",
          "aun",
          "visto",
          "toda",
          "cual",
          "mucho",
          "asi",
          "majestad",
          "paso",
          "soy",
          "teneis",
          "continuo",
          "despues",
          "tras",
          "lord",
          "dias",
          "volvio",
          "cosa",
          "algo",
          "siempre",
          "dado",
          "espada",
          "manos",
          "estoy",
          "haber",
          "fin",
          "esto",
          "corazon",
          "lugar",
          "prosiguio",
          "mientras",
          "podia",
          "tambien",
          "guardias",
          "hora",
          "cada",
          "vino",
          "duda",
          "punto",
          "camino",
          "tiene"
         ],
         "type": "scatter3d",
         "x": [
          -1.0604259967803955,
          -450.0339660644531,
          -2.257678985595703,
          -7.618797779083252,
          -4.930150508880615,
          -313.0115966796875,
          -8.937328338623047,
          17.421592712402344,
          -11.407279014587402,
          -1.6279969215393066,
          -0.38903605937957764,
          -5.275471210479736,
          -12.009480476379395,
          0.5768744945526123,
          -4.847364902496338,
          -8.737825393676758,
          23.065038681030273,
          -7.63801908493042,
          50.41620635986328,
          -2.787259101867676,
          51.218685150146484,
          10.289487838745117,
          -10.176444053649902,
          47.5650749206543,
          13.288107872009277,
          -16.504575729370117,
          28.3922176361084,
          2.812894821166992,
          21.822416305541992,
          28.32927131652832,
          16.354873657226562,
          31.792987823486328,
          -11.37079906463623,
          22.43749237060547,
          -33.7208251953125,
          -12.454352378845215,
          29.633283615112305,
          48.25168991088867,
          -10.817960739135742,
          54.26171112060547,
          48.28023147583008,
          -25.117855072021484,
          -4.916070461273193,
          -8.521873474121094,
          13.088712692260742,
          -15.66231918334961,
          -19.799945831298828,
          -8.247138977050781,
          -17.20273780822754,
          9.040050506591797,
          5.844416618347168,
          -0.8170657157897949,
          22.638885498046875,
          39.22705078125,
          11.65034008026123,
          2.2393598556518555,
          -1.125484824180603,
          4.697882652282715,
          46.59463882446289,
          -8.059185981750488,
          14.453971862792969,
          31.307395935058594,
          23.638704299926758,
          46.855716705322266,
          46.98835754394531,
          -4.799162864685059,
          13.994324684143066,
          38.9134407043457,
          21.92581558227539,
          1.5193254947662354,
          33.36663055419922,
          2.573050022125244,
          -25.928009033203125,
          22.780441284179688,
          39.54539489746094,
          17.211156845092773,
          -13.336094856262207,
          4.2727556228637695,
          -31.75240707397461,
          7.588315010070801,
          14.920466423034668,
          -12.146292686462402,
          45.763790130615234,
          18.318641662597656,
          -14.212368965148926,
          42.644309997558594,
          4.4580488204956055,
          -40.52580642700195,
          6.1221513748168945,
          23.87154769897461,
          -38.26390838623047,
          7.829835891723633,
          24.474315643310547,
          -20.812097549438477,
          -36.80863952636719,
          10.801756858825684,
          -11.609253883361816,
          26.698205947875977,
          9.190892219543457,
          -6.211594581604004,
          45.258819580078125,
          -37.24230194091797,
          28.178037643432617,
          13.986351013183594,
          -12.351604461669922,
          7.20702600479126,
          24.99009895324707,
          10.541496276855469,
          39.23988342285156,
          11.54330062866211,
          6.093547344207764,
          46.08357620239258,
          -13.489837646484375,
          -29.393905639648438,
          16.847930908203125,
          -22.33606719970703,
          16.599735260009766,
          -44.39879608154297,
          24.17233657836914,
          10.965835571289062,
          -43.49131774902344,
          3.1565074920654297,
          17.166378021240234,
          40.877803802490234,
          56.74138259887695,
          49.7108268737793,
          7.181174278259277,
          42.687442779541016,
          56.1985969543457,
          55.18010330200195,
          -0.9908255338668823,
          45.5975456237793,
          12.666230201721191,
          -20.05284309387207,
          37.80125045776367,
          -35.46751403808594,
          10.858976364135742,
          59.00279998779297,
          -30.37578773498535,
          -0.7090407609939575,
          18.304237365722656,
          -31.238454818725586,
          -8.417991638183594,
          13.622346878051758,
          -2.6679904460906982,
          -38.200618743896484,
          13.481168746948242,
          -36.55513381958008,
          -41.88552474975586,
          16.260696411132812,
          11.503227233886719,
          1.6186360120773315,
          -12.94678020477295,
          5.917201995849609,
          -32.29277420043945,
          -25.489665985107422,
          -13.186653137207031,
          -6.339544773101807,
          39.09770584106445,
          -32.16394805908203,
          16.70195960998535,
          53.79522705078125,
          7.939237117767334,
          31.266159057617188,
          3.7784860134124756,
          -6.512290954589844,
          -4.240494251251221,
          -24.191078186035156,
          29.127777099609375,
          31.77618408203125,
          18.29552459716797,
          -6.634225368499756,
          -0.7913407683372498,
          -38.85427474975586,
          -26.925912857055664,
          -44.846824645996094,
          28.58446502685547,
          20.6926212310791,
          8.381619453430176,
          40.23713302612305,
          0.7392244338989258,
          -30.324140548706055,
          6.381092548370361,
          -18.98339080810547,
          -21.408845901489258,
          33.8177604675293,
          16.31644058227539,
          -38.15333557128906,
          18.027742385864258,
          -40.96930694580078,
          38.25140380859375,
          -1.4080532789230347,
          -19.198699951171875,
          -26.4357852935791,
          -23.792144775390625,
          3.4945316314697266,
          -18.103309631347656,
          -11.685461044311523,
          -38.30051803588867,
          28.06569480895996
         ],
         "y": [
          6.812494277954102,
          54.661415100097656,
          21.809368133544922,
          -0.09446363151073456,
          -4.009977340698242,
          114.89726257324219,
          9.288043022155762,
          -22.927724838256836,
          -6.475711345672607,
          17.349138259887695,
          2.4842517375946045,
          -8.855202674865723,
          16.865459442138672,
          25.444229125976562,
          6.119433879852295,
          -27.69365119934082,
          -44.597713470458984,
          -3.0885186195373535,
          -17.979000091552734,
          -0.18425270915031433,
          -3.4521937370300293,
          -11.261844635009766,
          2.5137979984283447,
          -27.422842025756836,
          -23.911725997924805,
          -31.97762680053711,
          -30.443714141845703,
          -28.145917892456055,
          -15.613693237304688,
          -8.951677322387695,
          -14.34245777130127,
          -32.005714416503906,
          -24.563499450683594,
          42.57986831665039,
          -19.12575912475586,
          28.020700454711914,
          -17.511640548706055,
          21.531496047973633,
          -32.93671798706055,
          -15.998954772949219,
          -6.349737167358398,
          -53.548274993896484,
          -25.698415756225586,
          4.190542221069336,
          -22.275190353393555,
          -25.667518615722656,
          23.760608673095703,
          -21.156620025634766,
          39.736236572265625,
          -53.23500061035156,
          -33.6474609375,
          -14.092281341552734,
          53.54325866699219,
          -6.096928596496582,
          33.17807388305664,
          -55.3521614074707,
          -5.589044570922852,
          34.52860641479492,
          30.928462982177734,
          -32.5407829284668,
          -29.702312469482422,
          -7.017345905303955,
          49.8240966796875,
          -40.67245101928711,
          -8.32232666015625,
          -30.84726905822754,
          54.04996871948242,
          24.666349411010742,
          2.921656847000122,
          23.480854034423828,
          -35.08700180053711,
          -32.61798858642578,
          30.679216384887695,
          -42.07049560546875,
          -40.157535552978516,
          23.00802993774414,
          -30.585378646850586,
          37.672264099121094,
          34.8242073059082,
          -35.24979019165039,
          -33.707584381103516,
          -38.051883697509766,
          -0.6260866522789001,
          -1.7381693124771118,
          25.49534034729004,
          -8.986591339111328,
          16.525999069213867,
          5.333155155181885,
          11.082576751708984,
          33.299495697021484,
          -21.701692581176758,
          -10.591972351074219,
          -48.69879150390625,
          25.55794906616211,
          45.04154586791992,
          63.0580940246582,
          -56.16231918334961,
          -7.004881858825684,
          -7.625004768371582,
          11.352981567382812,
          -20.760530471801758,
          -15.748270034790039,
          0.02211206592619419,
          32.49950408935547,
          1.044539213180542,
          -56.48758316040039,
          -46.45767593383789,
          4.622095584869385,
          -4.210329532623291,
          -13.914326667785645,
          -47.46590042114258,
          38.57175064086914,
          -28.673662185668945,
          -48.70545959472656,
          -31.485498428344727,
          35.495872497558594,
          -48.818695068359375,
          29.1378116607666,
          -15.897892951965332,
          -31.000377655029297,
          12.73431396484375,
          26.124540328979492,
          -36.03487014770508,
          18.050758361816406,
          -12.435683250427246,
          -26.29949951171875,
          49.26972198486328,
          20.6110782623291,
          -21.6649169921875,
          -2.3452706336975098,
          -15.202712059020996,
          34.149539947509766,
          -28.61370277404785,
          54.25088882446289,
          -27.783775329589844,
          7.93637752532959,
          -1.6196644306182861,
          -13.019973754882812,
          23.978618621826172,
          8.124170303344727,
          -19.78673553466797,
          2.4510390758514404,
          7.533075332641602,
          -13.800837516784668,
          17.667150497436523,
          -24.79549217224121,
          26.583965301513672,
          -22.046607971191406,
          -33.72882843017578,
          44.521568298339844,
          -16.616920471191406,
          -23.268146514892578,
          -55.5477180480957,
          21.09245491027832,
          -25.8427734375,
          45.58058166503906,
          -3.279327392578125,
          -33.17852783203125,
          -27.41754150390625,
          -13.652726173400879,
          -40.513370513916016,
          -1.8397644758224487,
          46.21936798095703,
          51.25344467163086,
          -51.05283737182617,
          -28.774869918823242,
          -35.979881286621094,
          43.68917465209961,
          -16.6491756439209,
          -45.421531677246094,
          -53.288570404052734,
          24.24649429321289,
          50.72639083862305,
          -25.82779884338379,
          -1.3508830070495605,
          26.37063217163086,
          26.66503143310547,
          5.684020042419434,
          13.761795043945312,
          -2.3427581787109375,
          58.98257064819336,
          2.038308620452881,
          -36.90705490112305,
          34.57673263549805,
          -10.09089183807373,
          -14.4857816696167,
          3.6222705841064453,
          8.75186538696289,
          -47.222442626953125,
          19.874919891357422,
          28.94244384765625,
          -25.843395233154297,
          14.106204986572266,
          -7.174823760986328,
          38.427001953125,
          -1.6162036657333374,
          -46.70391082763672,
          39.334999084472656,
          -4.33189582824707,
          -51.86281967163086
         ],
         "z": [
          -8.266146659851074,
          -82.45599365234375,
          -3.2362747192382812,
          -14.364980697631836,
          -5.582627773284912,
          367.7656555175781,
          -8.279664039611816,
          -12.251008987426758,
          -15.660239219665527,
          -7.1445441246032715,
          -11.084464073181152,
          -8.166449546813965,
          39.958709716796875,
          -0.4250991642475128,
          -5.042515277862549,
          19.57215690612793,
          25.692941665649414,
          -9.242877006530762,
          -12.713116645812988,
          -6.1312079429626465,
          15.6987943649292,
          -9.597345352172852,
          27.649681091308594,
          0.953599750995636,
          -13.37228775024414,
          38.760215759277344,
          -14.35207748413086,
          5.33754301071167,
          -24.33637046813965,
          27.55214500427246,
          -53.89377212524414,
          -9.882542610168457,
          18.806537628173828,
          26.782323837280273,
          23.484786987304688,
          -45.464942932128906,
          -2.5689659118652344,
          24.16688346862793,
          27.008512496948242,
          -23.270259857177734,
          18.25202751159668,
          -10.015759468078613,
          17.922523498535156,
          -10.168157577514648,
          -6.024965763092041,
          12.86450481414795,
          35.520896911621094,
          15.905545234680176,
          -15.663970947265625,
          15.458149909973145,
          35.79594421386719,
          34.60337448120117,
          -11.63227367401123,
          11.264311790466309,
          43.2642822265625,
          24.873212814331055,
          -10.048733711242676,
          -9.328374862670898,
          11.276066780090332,
          19.53873634338379,
          46.03824234008789,
          47.465518951416016,
          -1.1653391122817993,
          -0.15399058163166046,
          35.67330551147461,
          38.86240768432617,
          1.5078773498535156,
          16.615819931030273,
          53.97623062133789,
          -5.867938041687012,
          -23.355201721191406,
          33.17753982543945,
          -42.48477554321289,
          21.43647003173828,
          -18.30621910095215,
          -45.059329986572266,
          42.8402214050293,
          -41.10820388793945,
          2.9790453910827637,
          -23.51307487487793,
          -27.861244201660156,
          23.536476135253906,
          -2.3311767578125,
          34.489444732666016,
          37.43216323852539,
          14.337570190429688,
          -9.6968994140625,
          1.406708836555481,
          25.074609756469727,
          21.960407257080078,
          -37.6075553894043,
          11.362823486328125,
          23.9117488861084,
          41.28516387939453,
          -20.00655174255371,
          -0.7053964734077454,
          -13.018316268920898,
          22.989151000976562,
          -32.329288482666016,
          42.681739807128906,
          29.604589462280273,
          -19.796958923339844,
          -34.46205139160156,
          -27.033306121826172,
          43.218414306640625,
          6.616793632507324,
          30.035057067871094,
          58.54142379760742,
          -8.825623512268066,
          -16.5593318939209,
          -10.229817390441895,
          2.958636999130249,
          21.765762329101562,
          15.90376091003418,
          14.074424743652344,
          39.64684295654297,
          18.048583984375,
          -30.666576385498047,
          23.461362838745117,
          -45.66670227050781,
          -20.545761108398438,
          41.503196716308594,
          19.273427963256836,
          1.016471028327942,
          -22.532089233398438,
          -17.110591888427734,
          -16.990089416503906,
          -31.934419631958008,
          -10.952461242675781,
          13.533809661865234,
          22.32780647277832,
          -11.707075119018555,
          9.665327072143555,
          -14.826445579528809,
          -16.50875473022461,
          7.078309535980225,
          7.9558610916137695,
          6.5513529777526855,
          -35.76980209350586,
          7.920989990234375,
          -42.73041915893555,
          -35.00636672973633,
          7.401972770690918,
          -30.576372146606445,
          35.2914924621582,
          -25.76451301574707,
          27.372507095336914,
          22.649452209472656,
          -5.179917335510254,
          -14.501545906066895,
          13.948644638061523,
          5.021337509155273,
          20.09369659423828,
          -53.70168685913086,
          -0.8917689323425293,
          -1.0202373266220093,
          24.200029373168945,
          -42.99839401245117,
          -34.4901123046875,
          0.907024621963501,
          -40.073890686035156,
          -19.014738082885742,
          -4.398409366607666,
          5.935496807098389,
          -19.26645278930664,
          50.90664291381836,
          -45.99566650390625,
          -9.526406288146973,
          5.706267356872559,
          -6.1161675453186035,
          26.518177032470703,
          -22.711681365966797,
          31.743595123291016,
          -22.825578689575195,
          47.84944534301758,
          7.736918926239014,
          17.41203498840332,
          -54.62507247924805,
          52.10800552368164,
          2.046954393386841,
          15.441060066223145,
          20.186281204223633,
          -0.31387466192245483,
          -20.72381591796875,
          -52.12122344970703,
          -47.52220916748047,
          5.682860851287842,
          -37.26217269897461,
          28.274124145507812,
          -36.075130462646484,
          -21.282012939453125,
          -5.7615065574646,
          32.22654724121094,
          -21.642114639282227,
          -33.917022705078125,
          10.545400619506836,
          -12.928844451904297,
          25.527088165283203,
          -13.602753639221191,
          -10.210380554199219
         ]
        }
       ],
       "layout": {
        "legend": {
         "tracegroupgap": 0
        },
        "margin": {
         "t": 60
        },
        "scene": {
         "domain": {
          "x": [
           0,
           1
          ],
          "y": [
           0,
           1
          ]
         },
         "xaxis": {
          "title": {
           "text": "x"
          }
         },
         "yaxis": {
          "title": {
           "text": "y"
          }
         },
         "zaxis": {
          "title": {
           "text": "z"
          }
         }
        },
        "template": {
         "data": {
          "bar": [
           {
            "error_x": {
             "color": "#2a3f5f"
            },
            "error_y": {
             "color": "#2a3f5f"
            },
            "marker": {
             "line": {
              "color": "#E5ECF6",
              "width": 0.5
             },
             "pattern": {
              "fillmode": "overlay",
              "size": 10,
              "solidity": 0.2
             }
            },
            "type": "bar"
           }
          ],
          "barpolar": [
           {
            "marker": {
             "line": {
              "color": "#E5ECF6",
              "width": 0.5
             },
             "pattern": {
              "fillmode": "overlay",
              "size": 10,
              "solidity": 0.2
             }
            },
            "type": "barpolar"
           }
          ],
          "carpet": [
           {
            "aaxis": {
             "endlinecolor": "#2a3f5f",
             "gridcolor": "white",
             "linecolor": "white",
             "minorgridcolor": "white",
             "startlinecolor": "#2a3f5f"
            },
            "baxis": {
             "endlinecolor": "#2a3f5f",
             "gridcolor": "white",
             "linecolor": "white",
             "minorgridcolor": "white",
             "startlinecolor": "#2a3f5f"
            },
            "type": "carpet"
           }
          ],
          "choropleth": [
           {
            "colorbar": {
             "outlinewidth": 0,
             "ticks": ""
            },
            "type": "choropleth"
           }
          ],
          "contour": [
           {
            "colorbar": {
             "outlinewidth": 0,
             "ticks": ""
            },
            "colorscale": [
             [
              0,
              "#0d0887"
             ],
             [
              0.1111111111111111,
              "#46039f"
             ],
             [
              0.2222222222222222,
              "#7201a8"
             ],
             [
              0.3333333333333333,
              "#9c179e"
             ],
             [
              0.4444444444444444,
              "#bd3786"
             ],
             [
              0.5555555555555556,
              "#d8576b"
             ],
             [
              0.6666666666666666,
              "#ed7953"
             ],
             [
              0.7777777777777778,
              "#fb9f3a"
             ],
             [
              0.8888888888888888,
              "#fdca26"
             ],
             [
              1,
              "#f0f921"
             ]
            ],
            "type": "contour"
           }
          ],
          "contourcarpet": [
           {
            "colorbar": {
             "outlinewidth": 0,
             "ticks": ""
            },
            "type": "contourcarpet"
           }
          ],
          "heatmap": [
           {
            "colorbar": {
             "outlinewidth": 0,
             "ticks": ""
            },
            "colorscale": [
             [
              0,
              "#0d0887"
             ],
             [
              0.1111111111111111,
              "#46039f"
             ],
             [
              0.2222222222222222,
              "#7201a8"
             ],
             [
              0.3333333333333333,
              "#9c179e"
             ],
             [
              0.4444444444444444,
              "#bd3786"
             ],
             [
              0.5555555555555556,
              "#d8576b"
             ],
             [
              0.6666666666666666,
              "#ed7953"
             ],
             [
              0.7777777777777778,
              "#fb9f3a"
             ],
             [
              0.8888888888888888,
              "#fdca26"
             ],
             [
              1,
              "#f0f921"
             ]
            ],
            "type": "heatmap"
           }
          ],
          "heatmapgl": [
           {
            "colorbar": {
             "outlinewidth": 0,
             "ticks": ""
            },
            "colorscale": [
             [
              0,
              "#0d0887"
             ],
             [
              0.1111111111111111,
              "#46039f"
             ],
             [
              0.2222222222222222,
              "#7201a8"
             ],
             [
              0.3333333333333333,
              "#9c179e"
             ],
             [
              0.4444444444444444,
              "#bd3786"
             ],
             [
              0.5555555555555556,
              "#d8576b"
             ],
             [
              0.6666666666666666,
              "#ed7953"
             ],
             [
              0.7777777777777778,
              "#fb9f3a"
             ],
             [
              0.8888888888888888,
              "#fdca26"
             ],
             [
              1,
              "#f0f921"
             ]
            ],
            "type": "heatmapgl"
           }
          ],
          "histogram": [
           {
            "marker": {
             "pattern": {
              "fillmode": "overlay",
              "size": 10,
              "solidity": 0.2
             }
            },
            "type": "histogram"
           }
          ],
          "histogram2d": [
           {
            "colorbar": {
             "outlinewidth": 0,
             "ticks": ""
            },
            "colorscale": [
             [
              0,
              "#0d0887"
             ],
             [
              0.1111111111111111,
              "#46039f"
             ],
             [
              0.2222222222222222,
              "#7201a8"
             ],
             [
              0.3333333333333333,
              "#9c179e"
             ],
             [
              0.4444444444444444,
              "#bd3786"
             ],
             [
              0.5555555555555556,
              "#d8576b"
             ],
             [
              0.6666666666666666,
              "#ed7953"
             ],
             [
              0.7777777777777778,
              "#fb9f3a"
             ],
             [
              0.8888888888888888,
              "#fdca26"
             ],
             [
              1,
              "#f0f921"
             ]
            ],
            "type": "histogram2d"
           }
          ],
          "histogram2dcontour": [
           {
            "colorbar": {
             "outlinewidth": 0,
             "ticks": ""
            },
            "colorscale": [
             [
              0,
              "#0d0887"
             ],
             [
              0.1111111111111111,
              "#46039f"
             ],
             [
              0.2222222222222222,
              "#7201a8"
             ],
             [
              0.3333333333333333,
              "#9c179e"
             ],
             [
              0.4444444444444444,
              "#bd3786"
             ],
             [
              0.5555555555555556,
              "#d8576b"
             ],
             [
              0.6666666666666666,
              "#ed7953"
             ],
             [
              0.7777777777777778,
              "#fb9f3a"
             ],
             [
              0.8888888888888888,
              "#fdca26"
             ],
             [
              1,
              "#f0f921"
             ]
            ],
            "type": "histogram2dcontour"
           }
          ],
          "mesh3d": [
           {
            "colorbar": {
             "outlinewidth": 0,
             "ticks": ""
            },
            "type": "mesh3d"
           }
          ],
          "parcoords": [
           {
            "line": {
             "colorbar": {
              "outlinewidth": 0,
              "ticks": ""
             }
            },
            "type": "parcoords"
           }
          ],
          "pie": [
           {
            "automargin": true,
            "type": "pie"
           }
          ],
          "scatter": [
           {
            "fillpattern": {
             "fillmode": "overlay",
             "size": 10,
             "solidity": 0.2
            },
            "type": "scatter"
           }
          ],
          "scatter3d": [
           {
            "line": {
             "colorbar": {
              "outlinewidth": 0,
              "ticks": ""
             }
            },
            "marker": {
             "colorbar": {
              "outlinewidth": 0,
              "ticks": ""
             }
            },
            "type": "scatter3d"
           }
          ],
          "scattercarpet": [
           {
            "marker": {
             "colorbar": {
              "outlinewidth": 0,
              "ticks": ""
             }
            },
            "type": "scattercarpet"
           }
          ],
          "scattergeo": [
           {
            "marker": {
             "colorbar": {
              "outlinewidth": 0,
              "ticks": ""
             }
            },
            "type": "scattergeo"
           }
          ],
          "scattergl": [
           {
            "marker": {
             "colorbar": {
              "outlinewidth": 0,
              "ticks": ""
             }
            },
            "type": "scattergl"
           }
          ],
          "scattermapbox": [
           {
            "marker": {
             "colorbar": {
              "outlinewidth": 0,
              "ticks": ""
             }
            },
            "type": "scattermapbox"
           }
          ],
          "scatterpolar": [
           {
            "marker": {
             "colorbar": {
              "outlinewidth": 0,
              "ticks": ""
             }
            },
            "type": "scatterpolar"
           }
          ],
          "scatterpolargl": [
           {
            "marker": {
             "colorbar": {
              "outlinewidth": 0,
              "ticks": ""
             }
            },
            "type": "scatterpolargl"
           }
          ],
          "scatterternary": [
           {
            "marker": {
             "colorbar": {
              "outlinewidth": 0,
              "ticks": ""
             }
            },
            "type": "scatterternary"
           }
          ],
          "surface": [
           {
            "colorbar": {
             "outlinewidth": 0,
             "ticks": ""
            },
            "colorscale": [
             [
              0,
              "#0d0887"
             ],
             [
              0.1111111111111111,
              "#46039f"
             ],
             [
              0.2222222222222222,
              "#7201a8"
             ],
             [
              0.3333333333333333,
              "#9c179e"
             ],
             [
              0.4444444444444444,
              "#bd3786"
             ],
             [
              0.5555555555555556,
              "#d8576b"
             ],
             [
              0.6666666666666666,
              "#ed7953"
             ],
             [
              0.7777777777777778,
              "#fb9f3a"
             ],
             [
              0.8888888888888888,
              "#fdca26"
             ],
             [
              1,
              "#f0f921"
             ]
            ],
            "type": "surface"
           }
          ],
          "table": [
           {
            "cells": {
             "fill": {
              "color": "#EBF0F8"
             },
             "line": {
              "color": "white"
             }
            },
            "header": {
             "fill": {
              "color": "#C8D4E3"
             },
             "line": {
              "color": "white"
             }
            },
            "type": "table"
           }
          ]
         },
         "layout": {
          "annotationdefaults": {
           "arrowcolor": "#2a3f5f",
           "arrowhead": 0,
           "arrowwidth": 1
          },
          "autotypenumbers": "strict",
          "coloraxis": {
           "colorbar": {
            "outlinewidth": 0,
            "ticks": ""
           }
          },
          "colorscale": {
           "diverging": [
            [
             0,
             "#8e0152"
            ],
            [
             0.1,
             "#c51b7d"
            ],
            [
             0.2,
             "#de77ae"
            ],
            [
             0.3,
             "#f1b6da"
            ],
            [
             0.4,
             "#fde0ef"
            ],
            [
             0.5,
             "#f7f7f7"
            ],
            [
             0.6,
             "#e6f5d0"
            ],
            [
             0.7,
             "#b8e186"
            ],
            [
             0.8,
             "#7fbc41"
            ],
            [
             0.9,
             "#4d9221"
            ],
            [
             1,
             "#276419"
            ]
           ],
           "sequential": [
            [
             0,
             "#0d0887"
            ],
            [
             0.1111111111111111,
             "#46039f"
            ],
            [
             0.2222222222222222,
             "#7201a8"
            ],
            [
             0.3333333333333333,
             "#9c179e"
            ],
            [
             0.4444444444444444,
             "#bd3786"
            ],
            [
             0.5555555555555556,
             "#d8576b"
            ],
            [
             0.6666666666666666,
             "#ed7953"
            ],
            [
             0.7777777777777778,
             "#fb9f3a"
            ],
            [
             0.8888888888888888,
             "#fdca26"
            ],
            [
             1,
             "#f0f921"
            ]
           ],
           "sequentialminus": [
            [
             0,
             "#0d0887"
            ],
            [
             0.1111111111111111,
             "#46039f"
            ],
            [
             0.2222222222222222,
             "#7201a8"
            ],
            [
             0.3333333333333333,
             "#9c179e"
            ],
            [
             0.4444444444444444,
             "#bd3786"
            ],
            [
             0.5555555555555556,
             "#d8576b"
            ],
            [
             0.6666666666666666,
             "#ed7953"
            ],
            [
             0.7777777777777778,
             "#fb9f3a"
            ],
            [
             0.8888888888888888,
             "#fdca26"
            ],
            [
             1,
             "#f0f921"
            ]
           ]
          },
          "colorway": [
           "#636efa",
           "#EF553B",
           "#00cc96",
           "#ab63fa",
           "#FFA15A",
           "#19d3f3",
           "#FF6692",
           "#B6E880",
           "#FF97FF",
           "#FECB52"
          ],
          "font": {
           "color": "#2a3f5f"
          },
          "geo": {
           "bgcolor": "white",
           "lakecolor": "white",
           "landcolor": "#E5ECF6",
           "showlakes": true,
           "showland": true,
           "subunitcolor": "white"
          },
          "hoverlabel": {
           "align": "left"
          },
          "hovermode": "closest",
          "mapbox": {
           "style": "light"
          },
          "paper_bgcolor": "white",
          "plot_bgcolor": "#E5ECF6",
          "polar": {
           "angularaxis": {
            "gridcolor": "white",
            "linecolor": "white",
            "ticks": ""
           },
           "bgcolor": "#E5ECF6",
           "radialaxis": {
            "gridcolor": "white",
            "linecolor": "white",
            "ticks": ""
           }
          },
          "scene": {
           "xaxis": {
            "backgroundcolor": "#E5ECF6",
            "gridcolor": "white",
            "gridwidth": 2,
            "linecolor": "white",
            "showbackground": true,
            "ticks": "",
            "zerolinecolor": "white"
           },
           "yaxis": {
            "backgroundcolor": "#E5ECF6",
            "gridcolor": "white",
            "gridwidth": 2,
            "linecolor": "white",
            "showbackground": true,
            "ticks": "",
            "zerolinecolor": "white"
           },
           "zaxis": {
            "backgroundcolor": "#E5ECF6",
            "gridcolor": "white",
            "gridwidth": 2,
            "linecolor": "white",
            "showbackground": true,
            "ticks": "",
            "zerolinecolor": "white"
           }
          },
          "shapedefaults": {
           "line": {
            "color": "#2a3f5f"
           }
          },
          "ternary": {
           "aaxis": {
            "gridcolor": "white",
            "linecolor": "white",
            "ticks": ""
           },
           "baxis": {
            "gridcolor": "white",
            "linecolor": "white",
            "ticks": ""
           },
           "bgcolor": "#E5ECF6",
           "caxis": {
            "gridcolor": "white",
            "linecolor": "white",
            "ticks": ""
           }
          },
          "title": {
           "x": 0.05
          },
          "xaxis": {
           "automargin": true,
           "gridcolor": "white",
           "linecolor": "white",
           "ticks": "",
           "title": {
            "standoff": 15
           },
           "zerolinecolor": "white",
           "zerolinewidth": 2
          },
          "yaxis": {
           "automargin": true,
           "gridcolor": "white",
           "linecolor": "white",
           "ticks": "",
           "title": {
            "standoff": 15
           },
           "zerolinecolor": "white",
           "zerolinewidth": 2
          }
         }
        }
       }
      }
     },
     "metadata": {},
     "output_type": "display_data"
    }
   ],
   "source": [
    "# Graficar los embedddings en 3D\n",
    "vecs, labels = reduce_dimensions(w2v_model,3)\n",
    "\n",
    "fig = px.scatter_3d(x=vecs[:MAX_WORDS,0], y=vecs[:MAX_WORDS,1], z=vecs[:MAX_WORDS,2],text=labels[:MAX_WORDS])\n",
    "fig.update_traces(marker_size = 2)\n",
    "fig.show() # esto para plotly en colab"
   ]
  }
 ],
 "metadata": {
  "kernelspec": {
   "display_name": "ia_ceia_18co",
   "language": "python",
   "name": "python3"
  },
  "language_info": {
   "codemirror_mode": {
    "name": "ipython",
    "version": 3
   },
   "file_extension": ".py",
   "mimetype": "text/x-python",
   "name": "python",
   "nbconvert_exporter": "python",
   "pygments_lexer": "ipython3",
   "version": "3.10.13"
  }
 },
 "nbformat": 4,
 "nbformat_minor": 4
}
