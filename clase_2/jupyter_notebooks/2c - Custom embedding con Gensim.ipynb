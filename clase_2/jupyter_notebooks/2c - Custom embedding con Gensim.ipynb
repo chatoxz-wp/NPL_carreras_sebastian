{
 "cells": [
  {
   "cell_type": "markdown",
   "metadata": {
    "id": "sZd5yLnnHOK0"
   },
   "source": [
    "<img src=\"https://github.com/hernancontigiani/ceia_memorias_especializacion/raw/master/Figures/logoFIUBA.jpg\" width=\"500\" align=\"center\">\n",
    "\n",
    "\n",
    "# Procesamiento de lenguaje natural\n",
    "## Custom embedddings con Gensim\n",
    "\n"
   ]
  },
  {
   "cell_type": "markdown",
   "metadata": {
    "id": "vA7nqkumo9z9"
   },
   "source": [
    "### Objetivo\n",
    "El objetivo es utilizar documentos / corpus para crear embeddings de palabras basado en ese contexto. Se utilizará canciones de bandas para generar los embeddings, es decir, que los vectores tendrán la forma en función de como esa banda haya utilizado las palabras en sus canciones."
   ]
  },
  {
   "cell_type": "code",
   "execution_count": 1,
   "metadata": {
    "id": "lFToQs5FK5uZ"
   },
   "outputs": [],
   "source": [
    "import pandas as pd\n",
    "import matplotlib.pyplot as plt\n",
    "import seaborn as sns\n",
    "\n",
    "import multiprocessing\n",
    "from gensim.models import Word2Vec"
   ]
  },
  {
   "cell_type": "markdown",
   "metadata": {
    "id": "g07zJxG7H9vG"
   },
   "source": [
    "### Datos\n",
    "Utilizaremos como dataset canciones de bandas de habla inglesa."
   ]
  },
  {
   "cell_type": "code",
   "execution_count": 2,
   "metadata": {
    "id": "l7z4CSBfpR3X"
   },
   "outputs": [
    {
     "name": "stdout",
     "output_type": "stream",
     "text": [
      "El dataset ya se encuentra descargado\n"
     ]
    }
   ],
   "source": [
    "# Descargar la carpeta de dataset\n",
    "import os\n",
    "import platform\n",
    "if os.access('./songs_dataset', os.F_OK) is False:\n",
    "    if os.access('songs_dataset.zip', os.F_OK) is False:\n",
    "        if platform.system() == 'Windows':\n",
    "            !curl https://raw.githubusercontent.com/FIUBA-Posgrado-Inteligencia-Artificial/procesamiento_lenguaje_natural/main/datasets/songs_dataset.zip -o songs_dataset.zip\n",
    "        else:\n",
    "            !wget songs_dataset.zip https://github.com/FIUBA-Posgrado-Inteligencia-Artificial/procesamiento_lenguaje_natural/raw/main/datasets/songs_dataset.zip\n",
    "    !unzip -q songs_dataset.zip\n",
    "else:\n",
    "    print(\"El dataset ya se encuentra descargado\")"
   ]
  },
  {
   "cell_type": "code",
   "execution_count": 3,
   "metadata": {
    "id": "mysGrIw9ljC2"
   },
   "outputs": [
    {
     "data": {
      "text/plain": [
       "['prince.txt',\n",
       " 'dickinson.txt',\n",
       " 'notorious-big.txt',\n",
       " 'beatles.txt',\n",
       " 'bob-dylan.txt',\n",
       " 'bjork.txt',\n",
       " 'johnny-cash.txt',\n",
       " 'disney.txt',\n",
       " 'janisjoplin.txt',\n",
       " 'kanye.txt',\n",
       " 'bob-marley.txt',\n",
       " 'leonard-cohen.txt',\n",
       " 'ludacris.txt',\n",
       " 'adele.txt',\n",
       " 'alicia-keys.txt',\n",
       " 'joni-mitchell.txt',\n",
       " 'amy-winehouse.txt',\n",
       " 'lorde.txt',\n",
       " 'rihanna.txt',\n",
       " 'Kanye_West.txt',\n",
       " 'nirvana.txt',\n",
       " 'cake.txt',\n",
       " 'bieber.txt',\n",
       " 'notorious_big.txt',\n",
       " 'missy-elliott.txt',\n",
       " 'dolly-parton.txt',\n",
       " 'jimi-hendrix.txt',\n",
       " 'michael-jackson.txt',\n",
       " 'al-green.txt',\n",
       " 'lil-wayne.txt',\n",
       " 'lady-gaga.txt',\n",
       " 'lin-manuel-miranda.txt',\n",
       " 'nursery_rhymes.txt',\n",
       " 'dj-khaled.txt',\n",
       " 'radiohead.txt',\n",
       " 'patti-smith.txt',\n",
       " 'blink-182.txt',\n",
       " 'Lil_Wayne.txt',\n",
       " 'dr-seuss.txt',\n",
       " 'r-kelly.txt',\n",
       " 'drake.txt',\n",
       " 'britney-spears.txt',\n",
       " 'bruce-springsteen.txt',\n",
       " 'nicki-minaj.txt',\n",
       " 'kanye-west.txt',\n",
       " 'paul-simon.txt',\n",
       " 'nickelback.txt',\n",
       " 'eminem.txt',\n",
       " 'bruno-mars.txt']"
      ]
     },
     "execution_count": 3,
     "metadata": {},
     "output_type": "execute_result"
    }
   ],
   "source": [
    "# Posibles bandas\n",
    "os.listdir(\"./songs_dataset/\")"
   ]
  },
  {
   "cell_type": "code",
   "execution_count": 4,
   "metadata": {
    "id": "ticoqYD1Z3I7"
   },
   "outputs": [
    {
     "name": "stderr",
     "output_type": "stream",
     "text": [
      "/var/folders/sp/hjjl899x4js87jvp7rfdpj2w0000gn/T/ipykernel_2098/3849064916.py:2: ParserWarning: Falling back to the 'python' engine because the 'c' engine does not support regex separators (separators > 1 char and different from '\\s+' are interpreted as regex); you can avoid this warning by specifying engine='python'.\n",
      "  df = pd.read_csv('songs_dataset/beatles.txt', sep='/n', header=None)\n"
     ]
    },
    {
     "data": {
      "text/html": [
       "<div>\n",
       "<style scoped>\n",
       "    .dataframe tbody tr th:only-of-type {\n",
       "        vertical-align: middle;\n",
       "    }\n",
       "\n",
       "    .dataframe tbody tr th {\n",
       "        vertical-align: top;\n",
       "    }\n",
       "\n",
       "    .dataframe thead th {\n",
       "        text-align: right;\n",
       "    }\n",
       "</style>\n",
       "<table border=\"1\" class=\"dataframe\">\n",
       "  <thead>\n",
       "    <tr style=\"text-align: right;\">\n",
       "      <th></th>\n",
       "      <th>0</th>\n",
       "    </tr>\n",
       "  </thead>\n",
       "  <tbody>\n",
       "    <tr>\n",
       "      <th>0</th>\n",
       "      <td>Yesterday, all my troubles seemed so far away</td>\n",
       "    </tr>\n",
       "    <tr>\n",
       "      <th>1</th>\n",
       "      <td>Now it looks as though they're here to stay</td>\n",
       "    </tr>\n",
       "    <tr>\n",
       "      <th>2</th>\n",
       "      <td>Oh, I believe in yesterday Suddenly, I'm not h...</td>\n",
       "    </tr>\n",
       "    <tr>\n",
       "      <th>3</th>\n",
       "      <td>There's a shadow hanging over me.</td>\n",
       "    </tr>\n",
       "    <tr>\n",
       "      <th>4</th>\n",
       "      <td>Oh, yesterday came suddenly Why she had to go ...</td>\n",
       "    </tr>\n",
       "  </tbody>\n",
       "</table>\n",
       "</div>"
      ],
      "text/plain": [
       "                                                   0\n",
       "0      Yesterday, all my troubles seemed so far away\n",
       "1        Now it looks as though they're here to stay\n",
       "2  Oh, I believe in yesterday Suddenly, I'm not h...\n",
       "3                  There's a shadow hanging over me.\n",
       "4  Oh, yesterday came suddenly Why she had to go ..."
      ]
     },
     "execution_count": 4,
     "metadata": {},
     "output_type": "execute_result"
    }
   ],
   "source": [
    "# Armar el dataset utilizando salto de línea para separar las oraciones/docs\n",
    "df = pd.read_csv('songs_dataset/beatles.txt', sep='/n', header=None)\n",
    "df.head()"
   ]
  },
  {
   "cell_type": "code",
   "execution_count": 5,
   "metadata": {
    "id": "LEpKubK9XzXN"
   },
   "outputs": [
    {
     "name": "stdout",
     "output_type": "stream",
     "text": [
      "Cantidad de documentos: 1846\n"
     ]
    }
   ],
   "source": [
    "print(\"Cantidad de documentos:\", df.shape[0])"
   ]
  },
  {
   "cell_type": "markdown",
   "metadata": {
    "id": "ab94qaFlrA1G"
   },
   "source": [
    "### 1 - Preprocesamiento"
   ]
  },
  {
   "cell_type": "code",
   "execution_count": 6,
   "metadata": {
    "id": "rIsmMWmjrDHd"
   },
   "outputs": [],
   "source": [
    "#!pip install --upgrade tensorflow\n",
    "#from keras.preprocessing.text import text_to_word_sequence\n",
    "from tensorflow.keras.preprocessing.text import text_to_word_sequence\n",
    "\n",
    "sentence_tokens = []\n",
    "# Recorrer todas las filas y transformar las oraciones\n",
    "# en una secuencia de palabras (esto podría realizarse con NLTK o spaCy también)\n",
    "for _, row in df[:None].iterrows():\n",
    "    sentence_tokens.append(text_to_word_sequence(row[0]))"
   ]
  },
  {
   "cell_type": "code",
   "execution_count": 7,
   "metadata": {
    "id": "CHepi_DGrbhq"
   },
   "outputs": [
    {
     "data": {
      "text/plain": [
       "[['yesterday', 'all', 'my', 'troubles', 'seemed', 'so', 'far', 'away'],\n",
       " ['now', 'it', 'looks', 'as', 'though', \"they're\", 'here', 'to', 'stay']]"
      ]
     },
     "execution_count": 7,
     "metadata": {},
     "output_type": "execute_result"
    }
   ],
   "source": [
    "# Demos un vistazo\n",
    "sentence_tokens[:2]"
   ]
  },
  {
   "cell_type": "code",
   "execution_count": 8,
   "metadata": {
    "id": "OSb0v7h8r7hK"
   },
   "outputs": [],
   "source": [
    "from gensim.models.callbacks import CallbackAny2Vec\n",
    "# Durante el entrenamiento gensim por defecto no informa el \"loss\" en cada época\n",
    "# Sobrecargamos el callback para poder tener esta información\n",
    "class callback(CallbackAny2Vec):\n",
    "    \"\"\"\n",
    "    Callback to print loss after each epoch\n",
    "    \"\"\"\n",
    "    def __init__(self):\n",
    "        self.epoch = 0\n",
    "\n",
    "    def on_epoch_end(self, model):\n",
    "        loss = model.get_latest_training_loss()\n",
    "        if self.epoch == 0:\n",
    "            print('Loss after epoch {}: {}'.format(self.epoch, loss))\n",
    "        else:\n",
    "            print('Loss after epoch {}: {}'.format(self.epoch, loss- self.loss_previous_step))\n",
    "        self.epoch += 1\n",
    "        self.loss_previous_step = loss"
   ]
  },
  {
   "cell_type": "code",
   "execution_count": 9,
   "metadata": {
    "id": "i0wnDdv9sJ47"
   },
   "outputs": [],
   "source": [
    "# Creamos el modelo generador de vectores\n",
    "# En este caso utilizaremos la estructura modelo Skipgram\n",
    "w2v_model = Word2Vec(min_count=5,    # frecuencia mínima de palabra para incluirla en el vocabulario\n",
    "                     window=2,       # cant de palabras antes y desp de la predicha\n",
    "                     vector_size=300,       # dimensionalidad de los vectores \n",
    "                     negative=20,    # cantidad de negative samples... 0 es no se usa\n",
    "                     workers=1,      # si tienen más cores pueden cambiar este valor\n",
    "                     sg=1)           # modelo 0:CBOW  1:skipgram"
   ]
  },
  {
   "cell_type": "code",
   "execution_count": 10,
   "metadata": {
    "id": "5lTt8wErsf17"
   },
   "outputs": [],
   "source": [
    "# Obtener el vocabulario con los tokens\n",
    "w2v_model.build_vocab(sentence_tokens)"
   ]
  },
  {
   "cell_type": "code",
   "execution_count": 11,
   "metadata": {
    "id": "TNc9qt4os5AT"
   },
   "outputs": [
    {
     "name": "stdout",
     "output_type": "stream",
     "text": [
      "Cantidad de docs en el corpus: 1846\n"
     ]
    }
   ],
   "source": [
    "# Cantidad de filas/docs encontradas en el corpus\n",
    "print(\"Cantidad de docs en el corpus:\", w2v_model.corpus_count)"
   ]
  },
  {
   "cell_type": "code",
   "execution_count": 12,
   "metadata": {
    "id": "idw9cHF3tSMl"
   },
   "outputs": [
    {
     "name": "stdout",
     "output_type": "stream",
     "text": [
      "Cantidad de words distintas en el corpus: 445\n"
     ]
    }
   ],
   "source": [
    "# Cantidad de words encontradas en el corpus\n",
    "print(\"Cantidad de words distintas en el corpus:\", len(w2v_model.wv.index_to_key))"
   ]
  },
  {
   "cell_type": "markdown",
   "metadata": {
    "id": "fC9mZ8DPk-UC"
   },
   "source": [
    "### 3 - Entrenar embeddings"
   ]
  },
  {
   "cell_type": "code",
   "execution_count": 13,
   "metadata": {
    "id": "QSp-x0PAsq56"
   },
   "outputs": [
    {
     "name": "stdout",
     "output_type": "stream",
     "text": [
      "Loss after epoch 0: 113208.15625\n",
      "Loss after epoch 1: 65954.046875\n",
      "Loss after epoch 2: 65933.953125\n",
      "Loss after epoch 3: 65712.0\n",
      "Loss after epoch 4: 63872.5\n",
      "Loss after epoch 5: 64142.34375\n",
      "Loss after epoch 6: 64058.96875\n",
      "Loss after epoch 7: 64755.40625\n",
      "Loss after epoch 8: 62585.4375\n",
      "Loss after epoch 9: 60415.1875\n",
      "Loss after epoch 10: 59823.625\n",
      "Loss after epoch 11: 58930.0\n",
      "Loss after epoch 12: 57725.9375\n",
      "Loss after epoch 13: 56492.6875\n",
      "Loss after epoch 14: 55842.25\n",
      "Loss after epoch 15: 55862.8125\n",
      "Loss after epoch 16: 51696.3125\n",
      "Loss after epoch 17: 49815.375\n",
      "Loss after epoch 18: 49568.5\n",
      "Loss after epoch 19: 48960.125\n"
     ]
    },
    {
     "data": {
      "text/plain": [
       "(156986, 287740)"
      ]
     },
     "execution_count": 13,
     "metadata": {},
     "output_type": "execute_result"
    }
   ],
   "source": [
    "# Entrenamos el modelo generador de vectores\n",
    "# Utilizamos nuestro callback\n",
    "w2v_model.train(sentence_tokens,\n",
    "                 total_examples=w2v_model.corpus_count,\n",
    "                 epochs=20,\n",
    "                 compute_loss = True,\n",
    "                 callbacks=[callback()]\n",
    "                 )"
   ]
  },
  {
   "cell_type": "markdown",
   "metadata": {
    "id": "ddT9NVuNlCAe"
   },
   "source": [
    "### 4 - Ensayar"
   ]
  },
  {
   "cell_type": "code",
   "execution_count": 14,
   "metadata": {
    "id": "6cHN9xGLuPEm"
   },
   "outputs": [
    {
     "data": {
      "text/plain": [
       "[('pretty', 0.9087130427360535),\n",
       " ('sleep', 0.8649648427963257),\n",
       " ('help', 0.8594317436218262),\n",
       " ('try', 0.8456018567085266),\n",
       " ('cry', 0.8387173414230347),\n",
       " ('little', 0.827370822429657),\n",
       " ('not', 0.8181068301200867),\n",
       " ('seems', 0.8175182342529297),\n",
       " ('twist', 0.8154944777488708),\n",
       " ('peace', 0.8122634887695312)]"
      ]
     },
     "execution_count": 14,
     "metadata": {},
     "output_type": "execute_result"
    }
   ],
   "source": [
    "# Palabras que MÁS se relacionan con...:\n",
    "w2v_model.wv.most_similar(positive=[\"darling\"], topn=10)"
   ]
  },
  {
   "cell_type": "code",
   "execution_count": 15,
   "metadata": {
    "id": "47HiU5gdkdMq"
   },
   "outputs": [
    {
     "data": {
      "text/plain": [
       "[('shake', -0.21786577999591827),\n",
       " ('our', -0.24495965242385864),\n",
       " ('come', -0.2613307535648346),\n",
       " ('on', -0.26722919940948486),\n",
       " ('bang', -0.2732996344566345),\n",
       " ('five', -0.2741815447807312),\n",
       " ('six', -0.2774087190628052),\n",
       " ('baby', -0.27763256430625916),\n",
       " ('work', -0.2790363132953644),\n",
       " ('four', -0.27926990389823914)]"
      ]
     },
     "execution_count": 15,
     "metadata": {},
     "output_type": "execute_result"
    }
   ],
   "source": [
    "# Palabras que MENOS se relacionan con...:\n",
    "w2v_model.wv.most_similar(negative=[\"love\"], topn=10)"
   ]
  },
  {
   "cell_type": "code",
   "execution_count": 16,
   "metadata": {
    "id": "DT4Rvno2mD65"
   },
   "outputs": [
    {
     "data": {
      "text/plain": [
       "[('five', 0.978668749332428),\n",
       " ('three', 0.9761052131652832),\n",
       " ('six', 0.9668912887573242),\n",
       " ('two', 0.9565725922584534),\n",
       " ('seven', 0.9542326927185059),\n",
       " ('sixty', 0.9003374576568604),\n",
       " ('one', 0.8165037631988525),\n",
       " ('us', 0.7762877941131592),\n",
       " ('crying', 0.7727354764938354),\n",
       " ('strawberry', 0.7672429084777832)]"
      ]
     },
     "execution_count": 16,
     "metadata": {},
     "output_type": "execute_result"
    }
   ],
   "source": [
    "# Palabras que MÁS se relacionan con...:\n",
    "w2v_model.wv.most_similar(positive=[\"four\"], topn=10)"
   ]
  },
  {
   "cell_type": "code",
   "execution_count": 17,
   "metadata": {
    "id": "XPLDPgzBmQXt"
   },
   "outputs": [
    {
     "data": {
      "text/plain": [
       "[(\"can't\", 0.9409599900245667),\n",
       " ('buy', 0.9399517774581909),\n",
       " ('much', 0.8996836543083191),\n",
       " ('hide', 0.8465179204940796),\n",
       " ('just', 0.8415131568908691)]"
      ]
     },
     "execution_count": 17,
     "metadata": {},
     "output_type": "execute_result"
    }
   ],
   "source": [
    "# Palabras que MÁS se relacionan con...:\n",
    "w2v_model.wv.most_similar(positive=[\"money\"], topn=5)"
   ]
  },
  {
   "cell_type": "code",
   "execution_count": 18,
   "metadata": {
    "id": "L_UvHPMMklOr"
   },
   "outputs": [],
   "source": [
    "# Ensayar con una palabra que no está en el vocabulario: \n",
    "# DA ERROR Y ES DE GUSTO PARA PROBAR QUE LA PALABRA NO ESTA\n",
    "#w2v_model.wv.most_similar(negative=[\"diedaa\"])"
   ]
  },
  {
   "cell_type": "code",
   "execution_count": 19,
   "metadata": {},
   "outputs": [
    {
     "name": "stdout",
     "output_type": "stream",
     "text": [
      "[ 0.17736882  0.21460854 -0.05407826  0.06707428  0.13059781 -0.2571417\n",
      "  0.00711527  0.26744702 -0.03100352  0.25997368  0.21179642 -0.0846577\n",
      " -0.26272154  0.30837795 -0.07934512 -0.13357104  0.29946792  0.18062183\n",
      " -0.1311193  -0.11857399  0.0346803   0.11255896  0.08478769  0.08090526\n",
      " -0.17622426  0.03122874 -0.08725718  0.23746894 -0.11507447 -0.29119375\n",
      " -0.03650398 -0.33222464  0.23264216  0.10366732 -0.18365778  0.08299293\n",
      "  0.14315514 -0.1976166  -0.00757935  0.11195532 -0.10420062 -0.13083553\n",
      " -0.03264889 -0.04687171  0.11330322  0.10231242 -0.16201775 -0.10347403\n",
      "  0.03660134 -0.08524159 -0.3487206  -0.02153995  0.25938615  0.16540702\n",
      "  0.03108545  0.09505955  0.24453107 -0.09859782  0.18298718  0.06454364\n",
      "  0.01696082 -0.32592124 -0.04773575 -0.05419112 -0.04338786 -0.09137381\n",
      "  0.00890292  0.11636212 -0.25662866  0.0542677   0.08916717  0.04540667\n",
      "  0.20835876 -0.19101627  0.32210258  0.19337815  0.09080074 -0.00362744\n",
      " -0.18664072 -0.07053233 -0.12137611 -0.03477536 -0.15798254  0.3907024\n",
      " -0.06145024  0.11082885 -0.1621408  -0.24604961  0.15004565  0.4144643\n",
      " -0.02289732 -0.178963   -0.07827412 -0.22193782  0.02855632  0.48534915\n",
      "  0.04447486  0.12464245 -0.04170167  0.19825546 -0.159196   -0.08606661\n",
      "  0.13206545  0.0707182   0.30667013  0.0880959  -0.19750161  0.23502745\n",
      " -0.073884    0.04295751 -0.24779774 -0.2885363  -0.44016114  0.00458279\n",
      " -0.07825125  0.18824089  0.05077724 -0.0573951   0.1562001  -0.48762292\n",
      "  0.1922907   0.08313892  0.04989962  0.02644696 -0.06825273  0.3530465\n",
      "  0.17190869 -0.16261543 -0.29364643  0.29586136  0.3488327   0.13242519\n",
      "  0.20135857 -0.45007998  0.10677571  0.2954812   0.05579802 -0.10513514\n",
      " -0.18692082 -0.00885969  0.01701436 -0.16564485 -0.11337714  0.06720722\n",
      "  0.1524323  -0.00960557 -0.04739556 -0.08677109 -0.07125607  0.16441901\n",
      "  0.00310657 -0.3677641   0.08533319  0.06346735 -0.02668686  0.22113404\n",
      " -0.24416165  0.02440298 -0.00924429  0.23634179 -0.10890835  0.11365914\n",
      " -0.09946217  0.21860638  0.01365305  0.01017419 -0.18820551  0.25845465\n",
      "  0.30251542  0.03778718  0.20664303  0.22038223  0.16829552  0.04513021\n",
      "  0.01971144 -0.36934918  0.03287151 -0.20335984  0.12939884  0.04162802\n",
      "  0.0208588  -0.10500646 -0.17457393 -0.28335074 -0.08274177 -0.04555336\n",
      " -0.11860853 -0.03437392  0.02553231 -0.25540212  0.17146276  0.05093239\n",
      "  0.09175044 -0.06427791 -0.16107276  0.19086534 -0.10930368 -0.18050839\n",
      " -0.06337678  0.0122485  -0.09302311  0.22476168  0.30700222 -0.26620018\n",
      "  0.23052467  0.00149085  0.13293488  0.02428746  0.07883529 -0.09135389\n",
      " -0.17122981 -0.36640576  0.38346294 -0.21642877  0.30519536 -0.05142788\n",
      " -0.36278865 -0.23481376  0.05347402 -0.3306876  -0.0150196   0.07849763\n",
      "  0.01582023 -0.11110912  0.2585282  -0.15109031  0.07832427  0.03887978\n",
      "  0.06564931 -0.10252423 -0.0296504  -0.17363076  0.0144327   0.14267065\n",
      " -0.20421866  0.0321432  -0.16295597  0.2310543  -0.08102885 -0.07967596\n",
      "  0.13011037 -0.15626091  0.06894283 -0.03020424 -0.04729205 -0.243601\n",
      "  0.2185489  -0.03478077  0.05900079  0.1710359   0.02151055  0.295733\n",
      "  0.1116205  -0.16905232 -0.18563133 -0.19698152  0.3415085   0.18427601\n",
      " -0.20897813 -0.06920695  0.02646412 -0.3369977   0.03618539 -0.02290951\n",
      " -0.04528453 -0.02644153  0.27352807  0.2873973  -0.03061203  0.13751653\n",
      "  0.05502574  0.02680765  0.05630058  0.0312555   0.27008623  0.18144608\n",
      "  0.04076472  0.18558255 -0.10239649 -0.05794648  0.0453668  -0.09978039\n",
      " -0.17145927 -0.15288177  0.09159956  0.05247502  0.00280366  0.0094663\n",
      "  0.23113449  0.03047273  0.11368553  0.3598651   0.15569882 -0.02522547\n",
      "  0.3587137   0.3222779   0.00840297  0.18052137  0.13127035 -0.31310603]\n"
     ]
    }
   ],
   "source": [
    "# el método `get_vector` permite obtener los vectores:\n",
    "vector_love = w2v_model.wv.get_vector(\"love\")\n",
    "print(vector_love)"
   ]
  },
  {
   "cell_type": "code",
   "execution_count": 20,
   "metadata": {},
   "outputs": [
    {
     "data": {
      "text/plain": [
       "[('love', 1.0000001192092896),\n",
       " ('babe', 0.9132980704307556),\n",
       " ('someone', 0.8914985656738281),\n",
       " ('nothing', 0.8811895847320557),\n",
       " ('need', 0.8758766651153564),\n",
       " (\"didn't\", 0.8689678907394409),\n",
       " (\"there's\", 0.8557928800582886),\n",
       " ('you', 0.8447728753089905),\n",
       " ('feed', 0.8422091603279114),\n",
       " ('somebody', 0.8385541439056396)]"
      ]
     },
     "execution_count": 20,
     "metadata": {},
     "output_type": "execute_result"
    }
   ],
   "source": [
    "# el método `most_similar` también permite comparar a partir de vectores\n",
    "w2v_model.wv.most_similar(vector_love)"
   ]
  },
  {
   "cell_type": "code",
   "execution_count": 21,
   "metadata": {},
   "outputs": [
    {
     "data": {
      "text/plain": [
       "[('babe', 0.9132980704307556),\n",
       " ('someone', 0.8914985656738281),\n",
       " ('nothing', 0.8811895847320557),\n",
       " ('need', 0.8758766055107117),\n",
       " (\"didn't\", 0.8689678907394409),\n",
       " (\"there's\", 0.8557928800582886),\n",
       " ('you', 0.8447728753089905),\n",
       " ('feed', 0.8422091603279114),\n",
       " ('somebody', 0.8385541439056396),\n",
       " ('hope', 0.83614581823349)]"
      ]
     },
     "execution_count": 21,
     "metadata": {},
     "output_type": "execute_result"
    }
   ],
   "source": [
    "# Palabras que MÁS se relacionan con...:\n",
    "w2v_model.wv.most_similar(positive=[\"love\"], topn=10)"
   ]
  },
  {
   "cell_type": "markdown",
   "metadata": {
    "id": "_g8UVWe6lFmh"
   },
   "source": [
    "### 5 - Visualizar agrupación de vectores"
   ]
  },
  {
   "cell_type": "code",
   "execution_count": 22,
   "metadata": {
    "id": "pDxEVXAivjr9"
   },
   "outputs": [],
   "source": [
    "from sklearn.decomposition import IncrementalPCA    \n",
    "from sklearn.manifold import TSNE                   \n",
    "import numpy as np                                  \n",
    "\n",
    "def reduce_dimensions(model, num_dimensions = 2 ):\n",
    "     \n",
    "    vectors = np.asarray(model.wv.vectors)\n",
    "    labels = np.asarray(model.wv.index_to_key)  \n",
    "\n",
    "    tsne = TSNE(n_components=num_dimensions, random_state=0)\n",
    "    vectors = tsne.fit_transform(vectors)\n",
    "\n",
    "    return vectors, labels"
   ]
  },
  {
   "cell_type": "code",
   "execution_count": 23,
   "metadata": {
    "id": "NCCXtDpcugmd"
   },
   "outputs": [
    {
     "data": {
      "text/html": [
       "<html>\n",
       "<head><meta charset=\"utf-8\" /></head>\n",
       "<body>\n",
       "    <div>            <script src=\"https://cdnjs.cloudflare.com/ajax/libs/mathjax/2.7.5/MathJax.js?config=TeX-AMS-MML_SVG\"></script><script type=\"text/javascript\">if (window.MathJax && window.MathJax.Hub && window.MathJax.Hub.Config) {window.MathJax.Hub.Config({SVG: {font: \"STIX-Web\"}});}</script>                <script type=\"text/javascript\">window.PlotlyConfig = {MathJaxConfig: 'local'};</script>\n",
       "        <script charset=\"utf-8\" src=\"https://cdn.plot.ly/plotly-2.35.2.min.js\"></script>                <div id=\"6c349fc8-fc39-4deb-8fb5-7c5c9be00293\" class=\"plotly-graph-div\" style=\"height:525px; width:100%;\"></div>            <script type=\"text/javascript\">                                    window.PLOTLYENV=window.PLOTLYENV || {};                                    if (document.getElementById(\"6c349fc8-fc39-4deb-8fb5-7c5c9be00293\")) {                    Plotly.newPlot(                        \"6c349fc8-fc39-4deb-8fb5-7c5c9be00293\",                        [{\"hovertemplate\":\"x=%{x}\\u003cbr\\u003ey=%{y}\\u003cbr\\u003etext=%{text}\\u003cextra\\u003e\\u003c\\u002fextra\\u003e\",\"legendgroup\":\"\",\"marker\":{\"color\":\"#636efa\",\"symbol\":\"circle\"},\"mode\":\"markers+text\",\"name\":\"\",\"orientation\":\"v\",\"showlegend\":false,\"text\":[\"you\",\"i\",\"the\",\"to\",\"and\",\"love\",\"a\",\"me\",\"in\",\"all\",\"nah\",\"my\",\"it\",\"know\",\"that\",\"be\",\"on\",\"of\",\"she\",\"is\",\"say\",\"now\",\"oh\",\"your\",\"yeah\",\"get\",\"don't\",\"back\",\"with\",\"let\",\"her\",\"can\",\"it's\",\"do\",\"when\",\"come\",\"i'm\",\"will\",\"he\",\"but\",\"for\",\"so\",\"there\",\"need\",\"like\",\"together\",\"no\",\"i'll\",\"see\",\"we\",\"was\",\"never\",\"down\",\"if\",\"way\",\"want\",\"hey\",\"out\",\"one\",\"got\",\"can't\",\"girl\",\"well\",\"good\",\"go\",\"sun\",\"his\",\"hello\",\"home\",\"they\",\"day\",\"are\",\"ah\",\"right\",\"from\",\"little\",\"at\",\"man\",\"help\",\"here\",\"have\",\"gonna\",\"not\",\"world\",\"what\",\"going\",\"how\",\"please\",\"still\",\"too\",\"just\",\"you're\",\"time\",\"as\",\"make\",\"long\",\"yes\",\"yellow\",\"life\",\"once\",\"sky\",\"been\",\"think\",\"tell\",\"why\",\"only\",\"where\",\"people\",\"she's\",\"eyes\",\"jude\",\"take\",\"submarine\",\"up\",\"hold\",\"goodbye\",\"give\",\"nowhere\",\"sing\",\"look\",\"friends\",\"always\",\"hand\",\"boy\",\"we're\",\"am\",\"away\",\"darling\",\"goo\",\"nothing\",\"should\",\"lonely\",\"could\",\"feel\",\"some\",\"night\",\"comes\",\"had\",\"would\",\"better\",\"head\",\"them\",\"four\",\"buy\",\"more\",\"i've\",\"la\",\"mind\",\"two\",\"this\",\"everything\",\"carry\",\"by\",\"our\",\"sunshine\",\"weight\",\"change\",\"us\",\"lucy\",\"birthday\",\"an\",\"true\",\"you'll\",\"every\",\"pretty\",\"three\",\"diamonds\",\"before\",\"believe\",\"these\",\"i'd\",\"words\",\"mm\",\"work\",\"dear\",\"leave\",\"were\",\"mine\",\"there's\",\"nobody\",\"told\",\"money\",\"bom\",\"said\",\"forever\",\"round\",\"children\",\"'cause\",\"something\",\"about\",\"waiting\",\"standing\",\"who\",\"didn't\",\"try\",\"loves\",\"then\",\"hide\",\"saw\",\"prudence\"],\"x\":[20.33721351623535,22.216203689575195,-8.102787017822266,1.773317813873291,2.911106824874878,21.26805877685547,-13.148165702819824,17.688444137573242,-10.72684383392334,0.6450778245925903,-21.79616928100586,-0.024457735940814018,-6.082057952880859,20.5842227935791,18.14739227294922,8.932244300842285,-2.8060836791992188,-11.059774398803711,-9.991092681884766,-3.468629837036133,23.001813888549805,0.47189444303512573,17.355621337890625,24.77857780456543,-10.839496612548828,-3.4282448291778564,20.469764709472656,-3.461956262588501,-11.856609344482422,8.43857479095459,9.258865356445312,15.070874214172363,12.398523330688477,17.66448974609375,21.49596405029297,-2.6633806228637695,-7.360595703125,19.861162185668945,7.377697467803955,14.880964279174805,17.348209381103516,19.137645721435547,0.5987730622291565,20.936269760131836,16.238346099853516,0.5060105919837952,21.458425521850586,11.348882675170898,14.900936126708984,-18.016258239746094,0.14715348184108734,20.370704650878906,7.7314043045043945,16.986997604370117,-1.433623194694519,23.85203742980957,-20.986101150512695,-4.910141944885254,-8.933720588684082,13.107815742492676,22.861108779907227,-14.801252365112305,4.716394424438477,-13.61444091796875,-10.798165321350098,-16.834848403930664,-12.586435317993164,24.279027938842773,-3.183035135269165,3.8116042613983154,-14.142775535583496,-2.4343862533569336,-22.007295608520508,1.324957013130188,-11.39189624786377,-11.691070556640625,-21.33808708190918,-14.914054870605469,-11.435980796813965,-16.832366943359375,-2.2623796463012695,7.814420700073242,10.812674522399902,5.893475532531738,19.909753799438477,-4.623419761657715,13.15294075012207,16.843055725097656,20.281715393066406,18.835603713989258,14.432855606079102,8.11888313293457,18.337419509887695,5.0082688331604,11.642319679260254,18.38624382019043,16.976211547851562,-19.391719818115234,-2.3244402408599854,-1.1225517988204956,-12.796699523925781,-2.165605306625366,19.84605598449707,19.57086753845215,22.531282424926758,6.070457935333252,-1.9043954610824585,-17.324951171875,8.634092330932617,-10.463391304016113,-20.944738388061523,7.158104419708252,-19.391319274902344,-7.634031772613525,24.817150115966797,24.054733276367188,14.739547729492188,-14.006427764892578,9.375184059143066,-21.439586639404297,-11.286052703857422,9.766349792480469,24.674707412719727,8.180205345153809,-7.604899883270264,16.488977432250977,9.429513931274414,11.372793197631836,-19.768619537353516,18.916776657104492,18.071975708007812,-17.834192276000977,18.364952087402344,15.100824356079102,-5.177160263061523,-3.570712089538574,-16.83077049255371,-9.155770301818848,14.917792320251465,11.920853614807129,-10.257319450378418,1.9940822124481201,-10.934569358825684,22.89333724975586,-19.785076141357422,0.07478098571300507,-11.677157402038574,-3.2482361793518066,-9.849534034729004,5.257630825042725,12.929818153381348,8.739849090576172,-12.345702171325684,-14.34518051147461,-13.944889068603516,9.20849323272705,6.597926139831543,-8.660264015197754,-12.220812797546387,13.381232261657715,5.337289333343506,9.496685981750488,16.907867431640625,-8.647396087646484,10.616331100463867,-10.345449447631836,-12.167344093322754,17.379220962524414,19.460004806518555,-7.52860164642334,5.925788402557373,5.578040599822998,-11.370523452758789,-4.979189872741699,-4.45076847076416,12.017892837524414,2.2829766273498535,-7.735288143157959,15.3375825881958,3.587728500366211,19.953489303588867,22.586227416992188,-16.150402069091797,-1.7216264009475708,8.677986145019531,-0.5292882919311523,-11.572860717773438,-6.496603488922119,-1.857082724571228,7.111378192901611,4.363583087921143,-0.22640129923820496,-14.311545372009277,18.657617568969727,-12.494792938232422,-10.468210220336914,1.0308092832565308,14.069523811340332,7.729990005493164,-4.259250164031982],\"xaxis\":\"x\",\"y\":[-0.5605534911155701,4.923434734344482,-11.40911865234375,10.58635425567627,-0.6884176135063171,-2.211209297180176,-3.103476047515869,-4.161292552947998,-12.433084487915039,-19.672515869140625,8.681672096252441,-15.115731239318848,-24.235074996948242,7.616270065307617,13.070355415344238,15.487407684326172,-22.255311965942383,-8.812625885009766,9.455940246582031,-11.43990707397461,6.852531433105469,-19.884828567504883,3.9191079139709473,-4.720794200897217,10.573204040527344,17.73075294494629,8.46396255493164,17.27474594116211,-14.603322982788086,16.976713180541992,-3.9878735542297363,2.4068334102630615,-3.9156243801116943,2.147813558578491,0.8574796319007874,-22.148698806762695,12.573782920837402,-4.607875347137451,5.400912761688232,3.757323741912842,15.285357475280762,1.8343181610107422,18.11103630065918,-3.4437203407287598,-5.148099899291992,-20.709121704101562,3.2555644512176514,12.414913177490234,-2.876654863357544,-6.199455738067627,18.02947998046875,3.7964634895324707,16.670490264892578,0.27160346508026123,16.25737953186035,-4.034992218017578,8.265728950500488,-22.261795043945312,21.61109733581543,10.197386741638184,13.157849311828613,-4.216307640075684,9.271910667419434,14.818042755126953,14.891501426696777,-18.389198303222656,-9.078364372253418,7.267144680023193,16.595674514770508,-3.0763099193573,14.798657417297363,5.5552077293396,-9.096367835998535,-20.465740203857422,-19.689802169799805,-19.230031967163086,-10.186971664428711,-6.266406059265137,-20.569442749023438,-18.399934768676758,6.75168514251709,-16.895689010620117,0.411176860332489,-16.067981719970703,6.179725170135498,12.556300163269043,5.765565872192383,-6.341456413269043,-4.194606781005859,11.975371360778809,10.401232719421387,-15.184698104858398,13.913639068603516,-4.569847583770752,15.64576244354248,15.100030899047852,-10.932950019836426,-5.051956653594971,-14.374685287475586,18.32400894165039,-14.1310396194458,-5.6018781661987305,4.721691608428955,-1.813860535621643,7.590748310089111,-8.751001358032227,17.913110733032227,-11.955324172973633,-6.364975452423096,-11.360045433044434,8.23743724822998,14.037609100341797,-5.049099922180176,-14.58522891998291,-3.5620479583740234,7.251118183135986,8.57492446899414,-7.762204170227051,9.373665809631348,-10.045758247375488,-20.040620803833008,13.133502006530762,-4.5172529220581055,-14.881840705871582,-17.451114654541016,-11.05817699432373,-1.228529930114746,-10.330580711364746,14.002947807312012,-0.5471103191375732,8.15473747253418,-12.044113159179688,5.889120578765869,6.510697841644287,0.2749224305152893,-6.535557746887207,-18.38253402709961,6.274107933044434,1.788659930229187,15.895112037658691,-10.19659423828125,-2.581195831298828,21.482337951660156,13.132935523986816,5.267577648162842,7.577404975891113,2.7272958755493164,-14.402291297912598,21.39156150817871,-9.24666690826416,8.56538200378418,-16.250747680664062,-4.5512871742248535,0.3717879056930542,14.804595947265625,-16.36442756652832,-16.140371322631836,-1.2080718278884888,-14.032904624938965,0.9000856876373291,15.731832504272461,13.336793899536133,6.596545219421387,0.5752197504043579,-10.143556594848633,21.301162719726562,-14.314617156982422,12.903385162353516,1.4254947900772095,-8.392151832580566,1.6653674840927124,13.614850997924805,4.836292743682861,-22.353683471679688,-19.173683166503906,-1.4716856479644775,-7.960489749908447,3.491832733154297,-0.4378451406955719,4.4900922775268555,0.8221163749694824,13.298832893371582,10.353409767150879,5.316342830657959,6.583992958068848,-12.172074317932129,14.763054847717285,12.24638557434082,2.2012341022491455,8.070990562438965,-9.632549285888672,-8.5103759765625,-6.859164237976074,-1.982870101928711,-4.824415683746338,10.155821800231934,14.004467010498047,9.835559844970703,-0.6316981911659241,-19.326152801513672],\"yaxis\":\"y\",\"type\":\"scatter\"}],                        {\"template\":{\"data\":{\"histogram2dcontour\":[{\"type\":\"histogram2dcontour\",\"colorbar\":{\"outlinewidth\":0,\"ticks\":\"\"},\"colorscale\":[[0.0,\"#0d0887\"],[0.1111111111111111,\"#46039f\"],[0.2222222222222222,\"#7201a8\"],[0.3333333333333333,\"#9c179e\"],[0.4444444444444444,\"#bd3786\"],[0.5555555555555556,\"#d8576b\"],[0.6666666666666666,\"#ed7953\"],[0.7777777777777778,\"#fb9f3a\"],[0.8888888888888888,\"#fdca26\"],[1.0,\"#f0f921\"]]}],\"choropleth\":[{\"type\":\"choropleth\",\"colorbar\":{\"outlinewidth\":0,\"ticks\":\"\"}}],\"histogram2d\":[{\"type\":\"histogram2d\",\"colorbar\":{\"outlinewidth\":0,\"ticks\":\"\"},\"colorscale\":[[0.0,\"#0d0887\"],[0.1111111111111111,\"#46039f\"],[0.2222222222222222,\"#7201a8\"],[0.3333333333333333,\"#9c179e\"],[0.4444444444444444,\"#bd3786\"],[0.5555555555555556,\"#d8576b\"],[0.6666666666666666,\"#ed7953\"],[0.7777777777777778,\"#fb9f3a\"],[0.8888888888888888,\"#fdca26\"],[1.0,\"#f0f921\"]]}],\"heatmap\":[{\"type\":\"heatmap\",\"colorbar\":{\"outlinewidth\":0,\"ticks\":\"\"},\"colorscale\":[[0.0,\"#0d0887\"],[0.1111111111111111,\"#46039f\"],[0.2222222222222222,\"#7201a8\"],[0.3333333333333333,\"#9c179e\"],[0.4444444444444444,\"#bd3786\"],[0.5555555555555556,\"#d8576b\"],[0.6666666666666666,\"#ed7953\"],[0.7777777777777778,\"#fb9f3a\"],[0.8888888888888888,\"#fdca26\"],[1.0,\"#f0f921\"]]}],\"heatmapgl\":[{\"type\":\"heatmapgl\",\"colorbar\":{\"outlinewidth\":0,\"ticks\":\"\"},\"colorscale\":[[0.0,\"#0d0887\"],[0.1111111111111111,\"#46039f\"],[0.2222222222222222,\"#7201a8\"],[0.3333333333333333,\"#9c179e\"],[0.4444444444444444,\"#bd3786\"],[0.5555555555555556,\"#d8576b\"],[0.6666666666666666,\"#ed7953\"],[0.7777777777777778,\"#fb9f3a\"],[0.8888888888888888,\"#fdca26\"],[1.0,\"#f0f921\"]]}],\"contourcarpet\":[{\"type\":\"contourcarpet\",\"colorbar\":{\"outlinewidth\":0,\"ticks\":\"\"}}],\"contour\":[{\"type\":\"contour\",\"colorbar\":{\"outlinewidth\":0,\"ticks\":\"\"},\"colorscale\":[[0.0,\"#0d0887\"],[0.1111111111111111,\"#46039f\"],[0.2222222222222222,\"#7201a8\"],[0.3333333333333333,\"#9c179e\"],[0.4444444444444444,\"#bd3786\"],[0.5555555555555556,\"#d8576b\"],[0.6666666666666666,\"#ed7953\"],[0.7777777777777778,\"#fb9f3a\"],[0.8888888888888888,\"#fdca26\"],[1.0,\"#f0f921\"]]}],\"surface\":[{\"type\":\"surface\",\"colorbar\":{\"outlinewidth\":0,\"ticks\":\"\"},\"colorscale\":[[0.0,\"#0d0887\"],[0.1111111111111111,\"#46039f\"],[0.2222222222222222,\"#7201a8\"],[0.3333333333333333,\"#9c179e\"],[0.4444444444444444,\"#bd3786\"],[0.5555555555555556,\"#d8576b\"],[0.6666666666666666,\"#ed7953\"],[0.7777777777777778,\"#fb9f3a\"],[0.8888888888888888,\"#fdca26\"],[1.0,\"#f0f921\"]]}],\"mesh3d\":[{\"type\":\"mesh3d\",\"colorbar\":{\"outlinewidth\":0,\"ticks\":\"\"}}],\"scatter\":[{\"fillpattern\":{\"fillmode\":\"overlay\",\"size\":10,\"solidity\":0.2},\"type\":\"scatter\"}],\"parcoords\":[{\"type\":\"parcoords\",\"line\":{\"colorbar\":{\"outlinewidth\":0,\"ticks\":\"\"}}}],\"scatterpolargl\":[{\"type\":\"scatterpolargl\",\"marker\":{\"colorbar\":{\"outlinewidth\":0,\"ticks\":\"\"}}}],\"bar\":[{\"error_x\":{\"color\":\"#2a3f5f\"},\"error_y\":{\"color\":\"#2a3f5f\"},\"marker\":{\"line\":{\"color\":\"#E5ECF6\",\"width\":0.5},\"pattern\":{\"fillmode\":\"overlay\",\"size\":10,\"solidity\":0.2}},\"type\":\"bar\"}],\"scattergeo\":[{\"type\":\"scattergeo\",\"marker\":{\"colorbar\":{\"outlinewidth\":0,\"ticks\":\"\"}}}],\"scatterpolar\":[{\"type\":\"scatterpolar\",\"marker\":{\"colorbar\":{\"outlinewidth\":0,\"ticks\":\"\"}}}],\"histogram\":[{\"marker\":{\"pattern\":{\"fillmode\":\"overlay\",\"size\":10,\"solidity\":0.2}},\"type\":\"histogram\"}],\"scattergl\":[{\"type\":\"scattergl\",\"marker\":{\"colorbar\":{\"outlinewidth\":0,\"ticks\":\"\"}}}],\"scatter3d\":[{\"type\":\"scatter3d\",\"line\":{\"colorbar\":{\"outlinewidth\":0,\"ticks\":\"\"}},\"marker\":{\"colorbar\":{\"outlinewidth\":0,\"ticks\":\"\"}}}],\"scattermapbox\":[{\"type\":\"scattermapbox\",\"marker\":{\"colorbar\":{\"outlinewidth\":0,\"ticks\":\"\"}}}],\"scatterternary\":[{\"type\":\"scatterternary\",\"marker\":{\"colorbar\":{\"outlinewidth\":0,\"ticks\":\"\"}}}],\"scattercarpet\":[{\"type\":\"scattercarpet\",\"marker\":{\"colorbar\":{\"outlinewidth\":0,\"ticks\":\"\"}}}],\"carpet\":[{\"aaxis\":{\"endlinecolor\":\"#2a3f5f\",\"gridcolor\":\"white\",\"linecolor\":\"white\",\"minorgridcolor\":\"white\",\"startlinecolor\":\"#2a3f5f\"},\"baxis\":{\"endlinecolor\":\"#2a3f5f\",\"gridcolor\":\"white\",\"linecolor\":\"white\",\"minorgridcolor\":\"white\",\"startlinecolor\":\"#2a3f5f\"},\"type\":\"carpet\"}],\"table\":[{\"cells\":{\"fill\":{\"color\":\"#EBF0F8\"},\"line\":{\"color\":\"white\"}},\"header\":{\"fill\":{\"color\":\"#C8D4E3\"},\"line\":{\"color\":\"white\"}},\"type\":\"table\"}],\"barpolar\":[{\"marker\":{\"line\":{\"color\":\"#E5ECF6\",\"width\":0.5},\"pattern\":{\"fillmode\":\"overlay\",\"size\":10,\"solidity\":0.2}},\"type\":\"barpolar\"}],\"pie\":[{\"automargin\":true,\"type\":\"pie\"}]},\"layout\":{\"autotypenumbers\":\"strict\",\"colorway\":[\"#636efa\",\"#EF553B\",\"#00cc96\",\"#ab63fa\",\"#FFA15A\",\"#19d3f3\",\"#FF6692\",\"#B6E880\",\"#FF97FF\",\"#FECB52\"],\"font\":{\"color\":\"#2a3f5f\"},\"hovermode\":\"closest\",\"hoverlabel\":{\"align\":\"left\"},\"paper_bgcolor\":\"white\",\"plot_bgcolor\":\"#E5ECF6\",\"polar\":{\"bgcolor\":\"#E5ECF6\",\"angularaxis\":{\"gridcolor\":\"white\",\"linecolor\":\"white\",\"ticks\":\"\"},\"radialaxis\":{\"gridcolor\":\"white\",\"linecolor\":\"white\",\"ticks\":\"\"}},\"ternary\":{\"bgcolor\":\"#E5ECF6\",\"aaxis\":{\"gridcolor\":\"white\",\"linecolor\":\"white\",\"ticks\":\"\"},\"baxis\":{\"gridcolor\":\"white\",\"linecolor\":\"white\",\"ticks\":\"\"},\"caxis\":{\"gridcolor\":\"white\",\"linecolor\":\"white\",\"ticks\":\"\"}},\"coloraxis\":{\"colorbar\":{\"outlinewidth\":0,\"ticks\":\"\"}},\"colorscale\":{\"sequential\":[[0.0,\"#0d0887\"],[0.1111111111111111,\"#46039f\"],[0.2222222222222222,\"#7201a8\"],[0.3333333333333333,\"#9c179e\"],[0.4444444444444444,\"#bd3786\"],[0.5555555555555556,\"#d8576b\"],[0.6666666666666666,\"#ed7953\"],[0.7777777777777778,\"#fb9f3a\"],[0.8888888888888888,\"#fdca26\"],[1.0,\"#f0f921\"]],\"sequentialminus\":[[0.0,\"#0d0887\"],[0.1111111111111111,\"#46039f\"],[0.2222222222222222,\"#7201a8\"],[0.3333333333333333,\"#9c179e\"],[0.4444444444444444,\"#bd3786\"],[0.5555555555555556,\"#d8576b\"],[0.6666666666666666,\"#ed7953\"],[0.7777777777777778,\"#fb9f3a\"],[0.8888888888888888,\"#fdca26\"],[1.0,\"#f0f921\"]],\"diverging\":[[0,\"#8e0152\"],[0.1,\"#c51b7d\"],[0.2,\"#de77ae\"],[0.3,\"#f1b6da\"],[0.4,\"#fde0ef\"],[0.5,\"#f7f7f7\"],[0.6,\"#e6f5d0\"],[0.7,\"#b8e186\"],[0.8,\"#7fbc41\"],[0.9,\"#4d9221\"],[1,\"#276419\"]]},\"xaxis\":{\"gridcolor\":\"white\",\"linecolor\":\"white\",\"ticks\":\"\",\"title\":{\"standoff\":15},\"zerolinecolor\":\"white\",\"automargin\":true,\"zerolinewidth\":2},\"yaxis\":{\"gridcolor\":\"white\",\"linecolor\":\"white\",\"ticks\":\"\",\"title\":{\"standoff\":15},\"zerolinecolor\":\"white\",\"automargin\":true,\"zerolinewidth\":2},\"scene\":{\"xaxis\":{\"backgroundcolor\":\"#E5ECF6\",\"gridcolor\":\"white\",\"linecolor\":\"white\",\"showbackground\":true,\"ticks\":\"\",\"zerolinecolor\":\"white\",\"gridwidth\":2},\"yaxis\":{\"backgroundcolor\":\"#E5ECF6\",\"gridcolor\":\"white\",\"linecolor\":\"white\",\"showbackground\":true,\"ticks\":\"\",\"zerolinecolor\":\"white\",\"gridwidth\":2},\"zaxis\":{\"backgroundcolor\":\"#E5ECF6\",\"gridcolor\":\"white\",\"linecolor\":\"white\",\"showbackground\":true,\"ticks\":\"\",\"zerolinecolor\":\"white\",\"gridwidth\":2}},\"shapedefaults\":{\"line\":{\"color\":\"#2a3f5f\"}},\"annotationdefaults\":{\"arrowcolor\":\"#2a3f5f\",\"arrowhead\":0,\"arrowwidth\":1},\"geo\":{\"bgcolor\":\"white\",\"landcolor\":\"#E5ECF6\",\"subunitcolor\":\"white\",\"showland\":true,\"showlakes\":true,\"lakecolor\":\"white\"},\"title\":{\"x\":0.05},\"mapbox\":{\"style\":\"light\"}}},\"xaxis\":{\"anchor\":\"y\",\"domain\":[0.0,1.0],\"title\":{\"text\":\"x\"}},\"yaxis\":{\"anchor\":\"x\",\"domain\":[0.0,1.0],\"title\":{\"text\":\"y\"}},\"legend\":{\"tracegroupgap\":0},\"margin\":{\"t\":60}},                        {\"responsive\": true}                    ).then(function(){\n",
       "                            \n",
       "var gd = document.getElementById('6c349fc8-fc39-4deb-8fb5-7c5c9be00293');\n",
       "var x = new MutationObserver(function (mutations, observer) {{\n",
       "        var display = window.getComputedStyle(gd).display;\n",
       "        if (!display || display === 'none') {{\n",
       "            console.log([gd, 'removed!']);\n",
       "            Plotly.purge(gd);\n",
       "            observer.disconnect();\n",
       "        }}\n",
       "}});\n",
       "\n",
       "// Listen for the removal of the full notebook cells\n",
       "var notebookContainer = gd.closest('#notebook-container');\n",
       "if (notebookContainer) {{\n",
       "    x.observe(notebookContainer, {childList: true});\n",
       "}}\n",
       "\n",
       "// Listen for the clearing of the current output cell\n",
       "var outputEl = gd.closest('.output');\n",
       "if (outputEl) {{\n",
       "    x.observe(outputEl, {childList: true});\n",
       "}}\n",
       "\n",
       "                        })                };                            </script>        </div>\n",
       "</body>\n",
       "</html>"
      ]
     },
     "metadata": {},
     "output_type": "display_data"
    }
   ],
   "source": [
    "# Graficar los embedddings en 2D\n",
    "import plotly.graph_objects as go\n",
    "import plotly.express as px\n",
    "\n",
    "vecs, labels = reduce_dimensions(w2v_model)\n",
    "\n",
    "MAX_WORDS=200\n",
    "fig = px.scatter(x=vecs[:MAX_WORDS,0], y=vecs[:MAX_WORDS,1], text=labels[:MAX_WORDS])\n",
    "fig.show(renderer=\"colab\") # esto para plotly en colab"
   ]
  },
  {
   "cell_type": "code",
   "execution_count": 24,
   "metadata": {},
   "outputs": [
    {
     "data": {
      "text/html": [
       "<html>\n",
       "<head><meta charset=\"utf-8\" /></head>\n",
       "<body>\n",
       "    <div>            <script src=\"https://cdnjs.cloudflare.com/ajax/libs/mathjax/2.7.5/MathJax.js?config=TeX-AMS-MML_SVG\"></script><script type=\"text/javascript\">if (window.MathJax && window.MathJax.Hub && window.MathJax.Hub.Config) {window.MathJax.Hub.Config({SVG: {font: \"STIX-Web\"}});}</script>                <script type=\"text/javascript\">window.PlotlyConfig = {MathJaxConfig: 'local'};</script>\n",
       "        <script charset=\"utf-8\" src=\"https://cdn.plot.ly/plotly-2.35.2.min.js\"></script>                <div id=\"c93c1690-8cd3-4254-a978-3755218b7bc2\" class=\"plotly-graph-div\" style=\"height:525px; width:100%;\"></div>            <script type=\"text/javascript\">                                    window.PLOTLYENV=window.PLOTLYENV || {};                                    if (document.getElementById(\"c93c1690-8cd3-4254-a978-3755218b7bc2\")) {                    Plotly.newPlot(                        \"c93c1690-8cd3-4254-a978-3755218b7bc2\",                        [{\"hovertemplate\":\"x=%{x}\\u003cbr\\u003ey=%{y}\\u003cbr\\u003ez=%{z}\\u003cbr\\u003etext=%{text}\\u003cextra\\u003e\\u003c\\u002fextra\\u003e\",\"legendgroup\":\"\",\"marker\":{\"color\":\"#636efa\",\"symbol\":\"circle\",\"size\":2},\"mode\":\"markers+text\",\"name\":\"\",\"scene\":\"scene\",\"showlegend\":false,\"text\":[\"you\",\"i\",\"the\",\"to\",\"and\",\"love\",\"a\",\"me\",\"in\",\"all\",\"nah\",\"my\",\"it\",\"know\",\"that\",\"be\",\"on\",\"of\",\"she\",\"is\",\"say\",\"now\",\"oh\",\"your\",\"yeah\",\"get\",\"don't\",\"back\",\"with\",\"let\",\"her\",\"can\",\"it's\",\"do\",\"when\",\"come\",\"i'm\",\"will\",\"he\",\"but\",\"for\",\"so\",\"there\",\"need\",\"like\",\"together\",\"no\",\"i'll\",\"see\",\"we\",\"was\",\"never\",\"down\",\"if\",\"way\",\"want\",\"hey\",\"out\",\"one\",\"got\",\"can't\",\"girl\",\"well\",\"good\",\"go\",\"sun\",\"his\",\"hello\",\"home\",\"they\",\"day\",\"are\",\"ah\",\"right\",\"from\",\"little\",\"at\",\"man\",\"help\",\"here\",\"have\",\"gonna\",\"not\",\"world\",\"what\",\"going\",\"how\",\"please\",\"still\",\"too\",\"just\",\"you're\",\"time\",\"as\",\"make\",\"long\",\"yes\",\"yellow\",\"life\",\"once\",\"sky\",\"been\",\"think\",\"tell\",\"why\",\"only\",\"where\",\"people\",\"she's\",\"eyes\",\"jude\",\"take\",\"submarine\",\"up\",\"hold\",\"goodbye\",\"give\",\"nowhere\",\"sing\",\"look\",\"friends\",\"always\",\"hand\",\"boy\",\"we're\",\"am\",\"away\",\"darling\",\"goo\",\"nothing\",\"should\",\"lonely\",\"could\",\"feel\",\"some\",\"night\",\"comes\",\"had\",\"would\",\"better\",\"head\",\"them\",\"four\",\"buy\",\"more\",\"i've\",\"la\",\"mind\",\"two\",\"this\",\"everything\",\"carry\",\"by\",\"our\",\"sunshine\",\"weight\",\"change\",\"us\",\"lucy\",\"birthday\",\"an\",\"true\",\"you'll\",\"every\",\"pretty\",\"three\",\"diamonds\",\"before\",\"believe\",\"these\",\"i'd\",\"words\",\"mm\",\"work\",\"dear\",\"leave\",\"were\",\"mine\",\"there's\",\"nobody\",\"told\",\"money\",\"bom\",\"said\",\"forever\",\"round\",\"children\",\"'cause\",\"something\",\"about\",\"waiting\",\"standing\",\"who\",\"didn't\",\"try\",\"loves\",\"then\",\"hide\",\"saw\",\"prudence\"],\"x\":[32.73423385620117,36.59402084350586,-31.871578216552734,-3.517547845840454,-5.519509792327881,27.6901798248291,-37.39860153198242,29.710878372192383,-32.15889358520508,-29.403282165527344,15.608794212341309,-28.977195739746094,-12.650446891784668,35.51605987548828,7.814728260040283,26.619935989379883,-26.79759407043457,-27.708297729492188,19.80056381225586,-25.174955368041992,38.8040885925293,-28.359981536865234,38.17791748046875,10.501598358154297,25.7860050201416,-3.6749203205108643,34.66616439819336,-7.717949390411377,-39.84763717651367,29.414562225341797,3.264343023300171,20.324405670166016,13.242290496826172,37.58466339111328,37.935585021972656,-28.911405563354492,11.10867977142334,25.002395629882812,6.137064456939697,13.255032539367676,-18.172771453857422,28.22710609436035,-11.463295936584473,25.913875579833984,29.404024124145508,-25.854167938232422,29.524761199951172,26.96013641357422,11.519737243652344,-13.703803062438965,-9.353148460388184,28.363201141357422,27.853748321533203,20.368276596069336,-11.862083435058594,17.48483657836914,18.15871810913086,-19.107280731201172,2.2458114624023438,17.834333419799805,19.257686614990234,-29.112680435180664,9.166648864746094,13.84013557434082,23.107955932617188,-30.322525024414062,-24.649782180786133,45.20939636230469,-9.225356101989746,-6.0703125,8.857112884521484,-11.518409729003906,-0.5322498679161072,-26.429044723510742,-39.07560348510742,-38.79010772705078,-9.026077270507812,-12.141036987304688,-39.190284729003906,-29.156448364257812,-4.352181434631348,-5.1380839347839355,14.37954330444336,-15.509942054748535,35.9012336730957,-0.08710483461618423,27.427095413208008,35.57725524902344,26.14497184753418,14.703716278076172,22.360103607177734,-7.669434070587158,10.240857124328613,-13.732481956481934,21.756711959838867,11.57790470123291,13.398226737976074,-23.438875198364258,-26.611120223999023,-6.327959060668945,-37.32544708251953,-19.66105842590332,29.002437591552734,32.199825286865234,39.69807052612305,-11.076224327087402,-2.5184736251831055,-18.14618682861328,-3.70558500289917,-30.743757247924805,18.957210540771484,21.84053611755371,-22.414033889770508,-25.411697387695312,14.830486297607422,43.8267822265625,14.853108406066895,-17.4515380859375,2.5714590549468994,-5.518901348114014,-36.281959533691406,23.443859100341797,13.449015617370605,-4.979149341583252,-19.483409881591797,9.389961242675781,6.5995259284973145,-38.408843994140625,3.896327495574951,26.6451473236084,34.05050277709961,-21.86136245727539,25.881505966186523,23.594402313232422,-19.81333351135254,-19.643360137939453,-29.34951400756836,13.403407096862793,20.814437866210938,21.075288772583008,-25.93808937072754,-0.7656903862953186,10.539084434509277,22.99818229675293,9.91073226928711,9.805061340332031,5.017544746398926,-31.176122665405273,6.3875627517700195,-14.011251449584961,15.177757263183594,-7.601221084594727,-36.27216339111328,-16.099451065063477,11.380908012390137,-3.5018508434295654,-11.087967872619629,-7.759243488311768,-37.85219955444336,14.472817420959473,3.712596893310547,23.049707412719727,29.9503116607666,-6.352963924407959,-40.79256057739258,9.39007568359375,-41.453041076660156,6.07508659362793,30.600318908691406,-21.824438095092773,7.368764877319336,15.637104988098145,3.2883810997009277,-20.600406646728516,-15.284961700439453,21.009967803955078,-17.626344680786133,-1.7843031883239746,18.658985137939453,8.354849815368652,33.103153228759766,19.31484031677246,-3.5652403831481934,-6.244638919830322,9.719977378845215,-17.636991500854492,18.5999698638916,13.049371719360352,-1.1498059034347534,6.5121541023254395,-19.12844467163086,-19.947067260742188,-16.721935272216797,27.89649200439453,-36.1092643737793,22.25795555114746,-7.5293169021606445,21.245023727416992,9.872515678405762,-19.304080963134766],\"y\":[-22.89284324645996,-7.425326347351074,4.427110195159912,-6.978397846221924,-0.3091956377029419,-28.780122756958008,4.640786170959473,-15.616708755493164,11.805828094482422,-23.71914291381836,29.40361785888672,-18.51028060913086,-16.306650161743164,4.873166561126709,35.09575653076172,20.736865997314453,-11.928296089172363,15.49755859375,5.721670627593994,-4.4723029136657715,0.07076630741357803,-21.74354362487793,-4.501531600952148,-30.090879440307617,-0.9471293687820435,-29.79924964904785,9.45980453491211,-32.58326721191406,4.239068984985352,19.533767700195312,-21.045106887817383,-9.368460655212402,-18.066736221313477,-12.72408390045166,-16.020069122314453,-15.848323822021484,-6.804898738861084,-22.512435913085938,-5.082089900970459,-5.1369309425354,26.150211334228516,-11.06358528137207,-30.862041473388672,-28.761760711669922,-15.905517578125,-24.41944122314453,-6.728646278381348,6.649069309234619,-23.48588752746582,22.351638793945312,-30.64052963256836,-0.000512260477989912,14.656919479370117,-17.55051040649414,-25.932077407836914,-29.106779098510742,24.86871337890625,-14.948427200317383,-22.046993255615234,11.723440170288086,-3.021653175354004,19.225963592529297,15.556697845458984,-0.654081404209137,-4.930083274841309,9.497695922851562,15.741013526916504,-1.8004673719406128,-27.807992935180664,3.374756336212158,-1.0794978141784668,-0.6503643989562988,11.271477699279785,-27.82254409790039,-9.79434585571289,-7.341854572296143,9.654141426086426,20.166587829589844,-13.610692977905273,5.541337013244629,3.5208899974823,-10.134405136108398,-16.054929733276367,-12.117657661437988,-0.36547955870628357,-15.434290885925293,-0.37726449966430664,-11.547755241394043,-26.559438705444336,31.6842041015625,5.882321834564209,-10.299787521362305,32.13718032836914,34.23984909057617,15.10806941986084,33.55879211425781,-27.360328674316406,22.95997428894043,-14.27684497833252,-34.394412994384766,4.637787342071533,9.741960525512695,-6.900439739227295,-21.800189971923828,4.597565174102783,23.763587951660156,-30.9265079498291,4.915077209472656,26.982933044433594,11.88558292388916,25.207181930541992,11.811661720275879,25.32659149169922,-4.590101718902588,-32.78171157836914,0.48670217394828796,11.109528541564941,16.389671325683594,-13.760056495666504,10.64111614227295,-12.695155143737793,14.155487060546875,-31.990699768066406,-13.229016304016113,-18.69627571105957,-26.30278205871582,-13.45738410949707,-10.959084510803223,26.831483840942383,-25.478933334350586,8.250764846801758,7.5428032875061035,-0.043474312871694565,7.208591938018799,27.706867218017578,15.267496109008789,6.113580226898193,11.130605697631836,-10.285901069641113,18.055255889892578,12.287796974182129,14.217020988464355,-20.785261154174805,-1.5430086851119995,15.953849792480469,7.2510881423950195,12.559722900390625,-13.21522045135498,-19.70393943786621,20.15946388244629,5.231078147888184,-5.954090118408203,-0.8850566148757935,-24.38995933532715,2.1653003692626953,-4.711849212646484,-11.482672691345215,-2.1141161918640137,8.447721481323242,-12.255863189697266,34.02909469604492,14.280268669128418,2.1964573860168457,5.8763957023620605,-6.828134536743164,-23.143665313720703,6.152721881866455,30.0821590423584,-12.473851203918457,-2.2361156940460205,-1.7423332929611206,19.757104873657227,25.73932647705078,-16.320476531982422,-6.570774078369141,6.3042755126953125,1.9985061883926392,18.344385147094727,-23.048730850219727,6.696770668029785,-16.095468521118164,0.975486159324646,36.842342376708984,-1.368593454360962,-17.699392318725586,-11.488566398620605,-2.3269221782684326,-7.049874782562256,-4.757697582244873,-5.535465717315674,20.05259132385254,7.750484943389893,17.3789005279541,-19.447023391723633,-1.693572759628296,1.730597734451294,-22.706199645996094,9.270172119140625,-12.518482208251953,-7.293192386627197],\"z\":[-11.70120906829834,-1.2495123147964478,10.892605781555176,-21.24614143371582,-10.609582901000977,-7.9516215324401855,2.268111228942871,0.10811776667833328,18.27495574951172,-6.174980163574219,-19.89598846435547,16.427602767944336,-24.198856353759766,-5.263427257537842,-5.501716136932373,2.5427393913269043,-15.861991882324219,3.5109193325042725,15.08669376373291,23.583219528198242,1.594033122062683,-9.310043334960938,-14.422205924987793,-15.596719741821289,15.544780731201172,11.319099426269531,-2.894042491912842,9.796835899353027,13.973091125488281,-3.218859910964966,-19.117998123168945,-21.175729751586914,-14.379809379577637,-13.678373336791992,-4.733089923858643,-16.15320587158203,18.643131256103516,4.384062767028809,-14.590349197387695,-20.910362243652344,-10.096068382263184,-12.69417953491211,-4.81274938583374,-2.4998040199279785,-19.320646286010742,-12.437789916992188,4.29924201965332,4.659521102905273,-8.45437240600586,23.110151290893555,-1.2222964763641357,2.480316638946533,-3.5807974338531494,-14.569158554077148,4.950413703918457,-13.595146179199219,-22.059173583984375,-17.39650535583496,24.548198699951172,-27.231719970703125,-32.21644973754883,-4.5599470138549805,-11.2434720993042,33.08638000488281,28.10020637512207,-14.654972076416016,15.288291931152344,2.3287198543548584,11.204690933227539,-20.369384765625,31.735408782958984,-30.296043395996094,34.511207580566406,-8.498149871826172,9.351673126220703,5.366779327392578,35.465152740478516,10.308252334594727,4.493869304656982,-16.341646194458008,-32.52610397338867,26.874107360839844,-27.055078506469727,26.89219856262207,-8.74582576751709,16.934995651245117,-20.440956115722656,-21.296464920043945,2.1577088832855225,-5.023323059082031,-26.908971786499023,34.211021423339844,-1.3385238647460938,-6.537040710449219,-11.913056373596191,4.0829758644104,6.061725616455078,22.674760818481445,9.057555198669434,1.9712060689926147,20.031330108642578,-5.804985046386719,-2.8453900814056396,-3.9711663722991943,-1.0365607738494873,-12.943059921264648,4.532634735107422,30.349895477294922,-20.800508499145508,12.938982963562012,-18.005983352661133,-3.617428779602051,19.829509735107422,-10.283773422241211,-9.451077461242676,-0.6076090335845947,-20.574655532836914,15.789359092712402,-30.177902221679688,35.584983825683594,8.088520050048828,8.646480560302734,-14.353631019592285,33.42745590209961,-3.9024875164031982,3.00551700592041,-13.81971549987793,-3.5841434001922607,25.498733520507812,-13.552465438842773,-10.508400917053223,32.3802604675293,-4.636672019958496,-14.70107650756836,1.6318305730819702,-1.1420660018920898,-12.184581756591797,17.83414649963379,-15.802903175354004,-15.198698043823242,10.552327156066895,-25.94491958618164,28.678754806518555,-32.888206481933594,-23.39475440979004,-25.984527587890625,29.32175636291504,13.582334518432617,25.00905418395996,-11.02424144744873,-23.86408042907715,30.431367874145508,0.22152742743492126,3.6562209129333496,31.146015167236328,31.471826553344727,25.71588706970215,18.338863372802734,16.753923416137695,-11.873137474060059,10.724471092224121,4.48364782333374,-12.396465301513672,25.444442749023438,-2.985954523086548,24.308019638061523,17.68761444091797,-6.24300479888916,-8.897762298583984,0.19575834274291992,-30.17417335510254,2.8502700328826904,4.014133930206299,-20.62356948852539,-17.207298278808594,-1.3826639652252197,-7.153133869171143,2.315397262573242,-3.5934946537017822,0.7699515223503113,-7.550465106964111,-34.455814361572266,0.43241390585899353,-28.797277450561523,9.787206649780273,19.254348754882812,29.627092361450195,13.551240921020508,5.653280258178711,-22.145368576049805,-11.282160758972168,-17.82961082458496,10.619142532348633,-6.04919958114624,-4.215409755706787,15.655922889709473,-8.384257316589355,-23.506671905517578,2.8422274589538574,-18.260828018188477],\"type\":\"scatter3d\"}],                        {\"template\":{\"data\":{\"histogram2dcontour\":[{\"type\":\"histogram2dcontour\",\"colorbar\":{\"outlinewidth\":0,\"ticks\":\"\"},\"colorscale\":[[0.0,\"#0d0887\"],[0.1111111111111111,\"#46039f\"],[0.2222222222222222,\"#7201a8\"],[0.3333333333333333,\"#9c179e\"],[0.4444444444444444,\"#bd3786\"],[0.5555555555555556,\"#d8576b\"],[0.6666666666666666,\"#ed7953\"],[0.7777777777777778,\"#fb9f3a\"],[0.8888888888888888,\"#fdca26\"],[1.0,\"#f0f921\"]]}],\"choropleth\":[{\"type\":\"choropleth\",\"colorbar\":{\"outlinewidth\":0,\"ticks\":\"\"}}],\"histogram2d\":[{\"type\":\"histogram2d\",\"colorbar\":{\"outlinewidth\":0,\"ticks\":\"\"},\"colorscale\":[[0.0,\"#0d0887\"],[0.1111111111111111,\"#46039f\"],[0.2222222222222222,\"#7201a8\"],[0.3333333333333333,\"#9c179e\"],[0.4444444444444444,\"#bd3786\"],[0.5555555555555556,\"#d8576b\"],[0.6666666666666666,\"#ed7953\"],[0.7777777777777778,\"#fb9f3a\"],[0.8888888888888888,\"#fdca26\"],[1.0,\"#f0f921\"]]}],\"heatmap\":[{\"type\":\"heatmap\",\"colorbar\":{\"outlinewidth\":0,\"ticks\":\"\"},\"colorscale\":[[0.0,\"#0d0887\"],[0.1111111111111111,\"#46039f\"],[0.2222222222222222,\"#7201a8\"],[0.3333333333333333,\"#9c179e\"],[0.4444444444444444,\"#bd3786\"],[0.5555555555555556,\"#d8576b\"],[0.6666666666666666,\"#ed7953\"],[0.7777777777777778,\"#fb9f3a\"],[0.8888888888888888,\"#fdca26\"],[1.0,\"#f0f921\"]]}],\"heatmapgl\":[{\"type\":\"heatmapgl\",\"colorbar\":{\"outlinewidth\":0,\"ticks\":\"\"},\"colorscale\":[[0.0,\"#0d0887\"],[0.1111111111111111,\"#46039f\"],[0.2222222222222222,\"#7201a8\"],[0.3333333333333333,\"#9c179e\"],[0.4444444444444444,\"#bd3786\"],[0.5555555555555556,\"#d8576b\"],[0.6666666666666666,\"#ed7953\"],[0.7777777777777778,\"#fb9f3a\"],[0.8888888888888888,\"#fdca26\"],[1.0,\"#f0f921\"]]}],\"contourcarpet\":[{\"type\":\"contourcarpet\",\"colorbar\":{\"outlinewidth\":0,\"ticks\":\"\"}}],\"contour\":[{\"type\":\"contour\",\"colorbar\":{\"outlinewidth\":0,\"ticks\":\"\"},\"colorscale\":[[0.0,\"#0d0887\"],[0.1111111111111111,\"#46039f\"],[0.2222222222222222,\"#7201a8\"],[0.3333333333333333,\"#9c179e\"],[0.4444444444444444,\"#bd3786\"],[0.5555555555555556,\"#d8576b\"],[0.6666666666666666,\"#ed7953\"],[0.7777777777777778,\"#fb9f3a\"],[0.8888888888888888,\"#fdca26\"],[1.0,\"#f0f921\"]]}],\"surface\":[{\"type\":\"surface\",\"colorbar\":{\"outlinewidth\":0,\"ticks\":\"\"},\"colorscale\":[[0.0,\"#0d0887\"],[0.1111111111111111,\"#46039f\"],[0.2222222222222222,\"#7201a8\"],[0.3333333333333333,\"#9c179e\"],[0.4444444444444444,\"#bd3786\"],[0.5555555555555556,\"#d8576b\"],[0.6666666666666666,\"#ed7953\"],[0.7777777777777778,\"#fb9f3a\"],[0.8888888888888888,\"#fdca26\"],[1.0,\"#f0f921\"]]}],\"mesh3d\":[{\"type\":\"mesh3d\",\"colorbar\":{\"outlinewidth\":0,\"ticks\":\"\"}}],\"scatter\":[{\"fillpattern\":{\"fillmode\":\"overlay\",\"size\":10,\"solidity\":0.2},\"type\":\"scatter\"}],\"parcoords\":[{\"type\":\"parcoords\",\"line\":{\"colorbar\":{\"outlinewidth\":0,\"ticks\":\"\"}}}],\"scatterpolargl\":[{\"type\":\"scatterpolargl\",\"marker\":{\"colorbar\":{\"outlinewidth\":0,\"ticks\":\"\"}}}],\"bar\":[{\"error_x\":{\"color\":\"#2a3f5f\"},\"error_y\":{\"color\":\"#2a3f5f\"},\"marker\":{\"line\":{\"color\":\"#E5ECF6\",\"width\":0.5},\"pattern\":{\"fillmode\":\"overlay\",\"size\":10,\"solidity\":0.2}},\"type\":\"bar\"}],\"scattergeo\":[{\"type\":\"scattergeo\",\"marker\":{\"colorbar\":{\"outlinewidth\":0,\"ticks\":\"\"}}}],\"scatterpolar\":[{\"type\":\"scatterpolar\",\"marker\":{\"colorbar\":{\"outlinewidth\":0,\"ticks\":\"\"}}}],\"histogram\":[{\"marker\":{\"pattern\":{\"fillmode\":\"overlay\",\"size\":10,\"solidity\":0.2}},\"type\":\"histogram\"}],\"scattergl\":[{\"type\":\"scattergl\",\"marker\":{\"colorbar\":{\"outlinewidth\":0,\"ticks\":\"\"}}}],\"scatter3d\":[{\"type\":\"scatter3d\",\"line\":{\"colorbar\":{\"outlinewidth\":0,\"ticks\":\"\"}},\"marker\":{\"colorbar\":{\"outlinewidth\":0,\"ticks\":\"\"}}}],\"scattermapbox\":[{\"type\":\"scattermapbox\",\"marker\":{\"colorbar\":{\"outlinewidth\":0,\"ticks\":\"\"}}}],\"scatterternary\":[{\"type\":\"scatterternary\",\"marker\":{\"colorbar\":{\"outlinewidth\":0,\"ticks\":\"\"}}}],\"scattercarpet\":[{\"type\":\"scattercarpet\",\"marker\":{\"colorbar\":{\"outlinewidth\":0,\"ticks\":\"\"}}}],\"carpet\":[{\"aaxis\":{\"endlinecolor\":\"#2a3f5f\",\"gridcolor\":\"white\",\"linecolor\":\"white\",\"minorgridcolor\":\"white\",\"startlinecolor\":\"#2a3f5f\"},\"baxis\":{\"endlinecolor\":\"#2a3f5f\",\"gridcolor\":\"white\",\"linecolor\":\"white\",\"minorgridcolor\":\"white\",\"startlinecolor\":\"#2a3f5f\"},\"type\":\"carpet\"}],\"table\":[{\"cells\":{\"fill\":{\"color\":\"#EBF0F8\"},\"line\":{\"color\":\"white\"}},\"header\":{\"fill\":{\"color\":\"#C8D4E3\"},\"line\":{\"color\":\"white\"}},\"type\":\"table\"}],\"barpolar\":[{\"marker\":{\"line\":{\"color\":\"#E5ECF6\",\"width\":0.5},\"pattern\":{\"fillmode\":\"overlay\",\"size\":10,\"solidity\":0.2}},\"type\":\"barpolar\"}],\"pie\":[{\"automargin\":true,\"type\":\"pie\"}]},\"layout\":{\"autotypenumbers\":\"strict\",\"colorway\":[\"#636efa\",\"#EF553B\",\"#00cc96\",\"#ab63fa\",\"#FFA15A\",\"#19d3f3\",\"#FF6692\",\"#B6E880\",\"#FF97FF\",\"#FECB52\"],\"font\":{\"color\":\"#2a3f5f\"},\"hovermode\":\"closest\",\"hoverlabel\":{\"align\":\"left\"},\"paper_bgcolor\":\"white\",\"plot_bgcolor\":\"#E5ECF6\",\"polar\":{\"bgcolor\":\"#E5ECF6\",\"angularaxis\":{\"gridcolor\":\"white\",\"linecolor\":\"white\",\"ticks\":\"\"},\"radialaxis\":{\"gridcolor\":\"white\",\"linecolor\":\"white\",\"ticks\":\"\"}},\"ternary\":{\"bgcolor\":\"#E5ECF6\",\"aaxis\":{\"gridcolor\":\"white\",\"linecolor\":\"white\",\"ticks\":\"\"},\"baxis\":{\"gridcolor\":\"white\",\"linecolor\":\"white\",\"ticks\":\"\"},\"caxis\":{\"gridcolor\":\"white\",\"linecolor\":\"white\",\"ticks\":\"\"}},\"coloraxis\":{\"colorbar\":{\"outlinewidth\":0,\"ticks\":\"\"}},\"colorscale\":{\"sequential\":[[0.0,\"#0d0887\"],[0.1111111111111111,\"#46039f\"],[0.2222222222222222,\"#7201a8\"],[0.3333333333333333,\"#9c179e\"],[0.4444444444444444,\"#bd3786\"],[0.5555555555555556,\"#d8576b\"],[0.6666666666666666,\"#ed7953\"],[0.7777777777777778,\"#fb9f3a\"],[0.8888888888888888,\"#fdca26\"],[1.0,\"#f0f921\"]],\"sequentialminus\":[[0.0,\"#0d0887\"],[0.1111111111111111,\"#46039f\"],[0.2222222222222222,\"#7201a8\"],[0.3333333333333333,\"#9c179e\"],[0.4444444444444444,\"#bd3786\"],[0.5555555555555556,\"#d8576b\"],[0.6666666666666666,\"#ed7953\"],[0.7777777777777778,\"#fb9f3a\"],[0.8888888888888888,\"#fdca26\"],[1.0,\"#f0f921\"]],\"diverging\":[[0,\"#8e0152\"],[0.1,\"#c51b7d\"],[0.2,\"#de77ae\"],[0.3,\"#f1b6da\"],[0.4,\"#fde0ef\"],[0.5,\"#f7f7f7\"],[0.6,\"#e6f5d0\"],[0.7,\"#b8e186\"],[0.8,\"#7fbc41\"],[0.9,\"#4d9221\"],[1,\"#276419\"]]},\"xaxis\":{\"gridcolor\":\"white\",\"linecolor\":\"white\",\"ticks\":\"\",\"title\":{\"standoff\":15},\"zerolinecolor\":\"white\",\"automargin\":true,\"zerolinewidth\":2},\"yaxis\":{\"gridcolor\":\"white\",\"linecolor\":\"white\",\"ticks\":\"\",\"title\":{\"standoff\":15},\"zerolinecolor\":\"white\",\"automargin\":true,\"zerolinewidth\":2},\"scene\":{\"xaxis\":{\"backgroundcolor\":\"#E5ECF6\",\"gridcolor\":\"white\",\"linecolor\":\"white\",\"showbackground\":true,\"ticks\":\"\",\"zerolinecolor\":\"white\",\"gridwidth\":2},\"yaxis\":{\"backgroundcolor\":\"#E5ECF6\",\"gridcolor\":\"white\",\"linecolor\":\"white\",\"showbackground\":true,\"ticks\":\"\",\"zerolinecolor\":\"white\",\"gridwidth\":2},\"zaxis\":{\"backgroundcolor\":\"#E5ECF6\",\"gridcolor\":\"white\",\"linecolor\":\"white\",\"showbackground\":true,\"ticks\":\"\",\"zerolinecolor\":\"white\",\"gridwidth\":2}},\"shapedefaults\":{\"line\":{\"color\":\"#2a3f5f\"}},\"annotationdefaults\":{\"arrowcolor\":\"#2a3f5f\",\"arrowhead\":0,\"arrowwidth\":1},\"geo\":{\"bgcolor\":\"white\",\"landcolor\":\"#E5ECF6\",\"subunitcolor\":\"white\",\"showland\":true,\"showlakes\":true,\"lakecolor\":\"white\"},\"title\":{\"x\":0.05},\"mapbox\":{\"style\":\"light\"}}},\"scene\":{\"domain\":{\"x\":[0.0,1.0],\"y\":[0.0,1.0]},\"xaxis\":{\"title\":{\"text\":\"x\"}},\"yaxis\":{\"title\":{\"text\":\"y\"}},\"zaxis\":{\"title\":{\"text\":\"z\"}}},\"legend\":{\"tracegroupgap\":0},\"margin\":{\"t\":60}},                        {\"responsive\": true}                    ).then(function(){\n",
       "                            \n",
       "var gd = document.getElementById('c93c1690-8cd3-4254-a978-3755218b7bc2');\n",
       "var x = new MutationObserver(function (mutations, observer) {{\n",
       "        var display = window.getComputedStyle(gd).display;\n",
       "        if (!display || display === 'none') {{\n",
       "            console.log([gd, 'removed!']);\n",
       "            Plotly.purge(gd);\n",
       "            observer.disconnect();\n",
       "        }}\n",
       "}});\n",
       "\n",
       "// Listen for the removal of the full notebook cells\n",
       "var notebookContainer = gd.closest('#notebook-container');\n",
       "if (notebookContainer) {{\n",
       "    x.observe(notebookContainer, {childList: true});\n",
       "}}\n",
       "\n",
       "// Listen for the clearing of the current output cell\n",
       "var outputEl = gd.closest('.output');\n",
       "if (outputEl) {{\n",
       "    x.observe(outputEl, {childList: true});\n",
       "}}\n",
       "\n",
       "                        })                };                            </script>        </div>\n",
       "</body>\n",
       "</html>"
      ]
     },
     "metadata": {},
     "output_type": "display_data"
    }
   ],
   "source": [
    "# Graficar los embedddings en 3D\n",
    "\n",
    "vecs, labels = reduce_dimensions(w2v_model,3)\n",
    "\n",
    "fig = px.scatter_3d(x=vecs[:MAX_WORDS,0], y=vecs[:MAX_WORDS,1], z=vecs[:MAX_WORDS,2],text=labels[:MAX_WORDS])\n",
    "fig.update_traces(marker_size = 2)\n",
    "fig.show(renderer=\"colab\") # esto para plotly en colab"
   ]
  },
  {
   "cell_type": "code",
   "execution_count": 25,
   "metadata": {},
   "outputs": [],
   "source": [
    "# También se pueden guardar los vectores y labels como tsv para graficar en\n",
    "# http://projector.tensorflow.org/\n",
    "\n",
    "\n",
    "vectors = np.asarray(w2v_model.wv.vectors)\n",
    "labels = list(w2v_model.wv.index_to_key)\n",
    "\n",
    "np.savetxt(\"vectors.tsv\", vectors, delimiter=\"\\t\")\n",
    "\n",
    "with open(\"labels.tsv\", \"w\") as fp:\n",
    "    for item in labels:\n",
    "        fp.write(\"%s\\n\" % item)"
   ]
  },
  {
   "cell_type": "markdown",
   "metadata": {
    "id": "yMM_SHSaZ9N-"
   },
   "source": [
    "### Alumno"
   ]
  },
  {
   "cell_type": "markdown",
   "metadata": {
    "id": "WivQZ3ZCZ9N_"
   },
   "source": [
    "- Crear sus propios vectores con Gensim basado en lo visto en clase con otro dataset.\n",
    "- Probar términos de interés y explicar similitudes en el espacio de embeddings (sacar conclusiones entre palabras similitudes y diferencias).\n",
    "- Graficarlos.\n",
    "- Obtener conclusiones."
   ]
  }
 ],
 "metadata": {
  "colab": {
   "collapsed_sections": [],
   "provenance": []
  },
  "kernelspec": {
   "display_name": "ia_ceia_18co",
   "language": "python",
   "name": "python3"
  },
  "language_info": {
   "codemirror_mode": {
    "name": "ipython",
    "version": 3
   },
   "file_extension": ".py",
   "mimetype": "text/x-python",
   "name": "python",
   "nbconvert_exporter": "python",
   "pygments_lexer": "ipython3",
   "version": "3.10.13"
  }
 },
 "nbformat": 4,
 "nbformat_minor": 4
}
